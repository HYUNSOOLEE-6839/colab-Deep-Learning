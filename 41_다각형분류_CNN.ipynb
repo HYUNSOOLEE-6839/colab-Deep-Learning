{
  "nbformat": 4,
  "nbformat_minor": 0,
  "metadata": {
    "colab": {
      "name": "41_다각형분류_CNN.ipynb",
      "provenance": [],
      "collapsed_sections": [],
      "authorship_tag": "ABX9TyNnjNG/O8/y8GkQAXsYHcu4",
      "include_colab_link": true
    },
    "kernelspec": {
      "name": "python3",
      "display_name": "Python 3"
    }
  },
  "cells": [
    {
      "cell_type": "markdown",
      "metadata": {
        "id": "view-in-github",
        "colab_type": "text"
      },
      "source": [
        "<a href=\"https://colab.research.google.com/github/HYUNSOOLEE-6839/colab-Deep-Learning/blob/main/41_%EB%8B%A4%EA%B0%81%ED%98%95%EB%B6%84%EB%A5%98_CNN.ipynb\" target=\"_parent\"><img src=\"https://colab.research.google.com/assets/colab-badge.svg\" alt=\"Open In Colab\"/></a>"
      ]
    },
    {
      "cell_type": "markdown",
      "metadata": {
        "id": "Z-TMgM2pcR35"
      },
      "source": [
        "# 원, 삼각형, 사각형 구분하기"
      ]
    },
    {
      "cell_type": "code",
      "metadata": {
        "id": "NiRQQ0XXaiKQ"
      },
      "source": [
        "!unzip -qq handwriting_shape.zip -d handwriting_shape"
      ],
      "execution_count": 3,
      "outputs": []
    },
    {
      "cell_type": "code",
      "metadata": {
        "id": "TUUzrRuZcX5Y"
      },
      "source": [
        "!unzip -qq hard_handwriting_shape.zip -d hard_handwriting_shape"
      ],
      "execution_count": 4,
      "outputs": []
    },
    {
      "cell_type": "markdown",
      "metadata": {
        "id": "cpNyLlj8dPCv"
      },
      "source": [
        "### 1. CNN 모델"
      ]
    },
    {
      "cell_type": "code",
      "metadata": {
        "id": "UTpOGsIPc0vI"
      },
      "source": [
        "import numpy as np\r\n",
        "import tensorflow as tf\r\n",
        "from tensorflow import keras\r\n",
        "from tensorflow.keras.models import Sequential\r\n",
        "from tensorflow.keras.layers import Dense, Flatten, Conv2D, MaxPooling2D\r\n",
        "from tensorflow.keras.preprocessing.image import ImageDataGenerator\r\n",
        "import matplotlib.pyplot as plt"
      ],
      "execution_count": 5,
      "outputs": []
    },
    {
      "cell_type": "code",
      "metadata": {
        "id": "Oug36fyedrfY"
      },
      "source": [
        "# seed 값 설정\r\n",
        "seed = 2021\r\n",
        "np.random.seed(seed)\r\n",
        "tf.random.set_seed(seed)"
      ],
      "execution_count": 6,
      "outputs": []
    },
    {
      "cell_type": "markdown",
      "metadata": {
        "id": "eLAtIaIJd1v4"
      },
      "source": [
        "### 데이터셋 생성하기"
      ]
    },
    {
      "cell_type": "code",
      "metadata": {
        "colab": {
          "base_uri": "https://localhost:8080/"
        },
        "id": "uqceuVKqdyF_",
        "outputId": "00e950e9-c8d7-4250-9086-d77846f05339"
      },
      "source": [
        "# Numpy Array로 만드는 과정\r\n",
        "train_datagen = ImageDataGenerator(rescale=1./255)\r\n",
        "\r\n",
        "train_generator = train_datagen.flow_from_directory(\r\n",
        "    'handwriting_shape/train',\r\n",
        "    target_size=(24,24),\r\n",
        "    batch_size=3,\r\n",
        "    class_mode='categorical')\r\n",
        "\r\n",
        "test_datagen = ImageDataGenerator(rescale=1./255)\r\n",
        "\r\n",
        "test_generator = test_datagen.flow_from_directory(\r\n",
        "    'handwriting_shape/test',\r\n",
        "    target_size=(24,24),\r\n",
        "    batch_size=3,\r\n",
        "    class_mode='categorical')"
      ],
      "execution_count": 21,
      "outputs": [
        {
          "output_type": "stream",
          "text": [
            "Found 45 images belonging to 3 classes.\n",
            "Found 15 images belonging to 3 classes.\n"
          ],
          "name": "stdout"
        }
      ]
    },
    {
      "cell_type": "code",
      "metadata": {
        "colab": {
          "base_uri": "https://localhost:8080/"
        },
        "id": "a6f519hUeTgw",
        "outputId": "9d2d4c43-f6e0-4194-f66f-6bc45ae973c3"
      },
      "source": [
        "!ls handwriting_shape/train"
      ],
      "execution_count": 8,
      "outputs": [
        {
          "output_type": "stream",
          "text": [
            "circle\trectangle  triangle\n"
          ],
          "name": "stdout"
        }
      ]
    },
    {
      "cell_type": "code",
      "metadata": {
        "colab": {
          "base_uri": "https://localhost:8080/"
        },
        "id": "P6ApTl32egif",
        "outputId": "d8a2f626-66cc-4112-c77a-beccd3fce0b9"
      },
      "source": [
        "!ls handwriting_shape/test"
      ],
      "execution_count": 9,
      "outputs": [
        {
          "output_type": "stream",
          "text": [
            "circle\trectangle  triangle\n"
          ],
          "name": "stdout"
        }
      ]
    },
    {
      "cell_type": "code",
      "metadata": {
        "colab": {
          "base_uri": "https://localhost:8080/"
        },
        "id": "d8ANWinxeqcv",
        "outputId": "8d4bc695-b542-4701-ae98-5804160f3902"
      },
      "source": [
        "train_generator.labels"
      ],
      "execution_count": 10,
      "outputs": [
        {
          "output_type": "execute_result",
          "data": {
            "text/plain": [
              "array([0, 0, 0, 0, 0, 0, 0, 0, 0, 0, 0, 0, 0, 0, 0, 1, 1, 1, 1, 1, 1, 1,\n",
              "       1, 1, 1, 1, 1, 1, 1, 1, 2, 2, 2, 2, 2, 2, 2, 2, 2, 2, 2, 2, 2, 2,\n",
              "       2], dtype=int32)"
            ]
          },
          "metadata": {
            "tags": []
          },
          "execution_count": 10
        }
      ]
    },
    {
      "cell_type": "code",
      "metadata": {
        "colab": {
          "base_uri": "https://localhost:8080/",
          "height": 35
        },
        "id": "srG3Eqn8e1-w",
        "outputId": "2582b2e9-0fad-4703-d0d6-3991e7df962e"
      },
      "source": [
        "train_generator.filenames[0]"
      ],
      "execution_count": 19,
      "outputs": [
        {
          "output_type": "execute_result",
          "data": {
            "application/vnd.google.colaboratory.intrinsic+json": {
              "type": "string"
            },
            "text/plain": [
              "'circle/circle001.png'"
            ]
          },
          "metadata": {
            "tags": []
          },
          "execution_count": 19
        }
      ]
    },
    {
      "cell_type": "code",
      "metadata": {
        "colab": {
          "base_uri": "https://localhost:8080/",
          "height": 35
        },
        "id": "hKapt8H_e6hQ",
        "outputId": "cbc49760-343e-4a08-c363-0af74aa23391"
      },
      "source": [
        "test_generator.filenames[0]"
      ],
      "execution_count": 20,
      "outputs": [
        {
          "output_type": "execute_result",
          "data": {
            "application/vnd.google.colaboratory.intrinsic+json": {
              "type": "string"
            },
            "text/plain": [
              "'circle/circle016.png'"
            ]
          },
          "metadata": {
            "tags": []
          },
          "execution_count": 20
        }
      ]
    },
    {
      "cell_type": "markdown",
      "metadata": {
        "id": "PqdUp31pfJzI"
      },
      "source": [
        "### 모델 정의/설정/학습"
      ]
    },
    {
      "cell_type": "code",
      "metadata": {
        "colab": {
          "base_uri": "https://localhost:8080/"
        },
        "id": "T6D2GW9he7sf",
        "outputId": "2b328a80-1c5f-4070-f317-75d2fcf7a42a"
      },
      "source": [
        "model = Sequential([\r\n",
        "    Conv2D(32, (3,3), input_shape=(24, 24, 3), activation='relu'),\r\n",
        "    Conv2D(64, (3,3), activation='relu'),\r\n",
        "    MaxPooling2D(pool_size=(2,2)),\r\n",
        "    Flatten(),\r\n",
        "    Dense(128, activation='relu'),\r\n",
        "    Dense(3, activation='softmax')\r\n",
        "])\r\n",
        "model.summary()"
      ],
      "execution_count": 22,
      "outputs": [
        {
          "output_type": "stream",
          "text": [
            "Model: \"sequential\"\n",
            "_________________________________________________________________\n",
            "Layer (type)                 Output Shape              Param #   \n",
            "=================================================================\n",
            "conv2d (Conv2D)              (None, 22, 22, 32)        896       \n",
            "_________________________________________________________________\n",
            "conv2d_1 (Conv2D)            (None, 20, 20, 64)        18496     \n",
            "_________________________________________________________________\n",
            "max_pooling2d (MaxPooling2D) (None, 10, 10, 64)        0         \n",
            "_________________________________________________________________\n",
            "flatten (Flatten)            (None, 6400)              0         \n",
            "_________________________________________________________________\n",
            "dense (Dense)                (None, 128)               819328    \n",
            "_________________________________________________________________\n",
            "dense_1 (Dense)              (None, 3)                 387       \n",
            "=================================================================\n",
            "Total params: 839,107\n",
            "Trainable params: 839,107\n",
            "Non-trainable params: 0\n",
            "_________________________________________________________________\n"
          ],
          "name": "stdout"
        }
      ]
    },
    {
      "cell_type": "code",
      "metadata": {
        "id": "lKVWOYJrfqPp"
      },
      "source": [
        "model.compile(loss='categorical_crossentropy', optimizer='adam', metrics=['accuracy'])"
      ],
      "execution_count": 23,
      "outputs": []
    },
    {
      "cell_type": "markdown",
      "metadata": {
        "id": "WZ_dWEHMgeuI"
      },
      "source": [
        "### 모델 학습시키기\r\n",
        "- 첫 번째 인자 : 훈련데이터셋을 제공할 제네레이터를 지정.\r\n",
        "- steps_per_epoch : 한 epoch에 사용한 스텝 수를 지정. 총 45개의 훈련 샘플이 있고 배치사이즈가 3이므로 15스텝으로 지정\r\n",
        "- epochs : 전체 훈련 데이터 셋에 대해 학습 반복 횟수를 지정. 50번 반복학습\r\n",
        "- validation_data : 검증데이터셋을 제공할 제네레이터를 지정. 본 예제에서는 앞서 생성한 validation_generator로 지정.\r\n",
        "- validation_steps : 한 epoch 종료 시 마다 검증할 때 사용되는 검증 스텝 수를 지정. 총 15개의 검증 샘플이 있고 배치사이즈가 3이므로 5스텝으로 지정."
      ]
    },
    {
      "cell_type": "code",
      "metadata": {
        "colab": {
          "base_uri": "https://localhost:8080/"
        },
        "id": "l6lhnT01gdgh",
        "outputId": "7bf92a53-ba58-4b0a-9195-c02177f20423"
      },
      "source": [
        "history=model.fit_generator(\r\n",
        "    train_generator,\r\n",
        "    steps_per_epoch=15,\r\n",
        "    epochs=50,\r\n",
        "    validation_data=test_generator,\r\n",
        "    validation_steps=5)"
      ],
      "execution_count": 24,
      "outputs": [
        {
          "output_type": "stream",
          "text": [
            "/usr/local/lib/python3.6/dist-packages/tensorflow/python/keras/engine/training.py:1844: UserWarning: `Model.fit_generator` is deprecated and will be removed in a future version. Please use `Model.fit`, which supports generators.\n",
            "  warnings.warn('`Model.fit_generator` is deprecated and '\n"
          ],
          "name": "stderr"
        },
        {
          "output_type": "stream",
          "text": [
            "Epoch 1/50\n",
            "15/15 [==============================] - 1s 34ms/step - loss: 1.2396 - accuracy: 0.4481 - val_loss: 0.7822 - val_accuracy: 0.6667\n",
            "Epoch 2/50\n",
            "15/15 [==============================] - 0s 20ms/step - loss: 0.5481 - accuracy: 0.8984 - val_loss: 0.1336 - val_accuracy: 1.0000\n",
            "Epoch 3/50\n",
            "15/15 [==============================] - 0s 22ms/step - loss: 0.0532 - accuracy: 1.0000 - val_loss: 0.0292 - val_accuracy: 1.0000\n",
            "Epoch 4/50\n",
            "15/15 [==============================] - 0s 21ms/step - loss: 0.0027 - accuracy: 1.0000 - val_loss: 0.0145 - val_accuracy: 1.0000\n",
            "Epoch 5/50\n",
            "15/15 [==============================] - 0s 20ms/step - loss: 7.4627e-04 - accuracy: 1.0000 - val_loss: 0.0134 - val_accuracy: 1.0000\n",
            "Epoch 6/50\n",
            "15/15 [==============================] - 0s 20ms/step - loss: 4.7590e-04 - accuracy: 1.0000 - val_loss: 0.0081 - val_accuracy: 1.0000\n",
            "Epoch 7/50\n",
            "15/15 [==============================] - 0s 20ms/step - loss: 1.3734e-04 - accuracy: 1.0000 - val_loss: 0.0069 - val_accuracy: 1.0000\n",
            "Epoch 8/50\n",
            "15/15 [==============================] - 0s 21ms/step - loss: 1.1466e-04 - accuracy: 1.0000 - val_loss: 0.0074 - val_accuracy: 1.0000\n",
            "Epoch 9/50\n",
            "15/15 [==============================] - 0s 22ms/step - loss: 1.0656e-04 - accuracy: 1.0000 - val_loss: 0.0072 - val_accuracy: 1.0000\n",
            "Epoch 10/50\n",
            "15/15 [==============================] - 0s 23ms/step - loss: 1.0129e-04 - accuracy: 1.0000 - val_loss: 0.0062 - val_accuracy: 1.0000\n",
            "Epoch 11/50\n",
            "15/15 [==============================] - 0s 30ms/step - loss: 1.4074e-04 - accuracy: 1.0000 - val_loss: 0.0064 - val_accuracy: 1.0000\n",
            "Epoch 12/50\n",
            "15/15 [==============================] - 0s 22ms/step - loss: 6.0788e-05 - accuracy: 1.0000 - val_loss: 0.0067 - val_accuracy: 1.0000\n",
            "Epoch 13/50\n",
            "15/15 [==============================] - 0s 22ms/step - loss: 6.5235e-05 - accuracy: 1.0000 - val_loss: 0.0070 - val_accuracy: 1.0000\n",
            "Epoch 14/50\n",
            "15/15 [==============================] - 0s 22ms/step - loss: 6.3766e-05 - accuracy: 1.0000 - val_loss: 0.0070 - val_accuracy: 1.0000\n",
            "Epoch 15/50\n",
            "15/15 [==============================] - 0s 22ms/step - loss: 5.9864e-05 - accuracy: 1.0000 - val_loss: 0.0072 - val_accuracy: 1.0000\n",
            "Epoch 16/50\n",
            "15/15 [==============================] - 0s 22ms/step - loss: 4.3024e-05 - accuracy: 1.0000 - val_loss: 0.0068 - val_accuracy: 1.0000\n",
            "Epoch 17/50\n",
            "15/15 [==============================] - 0s 22ms/step - loss: 4.6197e-05 - accuracy: 1.0000 - val_loss: 0.0073 - val_accuracy: 1.0000\n",
            "Epoch 18/50\n",
            "15/15 [==============================] - 0s 20ms/step - loss: 4.3568e-05 - accuracy: 1.0000 - val_loss: 0.0071 - val_accuracy: 1.0000\n",
            "Epoch 19/50\n",
            "15/15 [==============================] - 0s 22ms/step - loss: 2.4802e-05 - accuracy: 1.0000 - val_loss: 0.0073 - val_accuracy: 1.0000\n",
            "Epoch 20/50\n",
            "15/15 [==============================] - 0s 22ms/step - loss: 2.0927e-05 - accuracy: 1.0000 - val_loss: 0.0066 - val_accuracy: 1.0000\n",
            "Epoch 21/50\n",
            "15/15 [==============================] - 0s 21ms/step - loss: 1.7731e-05 - accuracy: 1.0000 - val_loss: 0.0071 - val_accuracy: 1.0000\n",
            "Epoch 22/50\n",
            "15/15 [==============================] - 0s 22ms/step - loss: 2.0236e-05 - accuracy: 1.0000 - val_loss: 0.0068 - val_accuracy: 1.0000\n",
            "Epoch 23/50\n",
            "15/15 [==============================] - 0s 21ms/step - loss: 2.1374e-05 - accuracy: 1.0000 - val_loss: 0.0077 - val_accuracy: 1.0000\n",
            "Epoch 24/50\n",
            "15/15 [==============================] - 0s 20ms/step - loss: 1.3008e-05 - accuracy: 1.0000 - val_loss: 0.0075 - val_accuracy: 1.0000\n",
            "Epoch 25/50\n",
            "15/15 [==============================] - 0s 21ms/step - loss: 1.3040e-05 - accuracy: 1.0000 - val_loss: 0.0071 - val_accuracy: 1.0000\n",
            "Epoch 26/50\n",
            "15/15 [==============================] - 0s 22ms/step - loss: 8.2743e-06 - accuracy: 1.0000 - val_loss: 0.0071 - val_accuracy: 1.0000\n",
            "Epoch 27/50\n",
            "15/15 [==============================] - 0s 21ms/step - loss: 1.2454e-05 - accuracy: 1.0000 - val_loss: 0.0067 - val_accuracy: 1.0000\n",
            "Epoch 28/50\n",
            "15/15 [==============================] - 0s 22ms/step - loss: 1.1848e-05 - accuracy: 1.0000 - val_loss: 0.0067 - val_accuracy: 1.0000\n",
            "Epoch 29/50\n",
            "15/15 [==============================] - 0s 22ms/step - loss: 5.6762e-06 - accuracy: 1.0000 - val_loss: 0.0072 - val_accuracy: 1.0000\n",
            "Epoch 30/50\n",
            "15/15 [==============================] - 0s 21ms/step - loss: 8.0039e-06 - accuracy: 1.0000 - val_loss: 0.0073 - val_accuracy: 1.0000\n",
            "Epoch 31/50\n",
            "15/15 [==============================] - 0s 21ms/step - loss: 6.2472e-06 - accuracy: 1.0000 - val_loss: 0.0075 - val_accuracy: 1.0000\n",
            "Epoch 32/50\n",
            "15/15 [==============================] - 0s 22ms/step - loss: 5.0732e-06 - accuracy: 1.0000 - val_loss: 0.0074 - val_accuracy: 1.0000\n",
            "Epoch 33/50\n",
            "15/15 [==============================] - 0s 21ms/step - loss: 5.1256e-06 - accuracy: 1.0000 - val_loss: 0.0075 - val_accuracy: 1.0000\n",
            "Epoch 34/50\n",
            "15/15 [==============================] - 0s 22ms/step - loss: 6.2474e-06 - accuracy: 1.0000 - val_loss: 0.0072 - val_accuracy: 1.0000\n",
            "Epoch 35/50\n",
            "15/15 [==============================] - 0s 21ms/step - loss: 6.5494e-06 - accuracy: 1.0000 - val_loss: 0.0074 - val_accuracy: 1.0000\n",
            "Epoch 36/50\n",
            "15/15 [==============================] - 0s 21ms/step - loss: 5.8625e-06 - accuracy: 1.0000 - val_loss: 0.0073 - val_accuracy: 1.0000\n",
            "Epoch 37/50\n",
            "15/15 [==============================] - 0s 21ms/step - loss: 4.7852e-06 - accuracy: 1.0000 - val_loss: 0.0074 - val_accuracy: 1.0000\n",
            "Epoch 38/50\n",
            "15/15 [==============================] - 0s 20ms/step - loss: 5.7008e-06 - accuracy: 1.0000 - val_loss: 0.0074 - val_accuracy: 1.0000\n",
            "Epoch 39/50\n",
            "15/15 [==============================] - 0s 21ms/step - loss: 5.5845e-06 - accuracy: 1.0000 - val_loss: 0.0074 - val_accuracy: 1.0000\n",
            "Epoch 40/50\n",
            "15/15 [==============================] - 0s 21ms/step - loss: 5.4777e-06 - accuracy: 1.0000 - val_loss: 0.0077 - val_accuracy: 1.0000\n",
            "Epoch 41/50\n",
            "15/15 [==============================] - 0s 21ms/step - loss: 4.3358e-06 - accuracy: 1.0000 - val_loss: 0.0076 - val_accuracy: 1.0000\n",
            "Epoch 42/50\n",
            "15/15 [==============================] - 0s 19ms/step - loss: 4.3278e-06 - accuracy: 1.0000 - val_loss: 0.0076 - val_accuracy: 1.0000\n",
            "Epoch 43/50\n",
            "15/15 [==============================] - 0s 20ms/step - loss: 3.3900e-06 - accuracy: 1.0000 - val_loss: 0.0078 - val_accuracy: 1.0000\n",
            "Epoch 44/50\n",
            "15/15 [==============================] - 0s 20ms/step - loss: 2.9171e-06 - accuracy: 1.0000 - val_loss: 0.0081 - val_accuracy: 1.0000\n",
            "Epoch 45/50\n",
            "15/15 [==============================] - 0s 20ms/step - loss: 2.8516e-06 - accuracy: 1.0000 - val_loss: 0.0078 - val_accuracy: 1.0000\n",
            "Epoch 46/50\n",
            "15/15 [==============================] - 0s 22ms/step - loss: 3.5467e-06 - accuracy: 1.0000 - val_loss: 0.0075 - val_accuracy: 1.0000\n",
            "Epoch 47/50\n",
            "15/15 [==============================] - 0s 21ms/step - loss: 3.0824e-06 - accuracy: 1.0000 - val_loss: 0.0072 - val_accuracy: 1.0000\n",
            "Epoch 48/50\n",
            "15/15 [==============================] - 0s 21ms/step - loss: 2.9839e-06 - accuracy: 1.0000 - val_loss: 0.0076 - val_accuracy: 1.0000\n",
            "Epoch 49/50\n",
            "15/15 [==============================] - 0s 20ms/step - loss: 2.7308e-06 - accuracy: 1.0000 - val_loss: 0.0080 - val_accuracy: 1.0000\n",
            "Epoch 50/50\n",
            "15/15 [==============================] - 0s 20ms/step - loss: 2.2368e-06 - accuracy: 1.0000 - val_loss: 0.0079 - val_accuracy: 1.0000\n"
          ],
          "name": "stdout"
        }
      ]
    },
    {
      "cell_type": "markdown",
      "metadata": {
        "id": "6MEWyLtihev4"
      },
      "source": [
        "### 모델 평가하기"
      ]
    },
    {
      "cell_type": "code",
      "metadata": {
        "colab": {
          "base_uri": "https://localhost:8080/"
        },
        "id": "1hRl8PEPhQs6",
        "outputId": "60950da6-fd43-4e34-8d85-dfe7f13416d3"
      },
      "source": [
        "print(\"--Evaluate--\")\r\n",
        "scores = model.evaluate_generator(test_generator, steps=5)\r\n",
        "print(\"%s: %.2f%%\"%(model.metrics_names[1], scores[1]*100));"
      ],
      "execution_count": 26,
      "outputs": [
        {
          "output_type": "stream",
          "text": [
            "--Evaluate--\n",
            "accuracy: 100.00%\n"
          ],
          "name": "stdout"
        },
        {
          "output_type": "stream",
          "text": [
            "/usr/local/lib/python3.6/dist-packages/tensorflow/python/keras/engine/training.py:1877: UserWarning: `Model.evaluate_generator` is deprecated and will be removed in a future version. Please use `Model.evaluate`, which supports generators.\n",
            "  warnings.warn('`Model.evaluate_generator` is deprecated and '\n"
          ],
          "name": "stderr"
        }
      ]
    },
    {
      "cell_type": "code",
      "metadata": {
        "id": "Gq5SmGuOhpR0"
      },
      "source": [
        ""
      ],
      "execution_count": null,
      "outputs": []
    }
  ]
}