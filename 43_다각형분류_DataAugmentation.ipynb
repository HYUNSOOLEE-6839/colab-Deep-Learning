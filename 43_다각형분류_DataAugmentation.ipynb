{
  "nbformat": 4,
  "nbformat_minor": 0,
  "metadata": {
    "colab": {
      "name": "43_다각형분류_DataAugmentation.ipynb",
      "provenance": [],
      "collapsed_sections": [],
      "authorship_tag": "ABX9TyObFJDymUoOHLZNsNJRhXYy",
      "include_colab_link": true
    },
    "kernelspec": {
      "name": "python3",
      "display_name": "Python 3"
    }
  },
  "cells": [
    {
      "cell_type": "markdown",
      "metadata": {
        "id": "view-in-github",
        "colab_type": "text"
      },
      "source": [
        "<a href=\"https://colab.research.google.com/github/HYUNSOOLEE-6839/colab-Deep-Learning/blob/main/43_%EB%8B%A4%EA%B0%81%ED%98%95%EB%B6%84%EB%A5%98_DataAugmentation.ipynb\" target=\"_parent\"><img src=\"https://colab.research.google.com/assets/colab-badge.svg\" alt=\"Open In Colab\"/></a>"
      ]
    },
    {
      "cell_type": "markdown",
      "metadata": {
        "id": "Z-TMgM2pcR35"
      },
      "source": [
        "# 원, 삼각형, 사각형 구분하기"
      ]
    },
    {
      "cell_type": "markdown",
      "metadata": {
        "id": "cpNyLlj8dPCv"
      },
      "source": [
        "### 3. Data Augmentation을 사용한 CNN 모델"
      ]
    },
    {
      "cell_type": "code",
      "metadata": {
        "id": "UTpOGsIPc0vI"
      },
      "source": [
        "import numpy as np\r\n",
        "import tensorflow as tf\r\n",
        "from tensorflow import keras\r\n",
        "from tensorflow.keras.models import Sequential\r\n",
        "from tensorflow.keras.layers import Dense, Flatten, Conv2D, MaxPooling2D\r\n",
        "from tensorflow.keras.preprocessing.image import ImageDataGenerator\r\n",
        "import matplotlib.pyplot as plt"
      ],
      "execution_count": 1,
      "outputs": []
    },
    {
      "cell_type": "code",
      "metadata": {
        "id": "Oug36fyedrfY"
      },
      "source": [
        "# seed 값 설정\r\n",
        "seed = 2021\r\n",
        "np.random.seed(seed)\r\n",
        "tf.random.set_seed(seed)"
      ],
      "execution_count": 2,
      "outputs": []
    },
    {
      "cell_type": "markdown",
      "metadata": {
        "id": "SppUR8b9nvMC"
      },
      "source": [
        "### 데이터 부풀리기(Augmentation)"
      ]
    },
    {
      "cell_type": "code",
      "metadata": {
        "id": "c7viw3vgnvjO"
      },
      "source": [
        "from tensorflow.keras.preprocessing.image import array_to_img, img_to_array, load_img"
      ],
      "execution_count": 3,
      "outputs": []
    },
    {
      "cell_type": "code",
      "metadata": {
        "id": "fTNLoTE2n_xy"
      },
      "source": [
        "# 데이터 부풀리기를 적용한 훈련 데이터 제네레이터\r\n",
        "train_datagen = ImageDataGenerator(rescale=1./255,\r\n",
        "                                   rotation_range=15,\r\n",
        "                                   width_shift_range=0.1,\r\n",
        "                                   height_shift_range=0.1,\r\n",
        "                                   shear_range=0.5,\r\n",
        "                                   zoom_range=[0.8, 2.0],\r\n",
        "                                   horizontal_flip=True,\r\n",
        "                                   vertical_flip=True,\r\n",
        "                                   fill_mode='nearest')"
      ],
      "execution_count": 6,
      "outputs": []
    },
    {
      "cell_type": "code",
      "metadata": {
        "id": "h1_iHWcBpmTz"
      },
      "source": [
        "!mkdir preview"
      ],
      "execution_count": 11,
      "outputs": []
    },
    {
      "cell_type": "code",
      "metadata": {
        "id": "oZkt6MEWn-HV"
      },
      "source": [
        "img = load_img('hard_handwriting_shape/train/triangle/triangle001.png')\r\n",
        "x = img_to_array(img)\r\n",
        "x = x.reshape((1,) + x.shape)\r\n",
        "\r\n",
        "i = 0\r\n",
        "# 무한 for loop \r\n",
        "for batch in train_datagen.flow(x, batch_size=1, save_to_dir='preview',\r\n",
        "                                save_prefix='tri', save_format='png'):\r\n",
        "  i += 1\r\n",
        "  if i > 30:\r\n",
        "    break"
      ],
      "execution_count": 12,
      "outputs": []
    },
    {
      "cell_type": "code",
      "metadata": {
        "colab": {
          "base_uri": "https://localhost:8080/"
        },
        "id": "4mjJ3nmHppDs",
        "outputId": "625ed472-3756-4c92-f28d-f0f20dfe11b0"
      },
      "source": [
        "!ls preview"
      ],
      "execution_count": 14,
      "outputs": [
        {
          "output_type": "stream",
          "text": [
            "tri_0_1270.png\ttri_0_3825.png\ttri_0_5881.png\ttri_0_8211.png\ttri_0_9797.png\n",
            "tri_0_1302.png\ttri_0_403.png\ttri_0_6416.png\ttri_0_8288.png\ttri_0_9854.png\n",
            "tri_0_2407.png\ttri_0_4949.png\ttri_0_6427.png\ttri_0_8923.png\ttri_0_9972.png\n",
            "tri_0_2997.png\ttri_0_5158.png\ttri_0_7039.png\ttri_0_9089.png\n",
            "tri_0_3418.png\ttri_0_519.png\ttri_0_7259.png\ttri_0_928.png\n",
            "tri_0_3503.png\ttri_0_5672.png\ttri_0_7282.png\ttri_0_9495.png\n",
            "tri_0_3759.png\ttri_0_5798.png\ttri_0_7897.png\ttri_0_9575.png\n"
          ],
          "name": "stdout"
        }
      ]
    },
    {
      "cell_type": "markdown",
      "metadata": {
        "id": "eLAtIaIJd1v4"
      },
      "source": [
        "### 데이터셋 생성하기"
      ]
    },
    {
      "cell_type": "code",
      "metadata": {
        "colab": {
          "base_uri": "https://localhost:8080/"
        },
        "id": "uqceuVKqdyF_",
        "outputId": "6e0803f1-84a4-44a1-b82f-a0be5ebe57d4"
      },
      "source": [
        "# Numpy Array로 만드는 과정\r\n",
        "train_generator = train_datagen.flow_from_directory(\r\n",
        "    'hard_handwriting_shape/train',\r\n",
        "    target_size=(24,24),\r\n",
        "    batch_size=3,\r\n",
        "    class_mode='categorical')\r\n",
        "\r\n",
        "test_datagen = ImageDataGenerator(rescale=1./255)\r\n",
        "\r\n",
        "test_generator = test_datagen.flow_from_directory(\r\n",
        "    'hard_handwriting_shape/test',\r\n",
        "    target_size=(24,24),\r\n",
        "    batch_size=3,\r\n",
        "    class_mode='categorical')"
      ],
      "execution_count": 15,
      "outputs": [
        {
          "output_type": "stream",
          "text": [
            "Found 45 images belonging to 3 classes.\n",
            "Found 15 images belonging to 3 classes.\n"
          ],
          "name": "stdout"
        }
      ]
    },
    {
      "cell_type": "code",
      "metadata": {
        "colab": {
          "base_uri": "https://localhost:8080/"
        },
        "id": "a6f519hUeTgw",
        "outputId": "34074162-11ec-43ea-f8c0-41e2bd29f839"
      },
      "source": [
        "!ls hard_handwriting_shape/train"
      ],
      "execution_count": 4,
      "outputs": [
        {
          "output_type": "stream",
          "text": [
            "circle\trectangle  triangle\n"
          ],
          "name": "stdout"
        }
      ]
    },
    {
      "cell_type": "code",
      "metadata": {
        "colab": {
          "base_uri": "https://localhost:8080/"
        },
        "id": "P6ApTl32egif",
        "outputId": "579e3a0a-f775-46a1-eb28-53df362ea891"
      },
      "source": [
        "!ls hard_handwriting_shape/test"
      ],
      "execution_count": 5,
      "outputs": [
        {
          "output_type": "stream",
          "text": [
            "circle\trectangle  triangle\n"
          ],
          "name": "stdout"
        }
      ]
    },
    {
      "cell_type": "markdown",
      "metadata": {
        "id": "PqdUp31pfJzI"
      },
      "source": [
        "### 모델 정의/설정/학습"
      ]
    },
    {
      "cell_type": "code",
      "metadata": {
        "colab": {
          "base_uri": "https://localhost:8080/",
          "height": 172
        },
        "id": "SG6CqaD1jdCp",
        "outputId": "4e01712c-2060-4726-c816-0739aa9c0592"
      },
      "source": [
        "del model"
      ],
      "execution_count": 16,
      "outputs": [
        {
          "output_type": "error",
          "ename": "NameError",
          "evalue": "ignored",
          "traceback": [
            "\u001b[0;31m---------------------------------------------------------------------------\u001b[0m",
            "\u001b[0;31mNameError\u001b[0m                                 Traceback (most recent call last)",
            "\u001b[0;32m<ipython-input-16-a7ab210f85a1>\u001b[0m in \u001b[0;36m<module>\u001b[0;34m()\u001b[0m\n\u001b[0;32m----> 1\u001b[0;31m \u001b[0;32mdel\u001b[0m \u001b[0mmodel\u001b[0m\u001b[0;34m\u001b[0m\u001b[0;34m\u001b[0m\u001b[0m\n\u001b[0m",
            "\u001b[0;31mNameError\u001b[0m: name 'model' is not defined"
          ]
        }
      ]
    },
    {
      "cell_type": "code",
      "metadata": {
        "colab": {
          "base_uri": "https://localhost:8080/"
        },
        "id": "T6D2GW9he7sf",
        "outputId": "dc7792bc-9aaf-4b13-d2a7-e89fa13286b7"
      },
      "source": [
        "model = Sequential([\r\n",
        "    Conv2D(32, (3,3), input_shape=(24, 24, 3), activation='relu'),\r\n",
        "    Conv2D(64, (3,3), activation='relu'),\r\n",
        "    MaxPooling2D(pool_size=(2,2)),\r\n",
        "    Flatten(),\r\n",
        "    Dense(128, activation='relu'),\r\n",
        "    Dense(3, activation='softmax')\r\n",
        "])\r\n",
        "model.summary()"
      ],
      "execution_count": 17,
      "outputs": [
        {
          "output_type": "stream",
          "text": [
            "Model: \"sequential\"\n",
            "_________________________________________________________________\n",
            "Layer (type)                 Output Shape              Param #   \n",
            "=================================================================\n",
            "conv2d (Conv2D)              (None, 22, 22, 32)        896       \n",
            "_________________________________________________________________\n",
            "conv2d_1 (Conv2D)            (None, 20, 20, 64)        18496     \n",
            "_________________________________________________________________\n",
            "max_pooling2d (MaxPooling2D) (None, 10, 10, 64)        0         \n",
            "_________________________________________________________________\n",
            "flatten (Flatten)            (None, 6400)              0         \n",
            "_________________________________________________________________\n",
            "dense (Dense)                (None, 128)               819328    \n",
            "_________________________________________________________________\n",
            "dense_1 (Dense)              (None, 3)                 387       \n",
            "=================================================================\n",
            "Total params: 839,107\n",
            "Trainable params: 839,107\n",
            "Non-trainable params: 0\n",
            "_________________________________________________________________\n"
          ],
          "name": "stdout"
        }
      ]
    },
    {
      "cell_type": "code",
      "metadata": {
        "id": "lKVWOYJrfqPp"
      },
      "source": [
        "model.compile(loss='categorical_crossentropy', optimizer='adam', metrics=['accuracy'])"
      ],
      "execution_count": 18,
      "outputs": []
    },
    {
      "cell_type": "markdown",
      "metadata": {
        "id": "WZ_dWEHMgeuI"
      },
      "source": [
        "### 모델 학습시키기\r\n",
        "- 첫 번째 인자 : 훈련데이터셋을 제공할 제네레이터를 지정.\r\n",
        "- steps_per_epoch : 한 epoch에 사용한 스텝 수를 지정. 총 45개의 훈련 샘플이 있고 배치사이즈가 3이므로 15스텝으로 지정\r\n",
        "- epochs : 전체 훈련 데이터 셋에 대해 학습 반복 횟수를 지정. 50번 반복학습\r\n",
        "- validation_data : 검증데이터셋을 제공할 제네레이터를 지정. 본 예제에서는 앞서 생성한 validation_generator로 지정.\r\n",
        "- validation_steps : 한 epoch 종료 시 마다 검증할 때 사용되는 검증 스텝 수를 지정. 총 15개의 검증 샘플이 있고 배치사이즈가 3이므로 5스텝으로 지정."
      ]
    },
    {
      "cell_type": "code",
      "metadata": {
        "colab": {
          "base_uri": "https://localhost:8080/"
        },
        "id": "l6lhnT01gdgh",
        "outputId": "afdcf4a9-bf2c-4132-b7cb-15cb09351a66"
      },
      "source": [
        "history=model.fit_generator(\r\n",
        "    train_generator,\r\n",
        "    steps_per_epoch=15,\r\n",
        "    epochs=200,\r\n",
        "    validation_data=test_generator,\r\n",
        "    validation_steps=5)"
      ],
      "execution_count": 19,
      "outputs": [
        {
          "output_type": "stream",
          "text": [
            "/usr/local/lib/python3.6/dist-packages/tensorflow/python/keras/engine/training.py:1844: UserWarning: `Model.fit_generator` is deprecated and will be removed in a future version. Please use `Model.fit`, which supports generators.\n",
            "  warnings.warn('`Model.fit_generator` is deprecated and '\n"
          ],
          "name": "stderr"
        },
        {
          "output_type": "stream",
          "text": [
            "Epoch 1/200\n",
            "15/15 [==============================] - 1s 35ms/step - loss: 1.4933 - accuracy: 0.3719 - val_loss: 1.0841 - val_accuracy: 0.5333\n",
            "Epoch 2/200\n",
            "15/15 [==============================] - 0s 24ms/step - loss: 1.0676 - accuracy: 0.5174 - val_loss: 1.0453 - val_accuracy: 0.4667\n",
            "Epoch 3/200\n",
            "15/15 [==============================] - 0s 23ms/step - loss: 0.9373 - accuracy: 0.5240 - val_loss: 1.5431 - val_accuracy: 0.3333\n",
            "Epoch 4/200\n",
            "15/15 [==============================] - 0s 24ms/step - loss: 1.1453 - accuracy: 0.3809 - val_loss: 1.0194 - val_accuracy: 0.6000\n",
            "Epoch 5/200\n",
            "15/15 [==============================] - 0s 23ms/step - loss: 0.6876 - accuracy: 0.6923 - val_loss: 1.2313 - val_accuracy: 0.5333\n",
            "Epoch 6/200\n",
            "15/15 [==============================] - 0s 22ms/step - loss: 0.7115 - accuracy: 0.6868 - val_loss: 1.8187 - val_accuracy: 0.4667\n",
            "Epoch 7/200\n",
            "15/15 [==============================] - 0s 24ms/step - loss: 0.4532 - accuracy: 0.8310 - val_loss: 2.0511 - val_accuracy: 0.4000\n",
            "Epoch 8/200\n",
            "15/15 [==============================] - 0s 23ms/step - loss: 0.7521 - accuracy: 0.7702 - val_loss: 1.2716 - val_accuracy: 0.4667\n",
            "Epoch 9/200\n",
            "15/15 [==============================] - 0s 23ms/step - loss: 0.4477 - accuracy: 0.8605 - val_loss: 1.7762 - val_accuracy: 0.5333\n",
            "Epoch 10/200\n",
            "15/15 [==============================] - 0s 23ms/step - loss: 0.3280 - accuracy: 0.8706 - val_loss: 1.2209 - val_accuracy: 0.6000\n",
            "Epoch 11/200\n",
            "15/15 [==============================] - 0s 24ms/step - loss: 0.1765 - accuracy: 0.9776 - val_loss: 1.2913 - val_accuracy: 0.7333\n",
            "Epoch 12/200\n",
            "15/15 [==============================] - 0s 23ms/step - loss: 0.1851 - accuracy: 0.9438 - val_loss: 1.0335 - val_accuracy: 0.6667\n",
            "Epoch 13/200\n",
            "15/15 [==============================] - 0s 23ms/step - loss: 0.1328 - accuracy: 0.9957 - val_loss: 2.5515 - val_accuracy: 0.6000\n",
            "Epoch 14/200\n",
            "15/15 [==============================] - 0s 32ms/step - loss: 0.3645 - accuracy: 0.8802 - val_loss: 1.0176 - val_accuracy: 0.7333\n",
            "Epoch 15/200\n",
            "15/15 [==============================] - 0s 24ms/step - loss: 0.2830 - accuracy: 0.8995 - val_loss: 1.0328 - val_accuracy: 0.7333\n",
            "Epoch 16/200\n",
            "15/15 [==============================] - 0s 24ms/step - loss: 0.4852 - accuracy: 0.8513 - val_loss: 1.1390 - val_accuracy: 0.6667\n",
            "Epoch 17/200\n",
            "15/15 [==============================] - 0s 22ms/step - loss: 0.2660 - accuracy: 0.9005 - val_loss: 1.6438 - val_accuracy: 0.6667\n",
            "Epoch 18/200\n",
            "15/15 [==============================] - 0s 22ms/step - loss: 0.0986 - accuracy: 0.9729 - val_loss: 1.6674 - val_accuracy: 0.6667\n",
            "Epoch 19/200\n",
            "15/15 [==============================] - 0s 23ms/step - loss: 0.3945 - accuracy: 0.8763 - val_loss: 0.8631 - val_accuracy: 0.7333\n",
            "Epoch 20/200\n",
            "15/15 [==============================] - 0s 22ms/step - loss: 0.0854 - accuracy: 0.9607 - val_loss: 1.0929 - val_accuracy: 0.7333\n",
            "Epoch 21/200\n",
            "15/15 [==============================] - 0s 23ms/step - loss: 0.1156 - accuracy: 0.9884 - val_loss: 1.6603 - val_accuracy: 0.6667\n",
            "Epoch 22/200\n",
            "15/15 [==============================] - 0s 23ms/step - loss: 0.0821 - accuracy: 0.9666 - val_loss: 1.7773 - val_accuracy: 0.7333\n",
            "Epoch 23/200\n",
            "15/15 [==============================] - 0s 23ms/step - loss: 0.2768 - accuracy: 0.8344 - val_loss: 1.2942 - val_accuracy: 0.7333\n",
            "Epoch 24/200\n",
            "15/15 [==============================] - 0s 24ms/step - loss: 0.2149 - accuracy: 0.9410 - val_loss: 1.0698 - val_accuracy: 0.7333\n",
            "Epoch 25/200\n",
            "15/15 [==============================] - 0s 24ms/step - loss: 0.0608 - accuracy: 0.9896 - val_loss: 1.2819 - val_accuracy: 0.7333\n",
            "Epoch 26/200\n",
            "15/15 [==============================] - 0s 24ms/step - loss: 0.0881 - accuracy: 0.9905 - val_loss: 2.4218 - val_accuracy: 0.6000\n",
            "Epoch 27/200\n",
            "15/15 [==============================] - 0s 22ms/step - loss: 0.0675 - accuracy: 0.9972 - val_loss: 2.0452 - val_accuracy: 0.6000\n",
            "Epoch 28/200\n",
            "15/15 [==============================] - 0s 22ms/step - loss: 0.1246 - accuracy: 1.0000 - val_loss: 2.1120 - val_accuracy: 0.7333\n",
            "Epoch 29/200\n",
            "15/15 [==============================] - 0s 23ms/step - loss: 0.0734 - accuracy: 1.0000 - val_loss: 1.7605 - val_accuracy: 0.8000\n",
            "Epoch 30/200\n",
            "15/15 [==============================] - 0s 23ms/step - loss: 0.0253 - accuracy: 0.9957 - val_loss: 1.6523 - val_accuracy: 0.7333\n",
            "Epoch 31/200\n",
            "15/15 [==============================] - 0s 23ms/step - loss: 0.0747 - accuracy: 0.9871 - val_loss: 1.8387 - val_accuracy: 0.7333\n",
            "Epoch 32/200\n",
            "15/15 [==============================] - 0s 23ms/step - loss: 0.1130 - accuracy: 0.9442 - val_loss: 0.8714 - val_accuracy: 0.8000\n",
            "Epoch 33/200\n",
            "15/15 [==============================] - 0s 23ms/step - loss: 0.1826 - accuracy: 0.9694 - val_loss: 0.9925 - val_accuracy: 0.8000\n",
            "Epoch 34/200\n",
            "15/15 [==============================] - 0s 22ms/step - loss: 0.2295 - accuracy: 0.9369 - val_loss: 0.9501 - val_accuracy: 0.8000\n",
            "Epoch 35/200\n",
            "15/15 [==============================] - 0s 24ms/step - loss: 0.1213 - accuracy: 0.9856 - val_loss: 1.4091 - val_accuracy: 0.6667\n",
            "Epoch 36/200\n",
            "15/15 [==============================] - 0s 23ms/step - loss: 0.0445 - accuracy: 1.0000 - val_loss: 1.4948 - val_accuracy: 0.6667\n",
            "Epoch 37/200\n",
            "15/15 [==============================] - 0s 24ms/step - loss: 0.0348 - accuracy: 1.0000 - val_loss: 1.6737 - val_accuracy: 0.6667\n",
            "Epoch 38/200\n",
            "15/15 [==============================] - 0s 25ms/step - loss: 0.0243 - accuracy: 0.9957 - val_loss: 2.0981 - val_accuracy: 0.6000\n",
            "Epoch 39/200\n",
            "15/15 [==============================] - 0s 24ms/step - loss: 0.0482 - accuracy: 0.9924 - val_loss: 1.9616 - val_accuracy: 0.6667\n",
            "Epoch 40/200\n",
            "15/15 [==============================] - 0s 24ms/step - loss: 0.0478 - accuracy: 1.0000 - val_loss: 1.8045 - val_accuracy: 0.6667\n",
            "Epoch 41/200\n",
            "15/15 [==============================] - 0s 23ms/step - loss: 0.0741 - accuracy: 0.9694 - val_loss: 1.2961 - val_accuracy: 0.7333\n",
            "Epoch 42/200\n",
            "15/15 [==============================] - 0s 22ms/step - loss: 0.0565 - accuracy: 0.9944 - val_loss: 1.8115 - val_accuracy: 0.6667\n",
            "Epoch 43/200\n",
            "15/15 [==============================] - 0s 23ms/step - loss: 0.0252 - accuracy: 0.9915 - val_loss: 3.2303 - val_accuracy: 0.5333\n",
            "Epoch 44/200\n",
            "15/15 [==============================] - 0s 23ms/step - loss: 0.0443 - accuracy: 1.0000 - val_loss: 1.9731 - val_accuracy: 0.6667\n",
            "Epoch 45/200\n",
            "15/15 [==============================] - 0s 23ms/step - loss: 0.0698 - accuracy: 0.9771 - val_loss: 1.8111 - val_accuracy: 0.6667\n",
            "Epoch 46/200\n",
            "15/15 [==============================] - 0s 23ms/step - loss: 0.1943 - accuracy: 0.9278 - val_loss: 1.6105 - val_accuracy: 0.7333\n",
            "Epoch 47/200\n",
            "15/15 [==============================] - 0s 23ms/step - loss: 0.0631 - accuracy: 0.9759 - val_loss: 1.4759 - val_accuracy: 0.6667\n",
            "Epoch 48/200\n",
            "15/15 [==============================] - 0s 22ms/step - loss: 0.2020 - accuracy: 0.9390 - val_loss: 2.0725 - val_accuracy: 0.6667\n",
            "Epoch 49/200\n",
            "15/15 [==============================] - 0s 22ms/step - loss: 0.1262 - accuracy: 0.9151 - val_loss: 1.5329 - val_accuracy: 0.6667\n",
            "Epoch 50/200\n",
            "15/15 [==============================] - 0s 23ms/step - loss: 0.0203 - accuracy: 0.9924 - val_loss: 1.8522 - val_accuracy: 0.6000\n",
            "Epoch 51/200\n",
            "15/15 [==============================] - 0s 23ms/step - loss: 0.0251 - accuracy: 1.0000 - val_loss: 1.4426 - val_accuracy: 0.8000\n",
            "Epoch 52/200\n",
            "15/15 [==============================] - 0s 23ms/step - loss: 0.0170 - accuracy: 1.0000 - val_loss: 1.6380 - val_accuracy: 0.7333\n",
            "Epoch 53/200\n",
            "15/15 [==============================] - 0s 23ms/step - loss: 0.0122 - accuracy: 1.0000 - val_loss: 1.9430 - val_accuracy: 0.7333\n",
            "Epoch 54/200\n",
            "15/15 [==============================] - 0s 24ms/step - loss: 0.0293 - accuracy: 1.0000 - val_loss: 1.6566 - val_accuracy: 0.7333\n",
            "Epoch 55/200\n",
            "15/15 [==============================] - 0s 25ms/step - loss: 0.0054 - accuracy: 1.0000 - val_loss: 1.6786 - val_accuracy: 0.7333\n",
            "Epoch 56/200\n",
            "15/15 [==============================] - 0s 31ms/step - loss: 0.0133 - accuracy: 1.0000 - val_loss: 1.8191 - val_accuracy: 0.7333\n",
            "Epoch 57/200\n",
            "15/15 [==============================] - 0s 24ms/step - loss: 0.0513 - accuracy: 0.9728 - val_loss: 4.6984 - val_accuracy: 0.4667\n",
            "Epoch 58/200\n",
            "15/15 [==============================] - 0s 23ms/step - loss: 0.0583 - accuracy: 0.9842 - val_loss: 2.6591 - val_accuracy: 0.6000\n",
            "Epoch 59/200\n",
            "15/15 [==============================] - 0s 24ms/step - loss: 0.0451 - accuracy: 0.9884 - val_loss: 2.3133 - val_accuracy: 0.6000\n",
            "Epoch 60/200\n",
            "15/15 [==============================] - 0s 23ms/step - loss: 0.0704 - accuracy: 0.9884 - val_loss: 2.0719 - val_accuracy: 0.6667\n",
            "Epoch 61/200\n",
            "15/15 [==============================] - 0s 24ms/step - loss: 0.0113 - accuracy: 1.0000 - val_loss: 1.9959 - val_accuracy: 0.7333\n",
            "Epoch 62/200\n",
            "15/15 [==============================] - 0s 24ms/step - loss: 0.0191 - accuracy: 0.9941 - val_loss: 2.4173 - val_accuracy: 0.6667\n",
            "Epoch 63/200\n",
            "15/15 [==============================] - 0s 26ms/step - loss: 0.0349 - accuracy: 0.9805 - val_loss: 2.5983 - val_accuracy: 0.6000\n",
            "Epoch 64/200\n",
            "15/15 [==============================] - 0s 24ms/step - loss: 0.0584 - accuracy: 0.9924 - val_loss: 1.5177 - val_accuracy: 0.8000\n",
            "Epoch 65/200\n",
            "15/15 [==============================] - 0s 23ms/step - loss: 0.0259 - accuracy: 0.9941 - val_loss: 1.0847 - val_accuracy: 0.8000\n",
            "Epoch 66/200\n",
            "15/15 [==============================] - 0s 23ms/step - loss: 0.0285 - accuracy: 1.0000 - val_loss: 1.4100 - val_accuracy: 0.7333\n",
            "Epoch 67/200\n",
            "15/15 [==============================] - 0s 25ms/step - loss: 0.0495 - accuracy: 1.0000 - val_loss: 1.6305 - val_accuracy: 0.8000\n",
            "Epoch 68/200\n",
            "15/15 [==============================] - 0s 23ms/step - loss: 0.0304 - accuracy: 0.9861 - val_loss: 1.5762 - val_accuracy: 0.8000\n",
            "Epoch 69/200\n",
            "15/15 [==============================] - 0s 24ms/step - loss: 0.0318 - accuracy: 1.0000 - val_loss: 2.1334 - val_accuracy: 0.7333\n",
            "Epoch 70/200\n",
            "15/15 [==============================] - 0s 24ms/step - loss: 0.0106 - accuracy: 1.0000 - val_loss: 1.8579 - val_accuracy: 0.8000\n",
            "Epoch 71/200\n",
            "15/15 [==============================] - 0s 24ms/step - loss: 0.0271 - accuracy: 1.0000 - val_loss: 1.8480 - val_accuracy: 0.8000\n",
            "Epoch 72/200\n",
            "15/15 [==============================] - 0s 26ms/step - loss: 0.0693 - accuracy: 0.9805 - val_loss: 2.4600 - val_accuracy: 0.6667\n",
            "Epoch 73/200\n",
            "15/15 [==============================] - 0s 24ms/step - loss: 0.0104 - accuracy: 1.0000 - val_loss: 3.1849 - val_accuracy: 0.6000\n",
            "Epoch 74/200\n",
            "15/15 [==============================] - 0s 23ms/step - loss: 0.0016 - accuracy: 1.0000 - val_loss: 3.3765 - val_accuracy: 0.6000\n",
            "Epoch 75/200\n",
            "15/15 [==============================] - 0s 24ms/step - loss: 0.0265 - accuracy: 0.9941 - val_loss: 2.9000 - val_accuracy: 0.6667\n",
            "Epoch 76/200\n",
            "15/15 [==============================] - 0s 24ms/step - loss: 0.0377 - accuracy: 0.9785 - val_loss: 2.0870 - val_accuracy: 0.7333\n",
            "Epoch 77/200\n",
            "15/15 [==============================] - 0s 23ms/step - loss: 0.2172 - accuracy: 0.9295 - val_loss: 2.1909 - val_accuracy: 0.7333\n",
            "Epoch 78/200\n",
            "15/15 [==============================] - 0s 24ms/step - loss: 0.0058 - accuracy: 1.0000 - val_loss: 2.2113 - val_accuracy: 0.7333\n",
            "Epoch 79/200\n",
            "15/15 [==============================] - 0s 25ms/step - loss: 0.0197 - accuracy: 0.9957 - val_loss: 1.9256 - val_accuracy: 0.7333\n",
            "Epoch 80/200\n",
            "15/15 [==============================] - 0s 25ms/step - loss: 0.0281 - accuracy: 0.9861 - val_loss: 2.3416 - val_accuracy: 0.6667\n",
            "Epoch 81/200\n",
            "15/15 [==============================] - 0s 24ms/step - loss: 0.3543 - accuracy: 0.8900 - val_loss: 1.9651 - val_accuracy: 0.8000\n",
            "Epoch 82/200\n",
            "15/15 [==============================] - 0s 23ms/step - loss: 0.0189 - accuracy: 1.0000 - val_loss: 2.4584 - val_accuracy: 0.7333\n",
            "Epoch 83/200\n",
            "15/15 [==============================] - 0s 23ms/step - loss: 0.0541 - accuracy: 0.9905 - val_loss: 1.6762 - val_accuracy: 0.8000\n",
            "Epoch 84/200\n",
            "15/15 [==============================] - 0s 23ms/step - loss: 0.1189 - accuracy: 0.9447 - val_loss: 2.5660 - val_accuracy: 0.6667\n",
            "Epoch 85/200\n",
            "15/15 [==============================] - 0s 23ms/step - loss: 0.0635 - accuracy: 0.9719 - val_loss: 1.5003 - val_accuracy: 0.8000\n",
            "Epoch 86/200\n",
            "15/15 [==============================] - 0s 25ms/step - loss: 0.0741 - accuracy: 0.9670 - val_loss: 1.5762 - val_accuracy: 0.8000\n",
            "Epoch 87/200\n",
            "15/15 [==============================] - 0s 25ms/step - loss: 0.0460 - accuracy: 0.9835 - val_loss: 2.1658 - val_accuracy: 0.8000\n",
            "Epoch 88/200\n",
            "15/15 [==============================] - 0s 24ms/step - loss: 0.1288 - accuracy: 0.9763 - val_loss: 4.4661 - val_accuracy: 0.4667\n",
            "Epoch 89/200\n",
            "15/15 [==============================] - 0s 23ms/step - loss: 0.1235 - accuracy: 0.9607 - val_loss: 1.8028 - val_accuracy: 0.8000\n",
            "Epoch 90/200\n",
            "15/15 [==============================] - 0s 24ms/step - loss: 0.0512 - accuracy: 0.9924 - val_loss: 2.1632 - val_accuracy: 0.6667\n",
            "Epoch 91/200\n",
            "15/15 [==============================] - 0s 25ms/step - loss: 0.1020 - accuracy: 0.9576 - val_loss: 1.6551 - val_accuracy: 0.8000\n",
            "Epoch 92/200\n",
            "15/15 [==============================] - 0s 23ms/step - loss: 0.0256 - accuracy: 0.9924 - val_loss: 1.4019 - val_accuracy: 0.8000\n",
            "Epoch 93/200\n",
            "15/15 [==============================] - 0s 24ms/step - loss: 0.0123 - accuracy: 1.0000 - val_loss: 1.4387 - val_accuracy: 0.8000\n",
            "Epoch 94/200\n",
            "15/15 [==============================] - 0s 23ms/step - loss: 0.0344 - accuracy: 0.9805 - val_loss: 1.5911 - val_accuracy: 0.8000\n",
            "Epoch 95/200\n",
            "15/15 [==============================] - 0s 23ms/step - loss: 0.0762 - accuracy: 0.9861 - val_loss: 1.7446 - val_accuracy: 0.7333\n",
            "Epoch 96/200\n",
            "15/15 [==============================] - 0s 25ms/step - loss: 0.0030 - accuracy: 1.0000 - val_loss: 1.7163 - val_accuracy: 0.7333\n",
            "Epoch 97/200\n",
            "15/15 [==============================] - 0s 23ms/step - loss: 0.0400 - accuracy: 0.9941 - val_loss: 1.7909 - val_accuracy: 0.7333\n",
            "Epoch 98/200\n",
            "15/15 [==============================] - 0s 31ms/step - loss: 0.0073 - accuracy: 1.0000 - val_loss: 1.9423 - val_accuracy: 0.7333\n",
            "Epoch 99/200\n",
            "15/15 [==============================] - 0s 24ms/step - loss: 0.0040 - accuracy: 1.0000 - val_loss: 2.1405 - val_accuracy: 0.7333\n",
            "Epoch 100/200\n",
            "15/15 [==============================] - 0s 23ms/step - loss: 0.0010 - accuracy: 1.0000 - val_loss: 2.7237 - val_accuracy: 0.6667\n",
            "Epoch 101/200\n",
            "15/15 [==============================] - 0s 24ms/step - loss: 0.0085 - accuracy: 1.0000 - val_loss: 2.9004 - val_accuracy: 0.6000\n",
            "Epoch 102/200\n",
            "15/15 [==============================] - 0s 24ms/step - loss: 0.0020 - accuracy: 1.0000 - val_loss: 2.9238 - val_accuracy: 0.6000\n",
            "Epoch 103/200\n",
            "15/15 [==============================] - 0s 23ms/step - loss: 0.0275 - accuracy: 1.0000 - val_loss: 2.2760 - val_accuracy: 0.7333\n",
            "Epoch 104/200\n",
            "15/15 [==============================] - 0s 25ms/step - loss: 5.2222e-04 - accuracy: 1.0000 - val_loss: 2.1479 - val_accuracy: 0.8000\n",
            "Epoch 105/200\n",
            "15/15 [==============================] - 0s 24ms/step - loss: 0.0014 - accuracy: 1.0000 - val_loss: 2.1389 - val_accuracy: 0.8000\n",
            "Epoch 106/200\n",
            "15/15 [==============================] - 0s 24ms/step - loss: 0.2258 - accuracy: 0.9065 - val_loss: 2.1378 - val_accuracy: 0.7333\n",
            "Epoch 107/200\n",
            "15/15 [==============================] - 0s 24ms/step - loss: 0.3172 - accuracy: 0.9200 - val_loss: 2.8877 - val_accuracy: 0.6000\n",
            "Epoch 108/200\n",
            "15/15 [==============================] - 0s 24ms/step - loss: 0.0241 - accuracy: 1.0000 - val_loss: 2.0592 - val_accuracy: 0.7333\n",
            "Epoch 109/200\n",
            "15/15 [==============================] - 0s 25ms/step - loss: 0.0078 - accuracy: 1.0000 - val_loss: 2.1169 - val_accuracy: 0.8000\n",
            "Epoch 110/200\n",
            "15/15 [==============================] - 0s 23ms/step - loss: 0.0474 - accuracy: 1.0000 - val_loss: 2.0378 - val_accuracy: 0.8000\n",
            "Epoch 111/200\n",
            "15/15 [==============================] - 0s 25ms/step - loss: 0.0357 - accuracy: 1.0000 - val_loss: 2.1153 - val_accuracy: 0.8000\n",
            "Epoch 112/200\n",
            "15/15 [==============================] - 0s 24ms/step - loss: 0.0075 - accuracy: 1.0000 - val_loss: 2.3560 - val_accuracy: 0.7333\n",
            "Epoch 113/200\n",
            "15/15 [==============================] - 0s 24ms/step - loss: 0.0066 - accuracy: 1.0000 - val_loss: 2.4721 - val_accuracy: 0.7333\n",
            "Epoch 114/200\n",
            "15/15 [==============================] - 0s 23ms/step - loss: 0.0017 - accuracy: 1.0000 - val_loss: 2.5242 - val_accuracy: 0.7333\n",
            "Epoch 115/200\n",
            "15/15 [==============================] - 0s 25ms/step - loss: 0.0224 - accuracy: 1.0000 - val_loss: 2.4949 - val_accuracy: 0.7333\n",
            "Epoch 116/200\n",
            "15/15 [==============================] - 0s 24ms/step - loss: 0.0048 - accuracy: 1.0000 - val_loss: 2.4672 - val_accuracy: 0.8000\n",
            "Epoch 117/200\n",
            "15/15 [==============================] - 0s 25ms/step - loss: 0.0316 - accuracy: 1.0000 - val_loss: 2.2067 - val_accuracy: 0.8000\n",
            "Epoch 118/200\n",
            "15/15 [==============================] - 0s 24ms/step - loss: 0.0080 - accuracy: 1.0000 - val_loss: 2.2596 - val_accuracy: 0.8000\n",
            "Epoch 119/200\n",
            "15/15 [==============================] - 0s 25ms/step - loss: 1.5874e-04 - accuracy: 1.0000 - val_loss: 2.3004 - val_accuracy: 0.8000\n",
            "Epoch 120/200\n",
            "15/15 [==============================] - 0s 24ms/step - loss: 0.0012 - accuracy: 1.0000 - val_loss: 2.3261 - val_accuracy: 0.8000\n",
            "Epoch 121/200\n",
            "15/15 [==============================] - 0s 24ms/step - loss: 0.0045 - accuracy: 1.0000 - val_loss: 2.3314 - val_accuracy: 0.8000\n",
            "Epoch 122/200\n",
            "15/15 [==============================] - 0s 25ms/step - loss: 9.5332e-04 - accuracy: 1.0000 - val_loss: 2.3442 - val_accuracy: 0.8000\n",
            "Epoch 123/200\n",
            "15/15 [==============================] - 0s 23ms/step - loss: 0.0044 - accuracy: 1.0000 - val_loss: 2.2542 - val_accuracy: 0.8000\n",
            "Epoch 124/200\n",
            "15/15 [==============================] - 0s 25ms/step - loss: 0.0023 - accuracy: 1.0000 - val_loss: 2.2162 - val_accuracy: 0.8000\n",
            "Epoch 125/200\n",
            "15/15 [==============================] - 0s 24ms/step - loss: 0.1027 - accuracy: 0.9905 - val_loss: 2.4049 - val_accuracy: 0.8000\n",
            "Epoch 126/200\n",
            "15/15 [==============================] - 0s 25ms/step - loss: 0.0015 - accuracy: 1.0000 - val_loss: 2.6513 - val_accuracy: 0.6667\n",
            "Epoch 127/200\n",
            "15/15 [==============================] - 0s 25ms/step - loss: 0.0021 - accuracy: 1.0000 - val_loss: 2.5413 - val_accuracy: 0.7333\n",
            "Epoch 128/200\n",
            "15/15 [==============================] - 0s 25ms/step - loss: 0.0122 - accuracy: 1.0000 - val_loss: 2.3860 - val_accuracy: 0.7333\n",
            "Epoch 129/200\n",
            "15/15 [==============================] - 0s 24ms/step - loss: 0.0041 - accuracy: 1.0000 - val_loss: 2.3886 - val_accuracy: 0.8000\n",
            "Epoch 130/200\n",
            "15/15 [==============================] - 0s 24ms/step - loss: 0.0302 - accuracy: 1.0000 - val_loss: 2.3937 - val_accuracy: 0.7333\n",
            "Epoch 131/200\n",
            "15/15 [==============================] - 0s 24ms/step - loss: 0.0046 - accuracy: 1.0000 - val_loss: 2.3572 - val_accuracy: 0.7333\n",
            "Epoch 132/200\n",
            "15/15 [==============================] - 0s 25ms/step - loss: 4.6474e-04 - accuracy: 1.0000 - val_loss: 2.3514 - val_accuracy: 0.8000\n",
            "Epoch 133/200\n",
            "15/15 [==============================] - 0s 25ms/step - loss: 0.0026 - accuracy: 1.0000 - val_loss: 2.4250 - val_accuracy: 0.8000\n",
            "Epoch 134/200\n",
            "15/15 [==============================] - 0s 24ms/step - loss: 0.0037 - accuracy: 1.0000 - val_loss: 2.4554 - val_accuracy: 0.8000\n",
            "Epoch 135/200\n",
            "15/15 [==============================] - 0s 24ms/step - loss: 0.0019 - accuracy: 1.0000 - val_loss: 2.4316 - val_accuracy: 0.8000\n",
            "Epoch 136/200\n",
            "15/15 [==============================] - 0s 25ms/step - loss: 0.0019 - accuracy: 1.0000 - val_loss: 2.3673 - val_accuracy: 0.8000\n",
            "Epoch 137/200\n",
            "15/15 [==============================] - 0s 24ms/step - loss: 0.0029 - accuracy: 1.0000 - val_loss: 2.2940 - val_accuracy: 0.8000\n",
            "Epoch 138/200\n",
            "15/15 [==============================] - 0s 26ms/step - loss: 9.1607e-04 - accuracy: 1.0000 - val_loss: 2.3346 - val_accuracy: 0.8000\n",
            "Epoch 139/200\n",
            "15/15 [==============================] - 0s 25ms/step - loss: 0.0013 - accuracy: 1.0000 - val_loss: 2.3652 - val_accuracy: 0.8000\n",
            "Epoch 140/200\n",
            "15/15 [==============================] - 1s 34ms/step - loss: 0.0090 - accuracy: 1.0000 - val_loss: 2.3394 - val_accuracy: 0.8000\n",
            "Epoch 141/200\n",
            "15/15 [==============================] - 0s 24ms/step - loss: 0.0085 - accuracy: 1.0000 - val_loss: 2.2792 - val_accuracy: 0.7333\n",
            "Epoch 142/200\n",
            "15/15 [==============================] - 0s 24ms/step - loss: 0.0965 - accuracy: 0.9655 - val_loss: 2.4568 - val_accuracy: 0.7333\n",
            "Epoch 143/200\n",
            "15/15 [==============================] - 0s 24ms/step - loss: 7.0862e-04 - accuracy: 1.0000 - val_loss: 2.6779 - val_accuracy: 0.6000\n",
            "Epoch 144/200\n",
            "15/15 [==============================] - 0s 25ms/step - loss: 0.4570 - accuracy: 0.8798 - val_loss: 2.5352 - val_accuracy: 0.7333\n",
            "Epoch 145/200\n",
            "15/15 [==============================] - 0s 25ms/step - loss: 0.0105 - accuracy: 1.0000 - val_loss: 2.3365 - val_accuracy: 0.7333\n",
            "Epoch 146/200\n",
            "15/15 [==============================] - 0s 24ms/step - loss: 0.1200 - accuracy: 0.9729 - val_loss: 5.3530 - val_accuracy: 0.4000\n",
            "Epoch 147/200\n",
            "15/15 [==============================] - 0s 25ms/step - loss: 0.0091 - accuracy: 1.0000 - val_loss: 2.7173 - val_accuracy: 0.6000\n",
            "Epoch 148/200\n",
            "15/15 [==============================] - 0s 25ms/step - loss: 0.0078 - accuracy: 1.0000 - val_loss: 2.1909 - val_accuracy: 0.6667\n",
            "Epoch 149/200\n",
            "15/15 [==============================] - 0s 25ms/step - loss: 0.0079 - accuracy: 1.0000 - val_loss: 2.3080 - val_accuracy: 0.6667\n",
            "Epoch 150/200\n",
            "15/15 [==============================] - 0s 24ms/step - loss: 0.0015 - accuracy: 1.0000 - val_loss: 2.6594 - val_accuracy: 0.6000\n",
            "Epoch 151/200\n",
            "15/15 [==============================] - 0s 25ms/step - loss: 0.0012 - accuracy: 1.0000 - val_loss: 2.7092 - val_accuracy: 0.6000\n",
            "Epoch 152/200\n",
            "15/15 [==============================] - 0s 24ms/step - loss: 0.0031 - accuracy: 1.0000 - val_loss: 2.4883 - val_accuracy: 0.6667\n",
            "Epoch 153/200\n",
            "15/15 [==============================] - 0s 24ms/step - loss: 8.0845e-04 - accuracy: 1.0000 - val_loss: 2.4570 - val_accuracy: 0.6667\n",
            "Epoch 154/200\n",
            "15/15 [==============================] - 0s 24ms/step - loss: 0.0029 - accuracy: 1.0000 - val_loss: 2.4469 - val_accuracy: 0.6667\n",
            "Epoch 155/200\n",
            "15/15 [==============================] - 0s 25ms/step - loss: 0.0017 - accuracy: 1.0000 - val_loss: 2.3955 - val_accuracy: 0.6667\n",
            "Epoch 156/200\n",
            "15/15 [==============================] - 0s 26ms/step - loss: 0.0023 - accuracy: 1.0000 - val_loss: 2.3831 - val_accuracy: 0.6667\n",
            "Epoch 157/200\n",
            "15/15 [==============================] - 0s 24ms/step - loss: 0.0018 - accuracy: 1.0000 - val_loss: 2.3670 - val_accuracy: 0.6667\n",
            "Epoch 158/200\n",
            "15/15 [==============================] - 0s 24ms/step - loss: 0.0212 - accuracy: 1.0000 - val_loss: 2.5514 - val_accuracy: 0.7333\n",
            "Epoch 159/200\n",
            "15/15 [==============================] - 0s 25ms/step - loss: 0.0173 - accuracy: 1.0000 - val_loss: 2.0756 - val_accuracy: 0.8000\n",
            "Epoch 160/200\n",
            "15/15 [==============================] - 0s 24ms/step - loss: 0.0040 - accuracy: 1.0000 - val_loss: 2.1997 - val_accuracy: 0.7333\n",
            "Epoch 161/200\n",
            "15/15 [==============================] - 0s 25ms/step - loss: 1.1497e-04 - accuracy: 1.0000 - val_loss: 2.2571 - val_accuracy: 0.7333\n",
            "Epoch 162/200\n",
            "15/15 [==============================] - 0s 25ms/step - loss: 0.0486 - accuracy: 0.9884 - val_loss: 2.3740 - val_accuracy: 0.7333\n",
            "Epoch 163/200\n",
            "15/15 [==============================] - 0s 25ms/step - loss: 0.3289 - accuracy: 0.9607 - val_loss: 2.5243 - val_accuracy: 0.6667\n",
            "Epoch 164/200\n",
            "15/15 [==============================] - 0s 25ms/step - loss: 0.0078 - accuracy: 1.0000 - val_loss: 2.4403 - val_accuracy: 0.6667\n",
            "Epoch 165/200\n",
            "15/15 [==============================] - 0s 25ms/step - loss: 0.0072 - accuracy: 1.0000 - val_loss: 2.0467 - val_accuracy: 0.7333\n",
            "Epoch 166/200\n",
            "15/15 [==============================] - 0s 25ms/step - loss: 0.0073 - accuracy: 1.0000 - val_loss: 2.0913 - val_accuracy: 0.7333\n",
            "Epoch 167/200\n",
            "15/15 [==============================] - 0s 24ms/step - loss: 0.0018 - accuracy: 1.0000 - val_loss: 2.0862 - val_accuracy: 0.7333\n",
            "Epoch 168/200\n",
            "15/15 [==============================] - 0s 24ms/step - loss: 0.1105 - accuracy: 0.9295 - val_loss: 2.0743 - val_accuracy: 0.6667\n",
            "Epoch 169/200\n",
            "15/15 [==============================] - 0s 25ms/step - loss: 0.0159 - accuracy: 1.0000 - val_loss: 2.5083 - val_accuracy: 0.6667\n",
            "Epoch 170/200\n",
            "15/15 [==============================] - 0s 25ms/step - loss: 0.0109 - accuracy: 1.0000 - val_loss: 2.6879 - val_accuracy: 0.6667\n",
            "Epoch 171/200\n",
            "15/15 [==============================] - 0s 24ms/step - loss: 0.0084 - accuracy: 1.0000 - val_loss: 3.1641 - val_accuracy: 0.6667\n",
            "Epoch 172/200\n",
            "15/15 [==============================] - 0s 24ms/step - loss: 0.0120 - accuracy: 0.9884 - val_loss: 2.5976 - val_accuracy: 0.7333\n",
            "Epoch 173/200\n",
            "15/15 [==============================] - 0s 25ms/step - loss: 0.0493 - accuracy: 0.9503 - val_loss: 3.0902 - val_accuracy: 0.6667\n",
            "Epoch 174/200\n",
            "15/15 [==============================] - 0s 24ms/step - loss: 0.0286 - accuracy: 0.9972 - val_loss: 2.4851 - val_accuracy: 0.6667\n",
            "Epoch 175/200\n",
            "15/15 [==============================] - 0s 25ms/step - loss: 0.0054 - accuracy: 1.0000 - val_loss: 1.2555 - val_accuracy: 0.8000\n",
            "Epoch 176/200\n",
            "15/15 [==============================] - 0s 24ms/step - loss: 0.0642 - accuracy: 0.9655 - val_loss: 1.6798 - val_accuracy: 0.7333\n",
            "Epoch 177/200\n",
            "15/15 [==============================] - 0s 25ms/step - loss: 0.0222 - accuracy: 1.0000 - val_loss: 2.5764 - val_accuracy: 0.7333\n",
            "Epoch 178/200\n",
            "15/15 [==============================] - 0s 24ms/step - loss: 6.9469e-04 - accuracy: 1.0000 - val_loss: 2.7061 - val_accuracy: 0.7333\n",
            "Epoch 179/200\n",
            "15/15 [==============================] - 0s 25ms/step - loss: 0.0285 - accuracy: 0.9805 - val_loss: 0.7189 - val_accuracy: 0.8667\n",
            "Epoch 180/200\n",
            "15/15 [==============================] - 0s 25ms/step - loss: 0.1439 - accuracy: 0.9295 - val_loss: 1.9071 - val_accuracy: 0.6667\n",
            "Epoch 181/200\n",
            "15/15 [==============================] - 0s 25ms/step - loss: 0.5884 - accuracy: 0.8972 - val_loss: 1.1212 - val_accuracy: 0.7333\n",
            "Epoch 182/200\n",
            "15/15 [==============================] - 0s 33ms/step - loss: 0.0339 - accuracy: 0.9835 - val_loss: 0.6629 - val_accuracy: 0.8000\n",
            "Epoch 183/200\n",
            "15/15 [==============================] - 0s 24ms/step - loss: 0.0772 - accuracy: 0.9924 - val_loss: 1.4120 - val_accuracy: 0.7333\n",
            "Epoch 184/200\n",
            "15/15 [==============================] - 0s 25ms/step - loss: 0.0711 - accuracy: 0.9677 - val_loss: 1.8681 - val_accuracy: 0.7333\n",
            "Epoch 185/200\n",
            "15/15 [==============================] - 0s 24ms/step - loss: 0.0059 - accuracy: 1.0000 - val_loss: 1.9470 - val_accuracy: 0.8000\n",
            "Epoch 186/200\n",
            "15/15 [==============================] - 0s 24ms/step - loss: 0.0780 - accuracy: 0.9607 - val_loss: 2.5214 - val_accuracy: 0.6667\n",
            "Epoch 187/200\n",
            "15/15 [==============================] - 0s 25ms/step - loss: 0.0055 - accuracy: 0.9957 - val_loss: 2.5127 - val_accuracy: 0.7333\n",
            "Epoch 188/200\n",
            "15/15 [==============================] - 0s 25ms/step - loss: 0.0033 - accuracy: 1.0000 - val_loss: 2.2796 - val_accuracy: 0.7333\n",
            "Epoch 189/200\n",
            "15/15 [==============================] - 0s 24ms/step - loss: 0.0103 - accuracy: 1.0000 - val_loss: 2.2034 - val_accuracy: 0.7333\n",
            "Epoch 190/200\n",
            "15/15 [==============================] - 0s 25ms/step - loss: 0.0013 - accuracy: 1.0000 - val_loss: 2.2143 - val_accuracy: 0.7333\n",
            "Epoch 191/200\n",
            "15/15 [==============================] - 0s 25ms/step - loss: 0.0014 - accuracy: 1.0000 - val_loss: 2.1581 - val_accuracy: 0.7333\n",
            "Epoch 192/200\n",
            "15/15 [==============================] - 0s 25ms/step - loss: 0.0011 - accuracy: 1.0000 - val_loss: 2.1378 - val_accuracy: 0.7333\n",
            "Epoch 193/200\n",
            "15/15 [==============================] - 0s 23ms/step - loss: 0.0020 - accuracy: 1.0000 - val_loss: 2.1706 - val_accuracy: 0.7333\n",
            "Epoch 194/200\n",
            "15/15 [==============================] - 0s 24ms/step - loss: 0.0017 - accuracy: 1.0000 - val_loss: 2.2203 - val_accuracy: 0.7333\n",
            "Epoch 195/200\n",
            "15/15 [==============================] - 0s 24ms/step - loss: 0.0825 - accuracy: 0.9295 - val_loss: 3.2659 - val_accuracy: 0.6667\n",
            "Epoch 196/200\n",
            "15/15 [==============================] - 0s 23ms/step - loss: 0.0047 - accuracy: 1.0000 - val_loss: 3.4715 - val_accuracy: 0.5333\n",
            "Epoch 197/200\n",
            "15/15 [==============================] - 0s 24ms/step - loss: 0.1338 - accuracy: 0.9607 - val_loss: 1.5379 - val_accuracy: 0.8000\n",
            "Epoch 198/200\n",
            "15/15 [==============================] - 0s 24ms/step - loss: 0.0150 - accuracy: 1.0000 - val_loss: 1.4732 - val_accuracy: 0.8000\n",
            "Epoch 199/200\n",
            "15/15 [==============================] - 0s 25ms/step - loss: 0.1319 - accuracy: 0.9200 - val_loss: 1.6354 - val_accuracy: 0.8000\n",
            "Epoch 200/200\n",
            "15/15 [==============================] - 0s 25ms/step - loss: 0.0267 - accuracy: 1.0000 - val_loss: 1.1486 - val_accuracy: 0.8000\n"
          ],
          "name": "stdout"
        }
      ]
    },
    {
      "cell_type": "markdown",
      "metadata": {
        "id": "6MEWyLtihev4"
      },
      "source": [
        "### 모델 평가하기"
      ]
    },
    {
      "cell_type": "code",
      "metadata": {
        "colab": {
          "base_uri": "https://localhost:8080/"
        },
        "id": "1hRl8PEPhQs6",
        "outputId": "9514abbe-40a3-4eac-8b1e-ecc584a543c1"
      },
      "source": [
        "print(\"--Evaluate--\")\r\n",
        "scores = model.evaluate_generator(test_generator, steps=5)\r\n",
        "print(\"%s: %.2f%%\"%(model.metrics_names[1], scores[1]*100));"
      ],
      "execution_count": 20,
      "outputs": [
        {
          "output_type": "stream",
          "text": [
            "--Evaluate--\n",
            "accuracy: 80.00%\n"
          ],
          "name": "stdout"
        },
        {
          "output_type": "stream",
          "text": [
            "/usr/local/lib/python3.6/dist-packages/tensorflow/python/keras/engine/training.py:1877: UserWarning: `Model.evaluate_generator` is deprecated and will be removed in a future version. Please use `Model.evaluate`, which supports generators.\n",
            "  warnings.warn('`Model.evaluate_generator` is deprecated and '\n"
          ],
          "name": "stderr"
        }
      ]
    },
    {
      "cell_type": "code",
      "metadata": {
        "id": "Gq5SmGuOhpR0"
      },
      "source": [
        ""
      ],
      "execution_count": null,
      "outputs": []
    }
  ]
}