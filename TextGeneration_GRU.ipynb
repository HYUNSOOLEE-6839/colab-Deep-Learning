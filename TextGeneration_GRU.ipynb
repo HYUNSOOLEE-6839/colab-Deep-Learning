{
  "nbformat": 4,
  "nbformat_minor": 0,
  "metadata": {
    "colab": {
      "name": "TextGeneration_GRU.ipynb",
      "provenance": [],
      "collapsed_sections": [],
      "authorship_tag": "ABX9TyMtp9edDFhmpKT0JDzR/STA",
      "include_colab_link": true
    },
    "kernelspec": {
      "name": "python3",
      "display_name": "Python 3"
    },
    "accelerator": "GPU"
  },
  "cells": [
    {
      "cell_type": "markdown",
      "metadata": {
        "id": "view-in-github",
        "colab_type": "text"
      },
      "source": [
        "<a href=\"https://colab.research.google.com/github/HYUNSOOLEE-6839/colab-Deep-Learning/blob/main/TextGeneration_GRU.ipynb\" target=\"_parent\"><img src=\"https://colab.research.google.com/assets/colab-badge.svg\" alt=\"Open In Colab\"/></a>"
      ]
    },
    {
      "cell_type": "code",
      "metadata": {
        "id": "rIJvjFCyutCr"
      },
      "source": [
        "import tensorflow as tf\r\n",
        "from tensorflow import keras\r\n",
        "from tensorflow.keras.preprocessing.text import Tokenizer\r\n",
        "from tensorflow.keras.preprocessing.sequence import pad_sequences\r\n",
        "from tensorflow.keras.utils import to_categorical"
      ],
      "execution_count": 2,
      "outputs": []
    },
    {
      "cell_type": "code",
      "metadata": {
        "colab": {
          "resources": {
            "http://localhost:8080/nbextensions/google.colab/files.js": {
              "data": "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",
              "ok": true,
              "headers": [
                [
                  "content-type",
                  "application/javascript"
                ]
              ],
              "status": 200,
              "status_text": ""
            }
          },
          "base_uri": "https://localhost:8080/",
          "height": 76
        },
        "id": "dpT2vGgqvQVR",
        "outputId": "ee2d6f84-a543-4114-84c8-bda9f9e269fe"
      },
      "source": [
        "from google.colab import files\r\n",
        "\r\n",
        "uploaded = files.upload()\r\n",
        "filename = list(uploaded.keys())[0]"
      ],
      "execution_count": 1,
      "outputs": [
        {
          "output_type": "display_data",
          "data": {
            "text/html": [
              "\n",
              "     <input type=\"file\" id=\"files-2757244d-c30d-4bb6-8664-680a32164b35\" name=\"files[]\" multiple disabled\n",
              "        style=\"border:none\" />\n",
              "     <output id=\"result-2757244d-c30d-4bb6-8664-680a32164b35\">\n",
              "      Upload widget is only available when the cell has been executed in the\n",
              "      current browser session. Please rerun this cell to enable.\n",
              "      </output>\n",
              "      <script src=\"/nbextensions/google.colab/files.js\"></script> "
            ],
            "text/plain": [
              "<IPython.core.display.HTML object>"
            ]
          },
          "metadata": {
            "tags": []
          }
        },
        {
          "output_type": "stream",
          "text": [
            "Saving ArticlesApril2018.csv to ArticlesApril2018.csv\n"
          ],
          "name": "stdout"
        }
      ]
    },
    {
      "cell_type": "code",
      "metadata": {
        "id": "Y1JDULV5vTxR"
      },
      "source": [
        "import pandas as pd\r\n",
        "import numpy as np\r\n",
        "df = pd.read_csv(filename, encoding='latin1')"
      ],
      "execution_count": 3,
      "outputs": []
    },
    {
      "cell_type": "markdown",
      "metadata": {
        "id": "msPFKnZ3vX_4"
      },
      "source": [
        "### 데이터 전처리"
      ]
    },
    {
      "cell_type": "code",
      "metadata": {
        "colab": {
          "base_uri": "https://localhost:8080/"
        },
        "id": "lu_jpzpXvWGA",
        "outputId": "0b1dd4fb-0f92-4331-acb6-8e4027c56eb1"
      },
      "source": [
        "print('열의 개수', len(df.columns))\r\n",
        "print(df.columns)"
      ],
      "execution_count": 4,
      "outputs": [
        {
          "output_type": "stream",
          "text": [
            "열의 개수 15\n",
            "Index(['articleID', 'articleWordCount', 'byline', 'documentType', 'headline',\n",
            "       'keywords', 'multimedia', 'newDesk', 'printPage', 'pubDate',\n",
            "       'sectionName', 'snippet', 'source', 'typeOfMaterial', 'webURL'],\n",
            "      dtype='object')\n"
          ],
          "name": "stdout"
        }
      ]
    },
    {
      "cell_type": "code",
      "metadata": {
        "colab": {
          "base_uri": "https://localhost:8080/"
        },
        "id": "RFZNyhPgvYvv",
        "outputId": "f17dc131-f7e7-42af-db30-35a7dec58d29"
      },
      "source": [
        "# headline 열의 데이터만 사용, null 검사\r\n",
        "df['headline'].isnull().values.any()"
      ],
      "execution_count": 5,
      "outputs": [
        {
          "output_type": "execute_result",
          "data": {
            "text/plain": [
              "False"
            ]
          },
          "metadata": {
            "tags": []
          },
          "execution_count": 5
        }
      ]
    },
    {
      "cell_type": "code",
      "metadata": {
        "colab": {
          "base_uri": "https://localhost:8080/"
        },
        "id": "rGu9f5l4vaJg",
        "outputId": "fa10b9fe-be0b-41ba-dbde-daff9ea9da0d"
      },
      "source": [
        "# headline 열의 데이터로 리스트 생성\r\n",
        "headline = [title for title in df.headline.values]\r\n",
        "headline[:5]"
      ],
      "execution_count": 6,
      "outputs": [
        {
          "output_type": "execute_result",
          "data": {
            "text/plain": [
              "['Former N.F.L. Cheerleadersâ\\x80\\x99 Settlement Offer: $1 and a Meeting With Goodell',\n",
              " 'E.P.A. to Unveil a New Rule. Its Effect: Less Science in Policymaking.',\n",
              " 'The New Noma, Explained',\n",
              " 'Unknown',\n",
              " 'Unknown']"
            ]
          },
          "metadata": {
            "tags": []
          },
          "execution_count": 6
        }
      ]
    },
    {
      "cell_type": "code",
      "metadata": {
        "colab": {
          "base_uri": "https://localhost:8080/"
        },
        "id": "3VKDZxYNvbPn",
        "outputId": "39e30df1-b695-465e-e3b3-92297fe4a5f2"
      },
      "source": [
        "# 노이즈 데이터('Unknown') 제거\r\n",
        "headline = [title for title in df.headline if title != 'Unknown']\r\n",
        "len(headline)"
      ],
      "execution_count": 7,
      "outputs": [
        {
          "output_type": "execute_result",
          "data": {
            "text/plain": [
              "1214"
            ]
          },
          "metadata": {
            "tags": []
          },
          "execution_count": 7
        }
      ]
    },
    {
      "cell_type": "code",
      "metadata": {
        "colab": {
          "base_uri": "https://localhost:8080/",
          "height": 35
        },
        "id": "-Yon_B4KvdEf",
        "outputId": "666352af-973d-4fd5-baa5-8bd90f628d35"
      },
      "source": [
        "from string import punctuation\r\n",
        "punctuation"
      ],
      "execution_count": 8,
      "outputs": [
        {
          "output_type": "execute_result",
          "data": {
            "application/vnd.google.colaboratory.intrinsic+json": {
              "type": "string"
            },
            "text/plain": [
              "'!\"#$%&\\'()*+,-./:;<=>?@[\\\\]^_`{|}~'"
            ]
          },
          "metadata": {
            "tags": []
          },
          "execution_count": 8
        }
      ]
    },
    {
      "cell_type": "code",
      "metadata": {
        "id": "bkGSCKEavd_3"
      },
      "source": [
        "# 구두점 제거와 소문자화를 위한 함수 생성\r\n",
        "def repreprocessing(s):\r\n",
        "  s=s.encode(\"utf8\").decode(\"ascii\",'ignore')\r\n",
        "  return ''.join(c for c in s if c not in punctuation).lower()"
      ],
      "execution_count": 9,
      "outputs": []
    },
    {
      "cell_type": "code",
      "metadata": {
        "colab": {
          "base_uri": "https://localhost:8080/"
        },
        "id": "-H7zy4wPvezg",
        "outputId": "64548328-3615-4937-ee8f-dc2d3663ff4d"
      },
      "source": [
        "text = [repreprocessing(x) for x in headline]\r\n",
        "text[:5]"
      ],
      "execution_count": 10,
      "outputs": [
        {
          "output_type": "execute_result",
          "data": {
            "text/plain": [
              "['former nfl cheerleaders settlement offer 1 and a meeting with goodell',\n",
              " 'epa to unveil a new rule its effect less science in policymaking',\n",
              " 'the new noma explained',\n",
              " 'how a bag of texas dirt  became a times tradition',\n",
              " 'is school a place for selfexpression']"
            ]
          },
          "metadata": {
            "tags": []
          },
          "execution_count": 10
        }
      ]
    },
    {
      "cell_type": "code",
      "metadata": {
        "colab": {
          "base_uri": "https://localhost:8080/"
        },
        "id": "LKtCUfUvvf6Q",
        "outputId": "d3ab9c2f-b06a-4a99-b76e-1b7cfd951bcd"
      },
      "source": [
        "# 단어 집합(voca)을 만들고 크기를 확인\r\n",
        "t = Tokenizer()\r\n",
        "t.fit_on_texts(text)\r\n",
        "vocab_size = len(t.word_index) +1\r\n",
        "print('단어 집합의 크기 :%d' % vocab_size)"
      ],
      "execution_count": 11,
      "outputs": [
        {
          "output_type": "stream",
          "text": [
            "단어 집합의 크기 :3494\n"
          ],
          "name": "stdout"
        }
      ]
    },
    {
      "cell_type": "code",
      "metadata": {
        "colab": {
          "base_uri": "https://localhost:8080/"
        },
        "id": "SJT2Elnsvg1X",
        "outputId": "0e5c8268-ca8e-4761-da9f-639fc17ddc9e"
      },
      "source": [
        "sequences = []\r\n",
        "for line in headline: # 1214개의 샘플에 대해서 샘플을 1개씩 가져온다.\r\n",
        "  encoded = t.texts_to_sequences([line])[0] # 각 샘플에 대한 정수 인코딩\r\n",
        "  for i in range(1, len(encoded)):\r\n",
        "    sequence = encoded[:i+1]\r\n",
        "    sequences.append(sequence)\r\n",
        "\r\n",
        "sequences[:11] # 11개의 샘플 출력"
      ],
      "execution_count": 12,
      "outputs": [
        {
          "output_type": "execute_result",
          "data": {
            "text/plain": [
              "[[99, 2237],\n",
              " [99, 2237, 1115],\n",
              " [99, 2237, 1115, 582],\n",
              " [99, 2237, 1115, 582, 52],\n",
              " [99, 2237, 1115, 582, 52, 7],\n",
              " [99, 2237, 1115, 582, 52, 7, 2],\n",
              " [99, 2237, 1115, 582, 52, 7, 2, 372],\n",
              " [99, 2237, 1115, 582, 52, 7, 2, 372, 10],\n",
              " [99, 2237, 1115, 582, 52, 7, 2, 372, 10, 1116],\n",
              " [1145, 2],\n",
              " [1145, 2, 3]]"
            ]
          },
          "metadata": {
            "tags": []
          },
          "execution_count": 12
        }
      ]
    },
    {
      "cell_type": "code",
      "metadata": {
        "colab": {
          "base_uri": "https://localhost:8080/"
        },
        "id": "XPoiFB6-vh1v",
        "outputId": "86831d7d-4834-4fb0-e848-06b2106252cc"
      },
      "source": [
        "index_to_word = {}\r\n",
        "for key, value in t.word_index.items(): # 인덱스를 단어로 바꾸기 위해 index_to 사용\r\n",
        "  index_to_word[value] = key\r\n",
        "\r\n",
        "print('빈도수 상위 1번 단어:', index_to_word[1]) \r\n",
        "print('빈도수 상위 582번 단어:', index_to_word[582]) "
      ],
      "execution_count": 13,
      "outputs": [
        {
          "output_type": "stream",
          "text": [
            "빈도수 상위 1번 단어: the\n",
            "빈도수 상위 582번 단어: offer\n"
          ],
          "name": "stdout"
        }
      ]
    },
    {
      "cell_type": "code",
      "metadata": {
        "colab": {
          "base_uri": "https://localhost:8080/"
        },
        "id": "2iuq77g1vjB4",
        "outputId": "3ce524a5-8d5c-44a3-a458-6c1402e7c80f"
      },
      "source": [
        "max_len = max(len(s) for s in sequences)\r\n",
        "print('샘플의 최대 길이:', max_len)"
      ],
      "execution_count": 14,
      "outputs": [
        {
          "output_type": "stream",
          "text": [
            "샘플의 최대 길이: 23\n"
          ],
          "name": "stdout"
        }
      ]
    },
    {
      "cell_type": "code",
      "metadata": {
        "colab": {
          "base_uri": "https://localhost:8080/"
        },
        "id": "77Kjx1pPvkSv",
        "outputId": "70e91046-2af0-4d2c-9748-1ac3a0b36e9a"
      },
      "source": [
        "# 전체 샘플의 길이를 23(가장 긴 샘플의 길이)로 패딩\r\n",
        "# pre 옵션을 주면 앞을 0으로 패딩\r\n",
        "sequences = pad_sequences(sequences, maxlen=max_len, padding='pre')\r\n",
        "print(sequences[:3])"
      ],
      "execution_count": 15,
      "outputs": [
        {
          "output_type": "stream",
          "text": [
            "[[   0    0    0    0    0    0    0    0    0    0    0    0    0    0\n",
            "     0    0    0    0    0    0    0   99 2237]\n",
            " [   0    0    0    0    0    0    0    0    0    0    0    0    0    0\n",
            "     0    0    0    0    0    0   99 2237 1115]\n",
            " [   0    0    0    0    0    0    0    0    0    0    0    0    0    0\n",
            "     0    0    0    0    0   99 2237 1115  582]]\n"
          ],
          "name": "stdout"
        }
      ]
    },
    {
      "cell_type": "code",
      "metadata": {
        "id": "yFrrXRTRvlEY"
      },
      "source": [
        "# 각 샘플의 마지막 단어를 레이블로 분리\r\n",
        "X = sequences[:, :-1]\r\n",
        "y = sequences[:, -1]\r\n",
        "# 리스트의 마지막 값을 제외하고 저장한 것은 X\r\n",
        "# 리스트의 마지막 값만 저장한 것은 y. 이는 레이블에 해당됨."
      ],
      "execution_count": 16,
      "outputs": []
    },
    {
      "cell_type": "code",
      "metadata": {
        "id": "34DXNjhfvl9L"
      },
      "source": [
        "# 레이블 데이터 y에 대해서 원-핫 인코딩을 수행\r\n",
        "Y = to_categorical(y, num_classes=vocab_size)"
      ],
      "execution_count": 17,
      "outputs": []
    },
    {
      "cell_type": "markdown",
      "metadata": {
        "id": "j0tjlPaVvodY"
      },
      "source": [
        "### 모델 정의"
      ]
    },
    {
      "cell_type": "code",
      "metadata": {
        "id": "iRHXQZdJvnR5"
      },
      "source": [
        "import tensorflow as tf\r\n",
        "from tensorflow.keras.models import Sequential\r\n",
        "from tensorflow.keras.layers import GRU, Dense, Embedding"
      ],
      "execution_count": 18,
      "outputs": []
    },
    {
      "cell_type": "code",
      "metadata": {
        "colab": {
          "base_uri": "https://localhost:8080/"
        },
        "id": "xcFN4r4UvqzQ",
        "outputId": "e7b111aa-1a67-4bce-d52a-f200f5f1d755"
      },
      "source": [
        "# 각 단어의 임베딩 벡터는 10차원, LSTM 노드 크기는 128\r\n",
        "model = Sequential()\r\n",
        "model.add(Embedding(vocab_size, 10, input_length=max_len-1))\r\n",
        "model.add(GRU(128, name=\"GRU_Layer\"))\r\n",
        "model.add(Dense(vocab_size, activation='softmax', name=\"Output_Layer\"))\r\n",
        "model.summary()"
      ],
      "execution_count": 19,
      "outputs": [
        {
          "output_type": "stream",
          "text": [
            "Model: \"sequential\"\n",
            "_________________________________________________________________\n",
            "Layer (type)                 Output Shape              Param #   \n",
            "=================================================================\n",
            "embedding (Embedding)        (None, 22, 10)            34940     \n",
            "_________________________________________________________________\n",
            "GRU_Layer (GRU)              (None, 128)               53760     \n",
            "_________________________________________________________________\n",
            "Output_Layer (Dense)         (None, 3494)              450726    \n",
            "=================================================================\n",
            "Total params: 539,426\n",
            "Trainable params: 539,426\n",
            "Non-trainable params: 0\n",
            "_________________________________________________________________\n"
          ],
          "name": "stdout"
        }
      ]
    },
    {
      "cell_type": "code",
      "metadata": {
        "id": "m6rzRwDAvtBY"
      },
      "source": [
        "model.compile(loss='categorical_crossentropy', optimizer='adam', metrics=['accuracy'])"
      ],
      "execution_count": 20,
      "outputs": []
    },
    {
      "cell_type": "code",
      "metadata": {
        "colab": {
          "base_uri": "https://localhost:8080/"
        },
        "id": "TLQJ75IEvuDw",
        "outputId": "57020310-4ba1-4c08-cc44-ba9077a30d13"
      },
      "source": [
        "history = model.fit(X, Y, epochs=200, verbose=2)"
      ],
      "execution_count": 21,
      "outputs": [
        {
          "output_type": "stream",
          "text": [
            "Epoch 1/200\n",
            "231/231 - 9s - loss: 7.6352 - accuracy: 0.0295\n",
            "Epoch 2/200\n",
            "231/231 - 1s - loss: 7.0112 - accuracy: 0.0317\n",
            "Epoch 3/200\n",
            "231/231 - 1s - loss: 6.8268 - accuracy: 0.0428\n",
            "Epoch 4/200\n",
            "231/231 - 1s - loss: 6.6254 - accuracy: 0.0492\n",
            "Epoch 5/200\n",
            "231/231 - 1s - loss: 6.3939 - accuracy: 0.0557\n",
            "Epoch 6/200\n",
            "231/231 - 1s - loss: 6.1381 - accuracy: 0.0580\n",
            "Epoch 7/200\n",
            "231/231 - 1s - loss: 5.8786 - accuracy: 0.0649\n",
            "Epoch 8/200\n",
            "231/231 - 1s - loss: 5.6233 - accuracy: 0.0738\n",
            "Epoch 9/200\n",
            "231/231 - 1s - loss: 5.3719 - accuracy: 0.0787\n",
            "Epoch 10/200\n",
            "231/231 - 1s - loss: 5.1339 - accuracy: 0.0890\n",
            "Epoch 11/200\n",
            "231/231 - 1s - loss: 4.9061 - accuracy: 0.1021\n",
            "Epoch 12/200\n",
            "231/231 - 1s - loss: 4.6855 - accuracy: 0.1177\n",
            "Epoch 13/200\n",
            "231/231 - 1s - loss: 4.4775 - accuracy: 0.1384\n",
            "Epoch 14/200\n",
            "231/231 - 1s - loss: 4.2746 - accuracy: 0.1670\n",
            "Epoch 15/200\n",
            "231/231 - 1s - loss: 4.0903 - accuracy: 0.1968\n",
            "Epoch 16/200\n",
            "231/231 - 1s - loss: 3.9101 - accuracy: 0.2265\n",
            "Epoch 17/200\n",
            "231/231 - 1s - loss: 3.7418 - accuracy: 0.2513\n",
            "Epoch 18/200\n",
            "231/231 - 1s - loss: 3.5789 - accuracy: 0.2802\n",
            "Epoch 19/200\n",
            "231/231 - 1s - loss: 3.4311 - accuracy: 0.3048\n",
            "Epoch 20/200\n",
            "231/231 - 1s - loss: 3.2828 - accuracy: 0.3341\n",
            "Epoch 21/200\n",
            "231/231 - 1s - loss: 3.1473 - accuracy: 0.3607\n",
            "Epoch 22/200\n",
            "231/231 - 1s - loss: 3.0156 - accuracy: 0.3898\n",
            "Epoch 23/200\n",
            "231/231 - 1s - loss: 2.8967 - accuracy: 0.4074\n",
            "Epoch 24/200\n",
            "231/231 - 1s - loss: 2.7797 - accuracy: 0.4320\n",
            "Epoch 25/200\n",
            "231/231 - 1s - loss: 2.6734 - accuracy: 0.4485\n",
            "Epoch 26/200\n",
            "231/231 - 1s - loss: 2.5682 - accuracy: 0.4727\n",
            "Epoch 27/200\n",
            "231/231 - 1s - loss: 2.4708 - accuracy: 0.4919\n",
            "Epoch 28/200\n",
            "231/231 - 1s - loss: 2.3757 - accuracy: 0.5123\n",
            "Epoch 29/200\n",
            "231/231 - 1s - loss: 2.2856 - accuracy: 0.5305\n",
            "Epoch 30/200\n",
            "231/231 - 1s - loss: 2.2038 - accuracy: 0.5502\n",
            "Epoch 31/200\n",
            "231/231 - 1s - loss: 2.1236 - accuracy: 0.5682\n",
            "Epoch 32/200\n",
            "231/231 - 1s - loss: 2.0468 - accuracy: 0.5839\n",
            "Epoch 33/200\n",
            "231/231 - 1s - loss: 1.9719 - accuracy: 0.6001\n",
            "Epoch 34/200\n",
            "231/231 - 1s - loss: 1.8992 - accuracy: 0.6103\n",
            "Epoch 35/200\n",
            "231/231 - 1s - loss: 1.8340 - accuracy: 0.6245\n",
            "Epoch 36/200\n",
            "231/231 - 1s - loss: 1.7686 - accuracy: 0.6368\n",
            "Epoch 37/200\n",
            "231/231 - 1s - loss: 1.7100 - accuracy: 0.6492\n",
            "Epoch 38/200\n",
            "231/231 - 1s - loss: 1.6505 - accuracy: 0.6630\n",
            "Epoch 39/200\n",
            "231/231 - 1s - loss: 1.5862 - accuracy: 0.6792\n",
            "Epoch 40/200\n",
            "231/231 - 1s - loss: 1.5331 - accuracy: 0.6863\n",
            "Epoch 41/200\n",
            "231/231 - 1s - loss: 1.4819 - accuracy: 0.6938\n",
            "Epoch 42/200\n",
            "231/231 - 1s - loss: 1.4311 - accuracy: 0.7056\n",
            "Epoch 43/200\n",
            "231/231 - 1s - loss: 1.3817 - accuracy: 0.7150\n",
            "Epoch 44/200\n",
            "231/231 - 1s - loss: 1.3325 - accuracy: 0.7267\n",
            "Epoch 45/200\n",
            "231/231 - 1s - loss: 1.2911 - accuracy: 0.7361\n",
            "Epoch 46/200\n",
            "231/231 - 1s - loss: 1.2484 - accuracy: 0.7396\n",
            "Epoch 47/200\n",
            "231/231 - 1s - loss: 1.2021 - accuracy: 0.7545\n",
            "Epoch 48/200\n",
            "231/231 - 1s - loss: 1.1639 - accuracy: 0.7605\n",
            "Epoch 49/200\n",
            "231/231 - 1s - loss: 1.1251 - accuracy: 0.7667\n",
            "Epoch 50/200\n",
            "231/231 - 1s - loss: 1.0902 - accuracy: 0.7710\n",
            "Epoch 51/200\n",
            "231/231 - 1s - loss: 1.0522 - accuracy: 0.7819\n",
            "Epoch 52/200\n",
            "231/231 - 1s - loss: 1.0193 - accuracy: 0.7852\n",
            "Epoch 53/200\n",
            "231/231 - 1s - loss: 0.9843 - accuracy: 0.7924\n",
            "Epoch 54/200\n",
            "231/231 - 1s - loss: 0.9513 - accuracy: 0.7980\n",
            "Epoch 55/200\n",
            "231/231 - 1s - loss: 0.9189 - accuracy: 0.8056\n",
            "Epoch 56/200\n",
            "231/231 - 1s - loss: 0.8880 - accuracy: 0.8112\n",
            "Epoch 57/200\n",
            "231/231 - 1s - loss: 0.8657 - accuracy: 0.8161\n",
            "Epoch 58/200\n",
            "231/231 - 1s - loss: 0.8347 - accuracy: 0.8245\n",
            "Epoch 59/200\n",
            "231/231 - 1s - loss: 0.8089 - accuracy: 0.8271\n",
            "Epoch 60/200\n",
            "231/231 - 1s - loss: 0.7790 - accuracy: 0.8385\n",
            "Epoch 61/200\n",
            "231/231 - 1s - loss: 0.7570 - accuracy: 0.8410\n",
            "Epoch 62/200\n",
            "231/231 - 1s - loss: 0.7368 - accuracy: 0.8439\n",
            "Epoch 63/200\n",
            "231/231 - 1s - loss: 0.7127 - accuracy: 0.8469\n",
            "Epoch 64/200\n",
            "231/231 - 1s - loss: 0.6902 - accuracy: 0.8532\n",
            "Epoch 65/200\n",
            "231/231 - 1s - loss: 0.6680 - accuracy: 0.8593\n",
            "Epoch 66/200\n",
            "231/231 - 1s - loss: 0.6462 - accuracy: 0.8643\n",
            "Epoch 67/200\n",
            "231/231 - 1s - loss: 0.6366 - accuracy: 0.8651\n",
            "Epoch 68/200\n",
            "231/231 - 1s - loss: 0.6256 - accuracy: 0.8704\n",
            "Epoch 69/200\n",
            "231/231 - 1s - loss: 0.6199 - accuracy: 0.8681\n",
            "Epoch 70/200\n",
            "231/231 - 1s - loss: 0.5901 - accuracy: 0.8720\n",
            "Epoch 71/200\n",
            "231/231 - 1s - loss: 0.5600 - accuracy: 0.8794\n",
            "Epoch 72/200\n",
            "231/231 - 1s - loss: 0.5444 - accuracy: 0.8826\n",
            "Epoch 73/200\n",
            "231/231 - 1s - loss: 0.5292 - accuracy: 0.8863\n",
            "Epoch 74/200\n",
            "231/231 - 1s - loss: 0.5228 - accuracy: 0.8872\n",
            "Epoch 75/200\n",
            "231/231 - 1s - loss: 0.5058 - accuracy: 0.8895\n",
            "Epoch 76/200\n",
            "231/231 - 1s - loss: 0.4935 - accuracy: 0.8921\n",
            "Epoch 77/200\n",
            "231/231 - 1s - loss: 0.4799 - accuracy: 0.8949\n",
            "Epoch 78/200\n",
            "231/231 - 1s - loss: 0.4773 - accuracy: 0.8925\n",
            "Epoch 79/200\n",
            "231/231 - 1s - loss: 0.4708 - accuracy: 0.8947\n",
            "Epoch 80/200\n",
            "231/231 - 1s - loss: 0.4666 - accuracy: 0.8928\n",
            "Epoch 81/200\n",
            "231/231 - 1s - loss: 0.4536 - accuracy: 0.8970\n",
            "Epoch 82/200\n",
            "231/231 - 1s - loss: 0.4361 - accuracy: 0.8978\n",
            "Epoch 83/200\n",
            "231/231 - 1s - loss: 0.4256 - accuracy: 0.9009\n",
            "Epoch 84/200\n",
            "231/231 - 1s - loss: 0.4214 - accuracy: 0.8986\n",
            "Epoch 85/200\n",
            "231/231 - 1s - loss: 0.4111 - accuracy: 0.9032\n",
            "Epoch 86/200\n",
            "231/231 - 1s - loss: 0.4073 - accuracy: 0.9013\n",
            "Epoch 87/200\n",
            "231/231 - 1s - loss: 0.4705 - accuracy: 0.8880\n",
            "Epoch 88/200\n",
            "231/231 - 1s - loss: 0.4226 - accuracy: 0.9017\n",
            "Epoch 89/200\n",
            "231/231 - 1s - loss: 0.3902 - accuracy: 0.9026\n",
            "Epoch 90/200\n",
            "231/231 - 1s - loss: 0.3802 - accuracy: 0.9021\n",
            "Epoch 91/200\n",
            "231/231 - 1s - loss: 0.3732 - accuracy: 0.9032\n",
            "Epoch 92/200\n",
            "231/231 - 1s - loss: 0.3716 - accuracy: 0.9037\n",
            "Epoch 93/200\n",
            "231/231 - 1s - loss: 0.3657 - accuracy: 0.9056\n",
            "Epoch 94/200\n",
            "231/231 - 1s - loss: 0.3675 - accuracy: 0.9022\n",
            "Epoch 95/200\n",
            "231/231 - 1s - loss: 0.3615 - accuracy: 0.9041\n",
            "Epoch 96/200\n",
            "231/231 - 1s - loss: 0.3585 - accuracy: 0.9044\n",
            "Epoch 97/200\n",
            "231/231 - 1s - loss: 0.3536 - accuracy: 0.9075\n",
            "Epoch 98/200\n",
            "231/231 - 1s - loss: 0.3528 - accuracy: 0.9053\n",
            "Epoch 99/200\n",
            "231/231 - 1s - loss: 0.3547 - accuracy: 0.9058\n",
            "Epoch 100/200\n",
            "231/231 - 1s - loss: 0.3930 - accuracy: 0.8968\n",
            "Epoch 101/200\n",
            "231/231 - 1s - loss: 0.3979 - accuracy: 0.8965\n",
            "Epoch 102/200\n",
            "231/231 - 1s - loss: 0.3631 - accuracy: 0.9028\n",
            "Epoch 103/200\n",
            "231/231 - 1s - loss: 0.3421 - accuracy: 0.9064\n",
            "Epoch 104/200\n",
            "231/231 - 1s - loss: 0.3344 - accuracy: 0.9079\n",
            "Epoch 105/200\n",
            "231/231 - 1s - loss: 0.3344 - accuracy: 0.9066\n",
            "Epoch 106/200\n",
            "231/231 - 1s - loss: 0.3319 - accuracy: 0.9070\n",
            "Epoch 107/200\n",
            "231/231 - 1s - loss: 0.3315 - accuracy: 0.9058\n",
            "Epoch 108/200\n",
            "231/231 - 1s - loss: 0.3284 - accuracy: 0.9068\n",
            "Epoch 109/200\n",
            "231/231 - 1s - loss: 0.3294 - accuracy: 0.9053\n",
            "Epoch 110/200\n",
            "231/231 - 1s - loss: 0.3337 - accuracy: 0.9056\n",
            "Epoch 111/200\n",
            "231/231 - 1s - loss: 0.3374 - accuracy: 0.9049\n",
            "Epoch 112/200\n",
            "231/231 - 1s - loss: 0.3370 - accuracy: 0.9048\n",
            "Epoch 113/200\n",
            "231/231 - 1s - loss: 0.3354 - accuracy: 0.9039\n",
            "Epoch 114/200\n",
            "231/231 - 1s - loss: 0.3348 - accuracy: 0.9053\n",
            "Epoch 115/200\n",
            "231/231 - 1s - loss: 0.3516 - accuracy: 0.9007\n",
            "Epoch 116/200\n",
            "231/231 - 1s - loss: 0.3864 - accuracy: 0.8933\n",
            "Epoch 117/200\n",
            "231/231 - 1s - loss: 0.3659 - accuracy: 0.8972\n",
            "Epoch 118/200\n",
            "231/231 - 1s - loss: 0.3336 - accuracy: 0.9040\n",
            "Epoch 119/200\n",
            "231/231 - 1s - loss: 0.3212 - accuracy: 0.9058\n",
            "Epoch 120/200\n",
            "231/231 - 1s - loss: 0.3178 - accuracy: 0.9045\n",
            "Epoch 121/200\n",
            "231/231 - 1s - loss: 0.3164 - accuracy: 0.9067\n",
            "Epoch 122/200\n",
            "231/231 - 1s - loss: 0.3142 - accuracy: 0.9072\n",
            "Epoch 123/200\n",
            "231/231 - 1s - loss: 0.3139 - accuracy: 0.9077\n",
            "Epoch 124/200\n",
            "231/231 - 1s - loss: 0.3152 - accuracy: 0.9053\n",
            "Epoch 125/200\n",
            "231/231 - 1s - loss: 0.3132 - accuracy: 0.9063\n",
            "Epoch 126/200\n",
            "231/231 - 1s - loss: 0.3142 - accuracy: 0.9055\n",
            "Epoch 127/200\n",
            "231/231 - 1s - loss: 0.3147 - accuracy: 0.9052\n",
            "Epoch 128/200\n",
            "231/231 - 1s - loss: 0.3142 - accuracy: 0.9036\n",
            "Epoch 129/200\n",
            "231/231 - 1s - loss: 0.3154 - accuracy: 0.9039\n",
            "Epoch 130/200\n",
            "231/231 - 1s - loss: 0.3148 - accuracy: 0.9041\n",
            "Epoch 131/200\n",
            "231/231 - 1s - loss: 0.3183 - accuracy: 0.9045\n",
            "Epoch 132/200\n",
            "231/231 - 1s - loss: 0.3259 - accuracy: 0.9020\n",
            "Epoch 133/200\n",
            "231/231 - 1s - loss: 0.3226 - accuracy: 0.9044\n",
            "Epoch 134/200\n",
            "231/231 - 1s - loss: 0.3204 - accuracy: 0.9033\n",
            "Epoch 135/200\n",
            "231/231 - 1s - loss: 0.3191 - accuracy: 0.9049\n",
            "Epoch 136/200\n",
            "231/231 - 1s - loss: 0.3129 - accuracy: 0.9075\n",
            "Epoch 137/200\n",
            "231/231 - 1s - loss: 0.3131 - accuracy: 0.9048\n",
            "Epoch 138/200\n",
            "231/231 - 1s - loss: 0.3106 - accuracy: 0.9056\n",
            "Epoch 139/200\n",
            "231/231 - 1s - loss: 0.3115 - accuracy: 0.9039\n",
            "Epoch 140/200\n",
            "231/231 - 1s - loss: 0.3104 - accuracy: 0.9041\n",
            "Epoch 141/200\n",
            "231/231 - 1s - loss: 0.4304 - accuracy: 0.8777\n",
            "Epoch 142/200\n",
            "231/231 - 1s - loss: 0.4202 - accuracy: 0.8804\n",
            "Epoch 143/200\n",
            "231/231 - 1s - loss: 0.3221 - accuracy: 0.9056\n",
            "Epoch 144/200\n",
            "231/231 - 1s - loss: 0.3118 - accuracy: 0.9049\n",
            "Epoch 145/200\n",
            "231/231 - 1s - loss: 0.3071 - accuracy: 0.9048\n",
            "Epoch 146/200\n",
            "231/231 - 1s - loss: 0.3065 - accuracy: 0.9071\n",
            "Epoch 147/200\n",
            "231/231 - 1s - loss: 0.3047 - accuracy: 0.9040\n",
            "Epoch 148/200\n",
            "231/231 - 1s - loss: 0.3047 - accuracy: 0.9070\n",
            "Epoch 149/200\n",
            "231/231 - 1s - loss: 0.3050 - accuracy: 0.9053\n",
            "Epoch 150/200\n",
            "231/231 - 1s - loss: 0.3040 - accuracy: 0.9052\n",
            "Epoch 151/200\n",
            "231/231 - 1s - loss: 0.3038 - accuracy: 0.9086\n",
            "Epoch 152/200\n",
            "231/231 - 1s - loss: 0.3053 - accuracy: 0.9039\n",
            "Epoch 153/200\n",
            "231/231 - 1s - loss: 0.3040 - accuracy: 0.9059\n",
            "Epoch 154/200\n",
            "231/231 - 1s - loss: 0.3046 - accuracy: 0.9056\n",
            "Epoch 155/200\n",
            "231/231 - 1s - loss: 0.3047 - accuracy: 0.9052\n",
            "Epoch 156/200\n",
            "231/231 - 1s - loss: 0.3040 - accuracy: 0.9062\n",
            "Epoch 157/200\n",
            "231/231 - 1s - loss: 0.3057 - accuracy: 0.9049\n",
            "Epoch 158/200\n",
            "231/231 - 1s - loss: 0.3049 - accuracy: 0.9066\n",
            "Epoch 159/200\n",
            "231/231 - 1s - loss: 0.3054 - accuracy: 0.9058\n",
            "Epoch 160/200\n",
            "231/231 - 1s - loss: 0.3066 - accuracy: 0.9063\n",
            "Epoch 161/200\n",
            "231/231 - 1s - loss: 0.3059 - accuracy: 0.9058\n",
            "Epoch 162/200\n",
            "231/231 - 1s - loss: 0.3063 - accuracy: 0.9040\n",
            "Epoch 163/200\n",
            "231/231 - 1s - loss: 0.3084 - accuracy: 0.9048\n",
            "Epoch 164/200\n",
            "231/231 - 1s - loss: 0.3309 - accuracy: 0.8986\n",
            "Epoch 165/200\n",
            "231/231 - 1s - loss: 0.3960 - accuracy: 0.8879\n",
            "Epoch 166/200\n",
            "231/231 - 1s - loss: 0.3392 - accuracy: 0.8983\n",
            "Epoch 167/200\n",
            "231/231 - 1s - loss: 0.3136 - accuracy: 0.9037\n",
            "Epoch 168/200\n",
            "231/231 - 1s - loss: 0.3039 - accuracy: 0.9070\n",
            "Epoch 169/200\n",
            "231/231 - 1s - loss: 0.3030 - accuracy: 0.9071\n",
            "Epoch 170/200\n",
            "231/231 - 1s - loss: 0.3038 - accuracy: 0.9045\n",
            "Epoch 171/200\n",
            "231/231 - 1s - loss: 0.3033 - accuracy: 0.9045\n",
            "Epoch 172/200\n",
            "231/231 - 1s - loss: 0.3016 - accuracy: 0.9064\n",
            "Epoch 173/200\n",
            "231/231 - 1s - loss: 0.3012 - accuracy: 0.9058\n",
            "Epoch 174/200\n",
            "231/231 - 1s - loss: 0.3011 - accuracy: 0.9059\n",
            "Epoch 175/200\n",
            "231/231 - 1s - loss: 0.3023 - accuracy: 0.9056\n",
            "Epoch 176/200\n",
            "231/231 - 1s - loss: 0.3018 - accuracy: 0.9040\n",
            "Epoch 177/200\n",
            "231/231 - 1s - loss: 0.3046 - accuracy: 0.9060\n",
            "Epoch 178/200\n",
            "231/231 - 1s - loss: 0.3032 - accuracy: 0.9028\n",
            "Epoch 179/200\n",
            "231/231 - 1s - loss: 0.3023 - accuracy: 0.9045\n",
            "Epoch 180/200\n",
            "231/231 - 1s - loss: 0.3038 - accuracy: 0.9041\n",
            "Epoch 181/200\n",
            "231/231 - 1s - loss: 0.3434 - accuracy: 0.8991\n",
            "Epoch 182/200\n",
            "231/231 - 1s - loss: 0.3764 - accuracy: 0.8900\n",
            "Epoch 183/200\n",
            "231/231 - 1s - loss: 0.3373 - accuracy: 0.8991\n",
            "Epoch 184/200\n",
            "231/231 - 1s - loss: 0.3118 - accuracy: 0.9045\n",
            "Epoch 185/200\n",
            "231/231 - 1s - loss: 0.3051 - accuracy: 0.9052\n",
            "Epoch 186/200\n",
            "231/231 - 1s - loss: 0.3009 - accuracy: 0.9056\n",
            "Epoch 187/200\n",
            "231/231 - 1s - loss: 0.3008 - accuracy: 0.9064\n",
            "Epoch 188/200\n",
            "231/231 - 1s - loss: 0.3015 - accuracy: 0.9033\n",
            "Epoch 189/200\n",
            "231/231 - 1s - loss: 0.3001 - accuracy: 0.9055\n",
            "Epoch 190/200\n",
            "231/231 - 1s - loss: 0.2992 - accuracy: 0.9068\n",
            "Epoch 191/200\n",
            "231/231 - 1s - loss: 0.3004 - accuracy: 0.9051\n",
            "Epoch 192/200\n",
            "231/231 - 1s - loss: 0.3010 - accuracy: 0.9048\n",
            "Epoch 193/200\n",
            "231/231 - 1s - loss: 0.3007 - accuracy: 0.9074\n",
            "Epoch 194/200\n",
            "231/231 - 1s - loss: 0.3026 - accuracy: 0.9040\n",
            "Epoch 195/200\n",
            "231/231 - 1s - loss: 0.3013 - accuracy: 0.9052\n",
            "Epoch 196/200\n",
            "231/231 - 1s - loss: 0.3048 - accuracy: 0.9045\n",
            "Epoch 197/200\n",
            "231/231 - 1s - loss: 0.3047 - accuracy: 0.9045\n",
            "Epoch 198/200\n",
            "231/231 - 1s - loss: 0.3050 - accuracy: 0.9047\n",
            "Epoch 199/200\n",
            "231/231 - 1s - loss: 0.3022 - accuracy: 0.9047\n",
            "Epoch 200/200\n",
            "231/231 - 1s - loss: 0.3010 - accuracy: 0.9055\n"
          ],
          "name": "stdout"
        }
      ]
    },
    {
      "cell_type": "markdown",
      "metadata": {
        "id": "iWGpzejgvxIo"
      },
      "source": [
        "### 모델 검증"
      ]
    },
    {
      "cell_type": "code",
      "metadata": {
        "id": "suEYHjGevu9J"
      },
      "source": [
        "# 모델 검증용 문장을 생성하는 함수\r\n",
        "def sentence_generation(model, t, current_word, n):\r\n",
        "  init_word = current_word # 처음 들어온 단어도 마지막에 같이 출력하기 위해 저장\r\n",
        "  sentence =''\r\n",
        "  for _ in range(n):\r\n",
        "    encoded = t.texts_to_sequences([current_word])[0] # 현재 단어에 대한 정수 인코딩\r\n",
        "    encoded = pad_sequences([encoded], maxlen=5, padding='pre') # 데이터에 대한 패딩\r\n",
        "    result = np.argmax(model.predict(encoded), axis=-1)\r\n",
        "    # 입력한 X(현재 단어)에 대해서 Y를 예측하고 Y(예측한 단어)를 result에 저장.\r\n",
        "    for word, index in t.word_index.items():\r\n",
        "      if index == result: # 만약 예측한 단어와 인덱스와 동일한 단어가 있다면\r\n",
        "        break # 해당 단어가 예측 단어이므로 break\r\n",
        "    current_word = current_word + ' ' + word # 현재 단어 + ' ' + 예측 단어를 현재 단어로 변경\r\n",
        "    sentence = sentence + ' ' + word # 예측 단어를 문장에 저장\r\n",
        "\r\n",
        "  # for문이므로 이 행동을 다시 반복\r\n",
        "  sentence = init_word + sentence\r\n",
        "  return sentence"
      ],
      "execution_count": 22,
      "outputs": []
    },
    {
      "cell_type": "code",
      "metadata": {
        "colab": {
          "base_uri": "https://localhost:8080/"
        },
        "id": "hfmOyKeov0Df",
        "outputId": "9898a1f7-4218-4a5c-baba-8e16f3d11747"
      },
      "source": [
        "print(sentence_generation(model, t, 'i', 10))\r\n",
        "print(sentence_generation(model, t, 'how', 10))\r\n",
        "print(sentence_generation(model, t, 'what', 10))"
      ],
      "execution_count": 23,
      "outputs": [
        {
          "output_type": "stream",
          "text": [
            "WARNING:tensorflow:Model was constructed with shape (None, 22) for input KerasTensor(type_spec=TensorSpec(shape=(None, 22), dtype=tf.float32, name='embedding_input'), name='embedding_input', description=\"created by layer 'embedding_input'\"), but it was called on an input with incompatible shape (None, 5).\n",
            "i your life online now who library hard looks to misconduct\n",
            "how former the mother of leader who gap in list attack\n",
            "what do your former war a who tots fliers who mind\n"
          ],
          "name": "stdout"
        }
      ]
    },
    {
      "cell_type": "code",
      "metadata": {
        "id": "d8NOBjMHwgGy"
      },
      "source": [
        ""
      ],
      "execution_count": null,
      "outputs": []
    }
  ]
}