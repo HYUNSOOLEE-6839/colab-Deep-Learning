{
  "nbformat": 4,
  "nbformat_minor": 0,
  "metadata": {
    "colab": {
      "name": "42_와인_자동중단.ipynb",
      "provenance": [],
      "collapsed_sections": [],
      "authorship_tag": "ABX9TyM7AnH7KKEVbq+IQGdthe9Z",
      "include_colab_link": true
    },
    "kernelspec": {
      "name": "python3",
      "display_name": "Python 3"
    }
  },
  "cells": [
    {
      "cell_type": "markdown",
      "metadata": {
        "id": "view-in-github",
        "colab_type": "text"
      },
      "source": [
        "<a href=\"https://colab.research.google.com/github/HYUNSOOLEE-6839/colab-Deep-Learning/blob/main/42_%EC%99%80%EC%9D%B8_%EC%9E%90%EB%8F%99%EC%A4%91%EB%8B%A8.ipynb\" target=\"_parent\"><img src=\"https://colab.research.google.com/assets/colab-badge.svg\" alt=\"Open In Colab\"/></a>"
      ]
    },
    {
      "cell_type": "markdown",
      "metadata": {
        "id": "xpbvE6qzZDeP"
      },
      "source": [
        "# 와인 베스트모델 찾은 후 자동 중단"
      ]
    },
    {
      "cell_type": "code",
      "metadata": {
        "id": "Dzyhp7HWY63F"
      },
      "source": [
        "import numpy as np\n",
        "import tensorflow as tf\n",
        "from sklearn.preprocessing import StandardScaler\n",
        "from sklearn.model_selection import train_test_split\n",
        "from tensorflow.keras.models import Sequential\n",
        "from tensorflow.keras.layers import Dense"
      ],
      "execution_count": 1,
      "outputs": []
    },
    {
      "cell_type": "code",
      "metadata": {
        "id": "B3jz8Lr7ZG_Y"
      },
      "source": [
        "# 실행할 때 마다 같은 결과를 출력하기 위한 seed 값 설정\n",
        "seed = 2021\n",
        "np.random.seed(seed)\n",
        "tf.random.set_seed(seed)"
      ],
      "execution_count": 2,
      "outputs": []
    },
    {
      "cell_type": "markdown",
      "metadata": {
        "id": "KKj5jz5uZMbu"
      },
      "source": [
        "### 데이터 전처리"
      ]
    },
    {
      "cell_type": "code",
      "metadata": {
        "id": "fLpWMEygZJon"
      },
      "source": [
        "import pandas as pd"
      ],
      "execution_count": 3,
      "outputs": []
    },
    {
      "cell_type": "code",
      "metadata": {
        "colab": {
          "resources": {
            "http://localhost:8080/nbextensions/google.colab/files.js": {
              "data": "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",
              "ok": true,
              "headers": [
                [
                  "content-type",
                  "application/javascript"
                ]
              ],
              "status": 200,
              "status_text": ""
            }
          },
          "base_uri": "https://localhost:8080/",
          "height": 91
        },
        "id": "IFxFo0VoZPJB",
        "outputId": "89015348-b284-4186-eb54-03f08ca86b79"
      },
      "source": [
        "# 외부에서 데이터 불러오기\n",
        "from google.colab import files\n",
        "uploaded = files.upload()\n",
        "filename = list(uploaded.keys())[0]\n",
        "filename"
      ],
      "execution_count": 4,
      "outputs": [
        {
          "output_type": "display_data",
          "data": {
            "text/html": [
              "\n",
              "     <input type=\"file\" id=\"files-72cda12e-11b9-4136-a93a-2fecdf1a5ded\" name=\"files[]\" multiple disabled\n",
              "        style=\"border:none\" />\n",
              "     <output id=\"result-72cda12e-11b9-4136-a93a-2fecdf1a5ded\">\n",
              "      Upload widget is only available when the cell has been executed in the\n",
              "      current browser session. Please rerun this cell to enable.\n",
              "      </output>\n",
              "      <script src=\"/nbextensions/google.colab/files.js\"></script> "
            ],
            "text/plain": [
              "<IPython.core.display.HTML object>"
            ]
          },
          "metadata": {
            "tags": []
          }
        },
        {
          "output_type": "stream",
          "text": [
            "Saving wine.csv to wine (1).csv\n"
          ],
          "name": "stdout"
        },
        {
          "output_type": "execute_result",
          "data": {
            "application/vnd.google.colaboratory.intrinsic+json": {
              "type": "string"
            },
            "text/plain": [
              "'wine.csv'"
            ]
          },
          "metadata": {
            "tags": []
          },
          "execution_count": 4
        }
      ]
    },
    {
      "cell_type": "code",
      "metadata": {
        "colab": {
          "base_uri": "https://localhost:8080/",
          "height": 142
        },
        "id": "VNJq0mJsZQpL",
        "outputId": "2ddc3a4e-46ce-4cae-888b-356a720f86ea"
      },
      "source": [
        "df = pd.read_csv(filename, header=None)\n",
        "df.head(3)"
      ],
      "execution_count": 5,
      "outputs": [
        {
          "output_type": "execute_result",
          "data": {
            "text/html": [
              "<div>\n",
              "<style scoped>\n",
              "    .dataframe tbody tr th:only-of-type {\n",
              "        vertical-align: middle;\n",
              "    }\n",
              "\n",
              "    .dataframe tbody tr th {\n",
              "        vertical-align: top;\n",
              "    }\n",
              "\n",
              "    .dataframe thead th {\n",
              "        text-align: right;\n",
              "    }\n",
              "</style>\n",
              "<table border=\"1\" class=\"dataframe\">\n",
              "  <thead>\n",
              "    <tr style=\"text-align: right;\">\n",
              "      <th></th>\n",
              "      <th>0</th>\n",
              "      <th>1</th>\n",
              "      <th>2</th>\n",
              "      <th>3</th>\n",
              "      <th>4</th>\n",
              "      <th>5</th>\n",
              "      <th>6</th>\n",
              "      <th>7</th>\n",
              "      <th>8</th>\n",
              "      <th>9</th>\n",
              "      <th>10</th>\n",
              "      <th>11</th>\n",
              "      <th>12</th>\n",
              "    </tr>\n",
              "  </thead>\n",
              "  <tbody>\n",
              "    <tr>\n",
              "      <th>0</th>\n",
              "      <td>7.4</td>\n",
              "      <td>0.70</td>\n",
              "      <td>0.00</td>\n",
              "      <td>1.9</td>\n",
              "      <td>0.076</td>\n",
              "      <td>11.0</td>\n",
              "      <td>34.0</td>\n",
              "      <td>0.9978</td>\n",
              "      <td>3.51</td>\n",
              "      <td>0.56</td>\n",
              "      <td>9.4</td>\n",
              "      <td>5</td>\n",
              "      <td>1</td>\n",
              "    </tr>\n",
              "    <tr>\n",
              "      <th>1</th>\n",
              "      <td>7.8</td>\n",
              "      <td>0.88</td>\n",
              "      <td>0.00</td>\n",
              "      <td>2.6</td>\n",
              "      <td>0.098</td>\n",
              "      <td>25.0</td>\n",
              "      <td>67.0</td>\n",
              "      <td>0.9968</td>\n",
              "      <td>3.20</td>\n",
              "      <td>0.68</td>\n",
              "      <td>9.8</td>\n",
              "      <td>5</td>\n",
              "      <td>1</td>\n",
              "    </tr>\n",
              "    <tr>\n",
              "      <th>2</th>\n",
              "      <td>7.8</td>\n",
              "      <td>0.76</td>\n",
              "      <td>0.04</td>\n",
              "      <td>2.3</td>\n",
              "      <td>0.092</td>\n",
              "      <td>15.0</td>\n",
              "      <td>54.0</td>\n",
              "      <td>0.9970</td>\n",
              "      <td>3.26</td>\n",
              "      <td>0.65</td>\n",
              "      <td>9.8</td>\n",
              "      <td>5</td>\n",
              "      <td>1</td>\n",
              "    </tr>\n",
              "  </tbody>\n",
              "</table>\n",
              "</div>"
            ],
            "text/plain": [
              "    0     1     2    3      4     5     6       7     8     9    10  11  12\n",
              "0  7.4  0.70  0.00  1.9  0.076  11.0  34.0  0.9978  3.51  0.56  9.4   5   1\n",
              "1  7.8  0.88  0.00  2.6  0.098  25.0  67.0  0.9968  3.20  0.68  9.8   5   1\n",
              "2  7.8  0.76  0.04  2.3  0.092  15.0  54.0  0.9970  3.26  0.65  9.8   5   1"
            ]
          },
          "metadata": {
            "tags": []
          },
          "execution_count": 5
        }
      ]
    },
    {
      "cell_type": "code",
      "metadata": {
        "colab": {
          "base_uri": "https://localhost:8080/"
        },
        "id": "CtC5ErwyZZwK",
        "outputId": "41a96d1a-f2b8-4694-abf5-6ed49829137e"
      },
      "source": [
        "X_train, X_test, y_train, y_test = train_test_split(\n",
        "    df.iloc[:,:-1].values, df.iloc[:,-1], stratify=df.iloc[:,-1], random_state=seed\n",
        ")\n",
        "X_train.shape, X_test.shape"
      ],
      "execution_count": 6,
      "outputs": [
        {
          "output_type": "execute_result",
          "data": {
            "text/plain": [
              "((4872, 12), (1625, 12))"
            ]
          },
          "metadata": {
            "tags": []
          },
          "execution_count": 6
        }
      ]
    },
    {
      "cell_type": "markdown",
      "metadata": {
        "id": "mOA62VylbECu"
      },
      "source": [
        "### 모델 정의/설정"
      ]
    },
    {
      "cell_type": "code",
      "metadata": {
        "colab": {
          "base_uri": "https://localhost:8080/"
        },
        "id": "PPgN_scHafMB",
        "outputId": "74e9456a-b171-4d81-adf2-f1e492e20ce1"
      },
      "source": [
        "model = Sequential()\n",
        "model.add(Dense(30, input_dim=12, activation='relu'))\n",
        "model.add(Dense(12, activation='relu'))\n",
        "model.add(Dense(8, activation='relu'))\n",
        "model.add(Dense(1, activation='sigmoid'))\n",
        "model.summary()\n",
        "# input_dim이 12인 이유는 df의 열 값이 12까지 밖에 없기 때문."
      ],
      "execution_count": 7,
      "outputs": [
        {
          "output_type": "stream",
          "text": [
            "Model: \"sequential\"\n",
            "_________________________________________________________________\n",
            "Layer (type)                 Output Shape              Param #   \n",
            "=================================================================\n",
            "dense (Dense)                (None, 30)                390       \n",
            "_________________________________________________________________\n",
            "dense_1 (Dense)              (None, 12)                372       \n",
            "_________________________________________________________________\n",
            "dense_2 (Dense)              (None, 8)                 104       \n",
            "_________________________________________________________________\n",
            "dense_3 (Dense)              (None, 1)                 9         \n",
            "=================================================================\n",
            "Total params: 875\n",
            "Trainable params: 875\n",
            "Non-trainable params: 0\n",
            "_________________________________________________________________\n"
          ],
          "name": "stdout"
        }
      ]
    },
    {
      "cell_type": "code",
      "metadata": {
        "id": "oJhZJ_EkbhcQ"
      },
      "source": [
        "model.compile(loss='binary_crossentropy', \n",
        "              optimizer='adam', metrics=['accuracy'])"
      ],
      "execution_count": 8,
      "outputs": []
    },
    {
      "cell_type": "markdown",
      "metadata": {
        "id": "AU3XOkyFb2gH"
      },
      "source": [
        "### 모델 저장관련 환경설정\n",
        "##### v_loss일 경우에 save"
      ]
    },
    {
      "cell_type": "code",
      "metadata": {
        "id": "9CnP4iUtbx9u"
      },
      "source": [
        "import os\n",
        "MODEL_DIR = './model/'\n",
        "if not os.path.exists(MODEL_DIR):\n",
        "  os.mkdir(MODEL_DIR)"
      ],
      "execution_count": 9,
      "outputs": []
    },
    {
      "cell_type": "code",
      "metadata": {
        "colab": {
          "base_uri": "https://localhost:8080/"
        },
        "id": "8NREQ-nBcHeG",
        "outputId": "5a50438f-59b9-436e-b646-fe6629e2311c"
      },
      "source": [
        "!ls -l"
      ],
      "execution_count": 10,
      "outputs": [
        {
          "output_type": "stream",
          "text": [
            "total 720\n",
            "drwxr-xr-x 2 root root   4096 Feb 10 01:41  model\n",
            "drwxr-xr-x 1 root root   4096 Feb  4 15:26  sample_data\n",
            "-rw-r--r-- 1 root root 361279 Feb 10 01:40 'wine (1).csv'\n",
            "-rw-r--r-- 1 root root 361279 Feb 10 00:44  wine.csv\n"
          ],
          "name": "stdout"
        }
      ]
    },
    {
      "cell_type": "markdown",
      "metadata": {
        "id": "iG6NDuOVcRpq"
      },
      "source": [
        "### 모델 저장 조건 설정"
      ]
    },
    {
      "cell_type": "code",
      "metadata": {
        "id": "fCGDZ96VcIoZ"
      },
      "source": [
        "modelpath = MODEL_DIR + 'best{epoch:03d}-{val_loss:.4f}.hdf5'"
      ],
      "execution_count": 11,
      "outputs": []
    },
    {
      "cell_type": "code",
      "metadata": {
        "id": "CCaxqor-cgMR"
      },
      "source": [
        "from tensorflow.keras.callbacks import ModelCheckpoint, EarlyStopping\n",
        "# 모델이 한 번 돌 때마다 어떠한 행동을 수행하는 것"
      ],
      "execution_count": 14,
      "outputs": []
    },
    {
      "cell_type": "code",
      "metadata": {
        "id": "qmKB-gcYcxrs"
      },
      "source": [
        "checkpointer = ModelCheckpoint(filepath=modelpath, monitor='val_loss', verbose=1, save_best_only=True)"
      ],
      "execution_count": 15,
      "outputs": []
    },
    {
      "cell_type": "code",
      "metadata": {
        "id": "ccxaFBgYmpc2"
      },
      "source": [
        "early_stopping_callback = EarlyStopping(monitor='val_loss', patience=100)"
      ],
      "execution_count": 16,
      "outputs": []
    },
    {
      "cell_type": "markdown",
      "metadata": {
        "id": "kVvrDru4dW6V"
      },
      "source": [
        "### 모델 학습 및 저장"
      ]
    },
    {
      "cell_type": "code",
      "metadata": {
        "colab": {
          "base_uri": "https://localhost:8080/"
        },
        "id": "E00MjYIydTlH",
        "outputId": "769c5b88-fdb5-4ef3-f89e-5e7232578c4c"
      },
      "source": [
        "model.fit(X_train, y_train, validation_split=0.2, epochs=500, batch_size=200, verbose=0, callbacks=[checkpointer, early_stopping_callback])"
      ],
      "execution_count": 18,
      "outputs": [
        {
          "output_type": "stream",
          "text": [
            "\n",
            "Epoch 00001: val_loss improved from inf to 0.41822, saving model to ./model/best001-0.4182.hdf5\n",
            "\n",
            "Epoch 00002: val_loss improved from 0.41822 to 0.28623, saving model to ./model/best002-0.2862.hdf5\n",
            "\n",
            "Epoch 00003: val_loss improved from 0.28623 to 0.24628, saving model to ./model/best003-0.2463.hdf5\n",
            "\n",
            "Epoch 00004: val_loss improved from 0.24628 to 0.22050, saving model to ./model/best004-0.2205.hdf5\n",
            "\n",
            "Epoch 00005: val_loss improved from 0.22050 to 0.20001, saving model to ./model/best005-0.2000.hdf5\n",
            "\n",
            "Epoch 00006: val_loss improved from 0.20001 to 0.19209, saving model to ./model/best006-0.1921.hdf5\n",
            "\n",
            "Epoch 00007: val_loss improved from 0.19209 to 0.18488, saving model to ./model/best007-0.1849.hdf5\n",
            "\n",
            "Epoch 00008: val_loss improved from 0.18488 to 0.18360, saving model to ./model/best008-0.1836.hdf5\n",
            "\n",
            "Epoch 00009: val_loss improved from 0.18360 to 0.17670, saving model to ./model/best009-0.1767.hdf5\n",
            "\n",
            "Epoch 00010: val_loss improved from 0.17670 to 0.17541, saving model to ./model/best010-0.1754.hdf5\n",
            "\n",
            "Epoch 00011: val_loss improved from 0.17541 to 0.17388, saving model to ./model/best011-0.1739.hdf5\n",
            "\n",
            "Epoch 00012: val_loss improved from 0.17388 to 0.16688, saving model to ./model/best012-0.1669.hdf5\n",
            "\n",
            "Epoch 00013: val_loss improved from 0.16688 to 0.16274, saving model to ./model/best013-0.1627.hdf5\n",
            "\n",
            "Epoch 00014: val_loss improved from 0.16274 to 0.16253, saving model to ./model/best014-0.1625.hdf5\n",
            "\n",
            "Epoch 00015: val_loss improved from 0.16253 to 0.15751, saving model to ./model/best015-0.1575.hdf5\n",
            "\n",
            "Epoch 00016: val_loss improved from 0.15751 to 0.15722, saving model to ./model/best016-0.1572.hdf5\n",
            "\n",
            "Epoch 00017: val_loss improved from 0.15722 to 0.15508, saving model to ./model/best017-0.1551.hdf5\n",
            "\n",
            "Epoch 00018: val_loss improved from 0.15508 to 0.15077, saving model to ./model/best018-0.1508.hdf5\n",
            "\n",
            "Epoch 00019: val_loss improved from 0.15077 to 0.14924, saving model to ./model/best019-0.1492.hdf5\n",
            "\n",
            "Epoch 00020: val_loss improved from 0.14924 to 0.14708, saving model to ./model/best020-0.1471.hdf5\n",
            "\n",
            "Epoch 00021: val_loss improved from 0.14708 to 0.14639, saving model to ./model/best021-0.1464.hdf5\n",
            "\n",
            "Epoch 00022: val_loss did not improve from 0.14639\n",
            "\n",
            "Epoch 00023: val_loss improved from 0.14639 to 0.13917, saving model to ./model/best023-0.1392.hdf5\n",
            "\n",
            "Epoch 00024: val_loss improved from 0.13917 to 0.13772, saving model to ./model/best024-0.1377.hdf5\n",
            "\n",
            "Epoch 00025: val_loss improved from 0.13772 to 0.13441, saving model to ./model/best025-0.1344.hdf5\n",
            "\n",
            "Epoch 00026: val_loss improved from 0.13441 to 0.12824, saving model to ./model/best026-0.1282.hdf5\n",
            "\n",
            "Epoch 00027: val_loss improved from 0.12824 to 0.12421, saving model to ./model/best027-0.1242.hdf5\n",
            "\n",
            "Epoch 00028: val_loss did not improve from 0.12421\n",
            "\n",
            "Epoch 00029: val_loss did not improve from 0.12421\n",
            "\n",
            "Epoch 00030: val_loss did not improve from 0.12421\n",
            "\n",
            "Epoch 00031: val_loss improved from 0.12421 to 0.11388, saving model to ./model/best031-0.1139.hdf5\n",
            "\n",
            "Epoch 00032: val_loss improved from 0.11388 to 0.10927, saving model to ./model/best032-0.1093.hdf5\n",
            "\n",
            "Epoch 00033: val_loss improved from 0.10927 to 0.10697, saving model to ./model/best033-0.1070.hdf5\n",
            "\n",
            "Epoch 00034: val_loss improved from 0.10697 to 0.10434, saving model to ./model/best034-0.1043.hdf5\n",
            "\n",
            "Epoch 00035: val_loss did not improve from 0.10434\n",
            "\n",
            "Epoch 00036: val_loss did not improve from 0.10434\n",
            "\n",
            "Epoch 00037: val_loss improved from 0.10434 to 0.10397, saving model to ./model/best037-0.1040.hdf5\n",
            "\n",
            "Epoch 00038: val_loss improved from 0.10397 to 0.10336, saving model to ./model/best038-0.1034.hdf5\n",
            "\n",
            "Epoch 00039: val_loss did not improve from 0.10336\n",
            "\n",
            "Epoch 00040: val_loss did not improve from 0.10336\n",
            "\n",
            "Epoch 00041: val_loss improved from 0.10336 to 0.09690, saving model to ./model/best041-0.0969.hdf5\n",
            "\n",
            "Epoch 00042: val_loss did not improve from 0.09690\n",
            "\n",
            "Epoch 00043: val_loss did not improve from 0.09690\n",
            "\n",
            "Epoch 00044: val_loss improved from 0.09690 to 0.09461, saving model to ./model/best044-0.0946.hdf5\n",
            "\n",
            "Epoch 00045: val_loss did not improve from 0.09461\n",
            "\n",
            "Epoch 00046: val_loss improved from 0.09461 to 0.09151, saving model to ./model/best046-0.0915.hdf5\n",
            "\n",
            "Epoch 00047: val_loss did not improve from 0.09151\n",
            "\n",
            "Epoch 00048: val_loss improved from 0.09151 to 0.09145, saving model to ./model/best048-0.0914.hdf5\n",
            "\n",
            "Epoch 00049: val_loss improved from 0.09145 to 0.08915, saving model to ./model/best049-0.0891.hdf5\n",
            "\n",
            "Epoch 00050: val_loss did not improve from 0.08915\n",
            "\n",
            "Epoch 00051: val_loss did not improve from 0.08915\n",
            "\n",
            "Epoch 00052: val_loss improved from 0.08915 to 0.08568, saving model to ./model/best052-0.0857.hdf5\n",
            "\n",
            "Epoch 00053: val_loss improved from 0.08568 to 0.08503, saving model to ./model/best053-0.0850.hdf5\n",
            "\n",
            "Epoch 00054: val_loss improved from 0.08503 to 0.08463, saving model to ./model/best054-0.0846.hdf5\n",
            "\n",
            "Epoch 00055: val_loss did not improve from 0.08463\n",
            "\n",
            "Epoch 00056: val_loss improved from 0.08463 to 0.08397, saving model to ./model/best056-0.0840.hdf5\n",
            "\n",
            "Epoch 00057: val_loss did not improve from 0.08397\n",
            "\n",
            "Epoch 00058: val_loss improved from 0.08397 to 0.08135, saving model to ./model/best058-0.0813.hdf5\n",
            "\n",
            "Epoch 00059: val_loss improved from 0.08135 to 0.07926, saving model to ./model/best059-0.0793.hdf5\n",
            "\n",
            "Epoch 00060: val_loss did not improve from 0.07926\n",
            "\n",
            "Epoch 00061: val_loss did not improve from 0.07926\n",
            "\n",
            "Epoch 00062: val_loss improved from 0.07926 to 0.07745, saving model to ./model/best062-0.0774.hdf5\n",
            "\n",
            "Epoch 00063: val_loss did not improve from 0.07745\n",
            "\n",
            "Epoch 00064: val_loss did not improve from 0.07745\n",
            "\n",
            "Epoch 00065: val_loss improved from 0.07745 to 0.07615, saving model to ./model/best065-0.0761.hdf5\n",
            "\n",
            "Epoch 00066: val_loss did not improve from 0.07615\n",
            "\n",
            "Epoch 00067: val_loss did not improve from 0.07615\n",
            "\n",
            "Epoch 00068: val_loss did not improve from 0.07615\n",
            "\n",
            "Epoch 00069: val_loss improved from 0.07615 to 0.07327, saving model to ./model/best069-0.0733.hdf5\n",
            "\n",
            "Epoch 00070: val_loss did not improve from 0.07327\n",
            "\n",
            "Epoch 00071: val_loss did not improve from 0.07327\n",
            "\n",
            "Epoch 00072: val_loss improved from 0.07327 to 0.07200, saving model to ./model/best072-0.0720.hdf5\n",
            "\n",
            "Epoch 00073: val_loss did not improve from 0.07200\n",
            "\n",
            "Epoch 00074: val_loss improved from 0.07200 to 0.07014, saving model to ./model/best074-0.0701.hdf5\n",
            "\n",
            "Epoch 00075: val_loss did not improve from 0.07014\n",
            "\n",
            "Epoch 00076: val_loss improved from 0.07014 to 0.06874, saving model to ./model/best076-0.0687.hdf5\n",
            "\n",
            "Epoch 00077: val_loss did not improve from 0.06874\n",
            "\n",
            "Epoch 00078: val_loss did not improve from 0.06874\n",
            "\n",
            "Epoch 00079: val_loss did not improve from 0.06874\n",
            "\n",
            "Epoch 00080: val_loss did not improve from 0.06874\n",
            "\n",
            "Epoch 00081: val_loss improved from 0.06874 to 0.06720, saving model to ./model/best081-0.0672.hdf5\n",
            "\n",
            "Epoch 00082: val_loss did not improve from 0.06720\n",
            "\n",
            "Epoch 00083: val_loss improved from 0.06720 to 0.06626, saving model to ./model/best083-0.0663.hdf5\n",
            "\n",
            "Epoch 00084: val_loss did not improve from 0.06626\n",
            "\n",
            "Epoch 00085: val_loss improved from 0.06626 to 0.06570, saving model to ./model/best085-0.0657.hdf5\n",
            "\n",
            "Epoch 00086: val_loss did not improve from 0.06570\n",
            "\n",
            "Epoch 00087: val_loss did not improve from 0.06570\n",
            "\n",
            "Epoch 00088: val_loss did not improve from 0.06570\n",
            "\n",
            "Epoch 00089: val_loss improved from 0.06570 to 0.06368, saving model to ./model/best089-0.0637.hdf5\n",
            "\n",
            "Epoch 00090: val_loss did not improve from 0.06368\n",
            "\n",
            "Epoch 00091: val_loss did not improve from 0.06368\n",
            "\n",
            "Epoch 00092: val_loss did not improve from 0.06368\n",
            "\n",
            "Epoch 00093: val_loss did not improve from 0.06368\n",
            "\n",
            "Epoch 00094: val_loss did not improve from 0.06368\n",
            "\n",
            "Epoch 00095: val_loss did not improve from 0.06368\n",
            "\n",
            "Epoch 00096: val_loss did not improve from 0.06368\n",
            "\n",
            "Epoch 00097: val_loss did not improve from 0.06368\n",
            "\n",
            "Epoch 00098: val_loss improved from 0.06368 to 0.06190, saving model to ./model/best098-0.0619.hdf5\n",
            "\n",
            "Epoch 00099: val_loss did not improve from 0.06190\n",
            "\n",
            "Epoch 00100: val_loss did not improve from 0.06190\n",
            "\n",
            "Epoch 00101: val_loss improved from 0.06190 to 0.06155, saving model to ./model/best101-0.0615.hdf5\n",
            "\n",
            "Epoch 00102: val_loss did not improve from 0.06155\n",
            "\n",
            "Epoch 00103: val_loss did not improve from 0.06155\n",
            "\n",
            "Epoch 00104: val_loss did not improve from 0.06155\n",
            "\n",
            "Epoch 00105: val_loss improved from 0.06155 to 0.06092, saving model to ./model/best105-0.0609.hdf5\n",
            "\n",
            "Epoch 00106: val_loss did not improve from 0.06092\n",
            "\n",
            "Epoch 00107: val_loss did not improve from 0.06092\n",
            "\n",
            "Epoch 00108: val_loss did not improve from 0.06092\n",
            "\n",
            "Epoch 00109: val_loss improved from 0.06092 to 0.05978, saving model to ./model/best109-0.0598.hdf5\n",
            "\n",
            "Epoch 00110: val_loss improved from 0.05978 to 0.05942, saving model to ./model/best110-0.0594.hdf5\n",
            "\n",
            "Epoch 00111: val_loss did not improve from 0.05942\n",
            "\n",
            "Epoch 00112: val_loss did not improve from 0.05942\n",
            "\n",
            "Epoch 00113: val_loss did not improve from 0.05942\n",
            "\n",
            "Epoch 00114: val_loss did not improve from 0.05942\n",
            "\n",
            "Epoch 00115: val_loss did not improve from 0.05942\n",
            "\n",
            "Epoch 00116: val_loss did not improve from 0.05942\n",
            "\n",
            "Epoch 00117: val_loss did not improve from 0.05942\n",
            "\n",
            "Epoch 00118: val_loss did not improve from 0.05942\n",
            "\n",
            "Epoch 00119: val_loss did not improve from 0.05942\n",
            "\n",
            "Epoch 00120: val_loss did not improve from 0.05942\n",
            "\n",
            "Epoch 00121: val_loss improved from 0.05942 to 0.05878, saving model to ./model/best121-0.0588.hdf5\n",
            "\n",
            "Epoch 00122: val_loss improved from 0.05878 to 0.05850, saving model to ./model/best122-0.0585.hdf5\n",
            "\n",
            "Epoch 00123: val_loss did not improve from 0.05850\n",
            "\n",
            "Epoch 00124: val_loss improved from 0.05850 to 0.05748, saving model to ./model/best124-0.0575.hdf5\n",
            "\n",
            "Epoch 00125: val_loss did not improve from 0.05748\n",
            "\n",
            "Epoch 00126: val_loss did not improve from 0.05748\n",
            "\n",
            "Epoch 00127: val_loss did not improve from 0.05748\n",
            "\n",
            "Epoch 00128: val_loss did not improve from 0.05748\n",
            "\n",
            "Epoch 00129: val_loss improved from 0.05748 to 0.05742, saving model to ./model/best129-0.0574.hdf5\n",
            "\n",
            "Epoch 00130: val_loss did not improve from 0.05742\n",
            "\n",
            "Epoch 00131: val_loss improved from 0.05742 to 0.05704, saving model to ./model/best131-0.0570.hdf5\n",
            "\n",
            "Epoch 00132: val_loss did not improve from 0.05704\n",
            "\n",
            "Epoch 00133: val_loss did not improve from 0.05704\n",
            "\n",
            "Epoch 00134: val_loss improved from 0.05704 to 0.05617, saving model to ./model/best134-0.0562.hdf5\n",
            "\n",
            "Epoch 00135: val_loss did not improve from 0.05617\n",
            "\n",
            "Epoch 00136: val_loss did not improve from 0.05617\n",
            "\n",
            "Epoch 00137: val_loss did not improve from 0.05617\n",
            "\n",
            "Epoch 00138: val_loss did not improve from 0.05617\n",
            "\n",
            "Epoch 00139: val_loss improved from 0.05617 to 0.05568, saving model to ./model/best139-0.0557.hdf5\n",
            "\n",
            "Epoch 00140: val_loss did not improve from 0.05568\n",
            "\n",
            "Epoch 00141: val_loss improved from 0.05568 to 0.05566, saving model to ./model/best141-0.0557.hdf5\n",
            "\n",
            "Epoch 00142: val_loss did not improve from 0.05566\n",
            "\n",
            "Epoch 00143: val_loss did not improve from 0.05566\n",
            "\n",
            "Epoch 00144: val_loss did not improve from 0.05566\n",
            "\n",
            "Epoch 00145: val_loss did not improve from 0.05566\n",
            "\n",
            "Epoch 00146: val_loss did not improve from 0.05566\n",
            "\n",
            "Epoch 00147: val_loss did not improve from 0.05566\n",
            "\n",
            "Epoch 00148: val_loss did not improve from 0.05566\n",
            "\n",
            "Epoch 00149: val_loss did not improve from 0.05566\n",
            "\n",
            "Epoch 00150: val_loss did not improve from 0.05566\n",
            "\n",
            "Epoch 00151: val_loss did not improve from 0.05566\n",
            "\n",
            "Epoch 00152: val_loss did not improve from 0.05566\n",
            "\n",
            "Epoch 00153: val_loss did not improve from 0.05566\n",
            "\n",
            "Epoch 00154: val_loss did not improve from 0.05566\n",
            "\n",
            "Epoch 00155: val_loss did not improve from 0.05566\n",
            "\n",
            "Epoch 00156: val_loss improved from 0.05566 to 0.05539, saving model to ./model/best156-0.0554.hdf5\n",
            "\n",
            "Epoch 00157: val_loss did not improve from 0.05539\n",
            "\n",
            "Epoch 00158: val_loss did not improve from 0.05539\n",
            "\n",
            "Epoch 00159: val_loss did not improve from 0.05539\n",
            "\n",
            "Epoch 00160: val_loss did not improve from 0.05539\n",
            "\n",
            "Epoch 00161: val_loss did not improve from 0.05539\n",
            "\n",
            "Epoch 00162: val_loss did not improve from 0.05539\n",
            "\n",
            "Epoch 00163: val_loss did not improve from 0.05539\n",
            "\n",
            "Epoch 00164: val_loss did not improve from 0.05539\n",
            "\n",
            "Epoch 00165: val_loss did not improve from 0.05539\n",
            "\n",
            "Epoch 00166: val_loss improved from 0.05539 to 0.05447, saving model to ./model/best166-0.0545.hdf5\n",
            "\n",
            "Epoch 00167: val_loss did not improve from 0.05447\n",
            "\n",
            "Epoch 00168: val_loss did not improve from 0.05447\n",
            "\n",
            "Epoch 00169: val_loss did not improve from 0.05447\n",
            "\n",
            "Epoch 00170: val_loss did not improve from 0.05447\n",
            "\n",
            "Epoch 00171: val_loss did not improve from 0.05447\n",
            "\n",
            "Epoch 00172: val_loss did not improve from 0.05447\n",
            "\n",
            "Epoch 00173: val_loss did not improve from 0.05447\n",
            "\n",
            "Epoch 00174: val_loss did not improve from 0.05447\n",
            "\n",
            "Epoch 00175: val_loss did not improve from 0.05447\n",
            "\n",
            "Epoch 00176: val_loss did not improve from 0.05447\n",
            "\n",
            "Epoch 00177: val_loss did not improve from 0.05447\n",
            "\n",
            "Epoch 00178: val_loss did not improve from 0.05447\n",
            "\n",
            "Epoch 00179: val_loss improved from 0.05447 to 0.05391, saving model to ./model/best179-0.0539.hdf5\n",
            "\n",
            "Epoch 00180: val_loss did not improve from 0.05391\n",
            "\n",
            "Epoch 00181: val_loss improved from 0.05391 to 0.05305, saving model to ./model/best181-0.0530.hdf5\n",
            "\n",
            "Epoch 00182: val_loss did not improve from 0.05305\n",
            "\n",
            "Epoch 00183: val_loss did not improve from 0.05305\n",
            "\n",
            "Epoch 00184: val_loss did not improve from 0.05305\n",
            "\n",
            "Epoch 00185: val_loss did not improve from 0.05305\n",
            "\n",
            "Epoch 00186: val_loss did not improve from 0.05305\n",
            "\n",
            "Epoch 00187: val_loss did not improve from 0.05305\n",
            "\n",
            "Epoch 00188: val_loss did not improve from 0.05305\n",
            "\n",
            "Epoch 00189: val_loss did not improve from 0.05305\n",
            "\n",
            "Epoch 00190: val_loss did not improve from 0.05305\n",
            "\n",
            "Epoch 00191: val_loss did not improve from 0.05305\n",
            "\n",
            "Epoch 00192: val_loss did not improve from 0.05305\n",
            "\n",
            "Epoch 00193: val_loss did not improve from 0.05305\n",
            "\n",
            "Epoch 00194: val_loss did not improve from 0.05305\n",
            "\n",
            "Epoch 00195: val_loss did not improve from 0.05305\n",
            "\n",
            "Epoch 00196: val_loss did not improve from 0.05305\n",
            "\n",
            "Epoch 00197: val_loss did not improve from 0.05305\n",
            "\n",
            "Epoch 00198: val_loss did not improve from 0.05305\n",
            "\n",
            "Epoch 00199: val_loss did not improve from 0.05305\n",
            "\n",
            "Epoch 00200: val_loss did not improve from 0.05305\n",
            "\n",
            "Epoch 00201: val_loss did not improve from 0.05305\n",
            "\n",
            "Epoch 00202: val_loss did not improve from 0.05305\n",
            "\n",
            "Epoch 00203: val_loss did not improve from 0.05305\n",
            "\n",
            "Epoch 00204: val_loss did not improve from 0.05305\n",
            "\n",
            "Epoch 00205: val_loss did not improve from 0.05305\n",
            "\n",
            "Epoch 00206: val_loss did not improve from 0.05305\n",
            "\n",
            "Epoch 00207: val_loss did not improve from 0.05305\n",
            "\n",
            "Epoch 00208: val_loss did not improve from 0.05305\n",
            "\n",
            "Epoch 00209: val_loss did not improve from 0.05305\n",
            "\n",
            "Epoch 00210: val_loss did not improve from 0.05305\n",
            "\n",
            "Epoch 00211: val_loss did not improve from 0.05305\n",
            "\n",
            "Epoch 00212: val_loss did not improve from 0.05305\n",
            "\n",
            "Epoch 00213: val_loss improved from 0.05305 to 0.05261, saving model to ./model/best213-0.0526.hdf5\n",
            "\n",
            "Epoch 00214: val_loss did not improve from 0.05261\n",
            "\n",
            "Epoch 00215: val_loss improved from 0.05261 to 0.05256, saving model to ./model/best215-0.0526.hdf5\n",
            "\n",
            "Epoch 00216: val_loss did not improve from 0.05256\n",
            "\n",
            "Epoch 00217: val_loss did not improve from 0.05256\n",
            "\n",
            "Epoch 00218: val_loss did not improve from 0.05256\n",
            "\n",
            "Epoch 00219: val_loss did not improve from 0.05256\n",
            "\n",
            "Epoch 00220: val_loss improved from 0.05256 to 0.05223, saving model to ./model/best220-0.0522.hdf5\n",
            "\n",
            "Epoch 00221: val_loss did not improve from 0.05223\n",
            "\n",
            "Epoch 00222: val_loss did not improve from 0.05223\n",
            "\n",
            "Epoch 00223: val_loss did not improve from 0.05223\n",
            "\n",
            "Epoch 00224: val_loss did not improve from 0.05223\n",
            "\n",
            "Epoch 00225: val_loss did not improve from 0.05223\n",
            "\n",
            "Epoch 00226: val_loss did not improve from 0.05223\n",
            "\n",
            "Epoch 00227: val_loss did not improve from 0.05223\n",
            "\n",
            "Epoch 00228: val_loss did not improve from 0.05223\n",
            "\n",
            "Epoch 00229: val_loss did not improve from 0.05223\n",
            "\n",
            "Epoch 00230: val_loss did not improve from 0.05223\n",
            "\n",
            "Epoch 00231: val_loss did not improve from 0.05223\n",
            "\n",
            "Epoch 00232: val_loss improved from 0.05223 to 0.05214, saving model to ./model/best232-0.0521.hdf5\n",
            "\n",
            "Epoch 00233: val_loss did not improve from 0.05214\n",
            "\n",
            "Epoch 00234: val_loss did not improve from 0.05214\n",
            "\n",
            "Epoch 00235: val_loss did not improve from 0.05214\n",
            "\n",
            "Epoch 00236: val_loss did not improve from 0.05214\n",
            "\n",
            "Epoch 00237: val_loss did not improve from 0.05214\n",
            "\n",
            "Epoch 00238: val_loss did not improve from 0.05214\n",
            "\n",
            "Epoch 00239: val_loss did not improve from 0.05214\n",
            "\n",
            "Epoch 00240: val_loss did not improve from 0.05214\n",
            "\n",
            "Epoch 00241: val_loss did not improve from 0.05214\n",
            "\n",
            "Epoch 00242: val_loss did not improve from 0.05214\n",
            "\n",
            "Epoch 00243: val_loss did not improve from 0.05214\n",
            "\n",
            "Epoch 00244: val_loss did not improve from 0.05214\n",
            "\n",
            "Epoch 00245: val_loss did not improve from 0.05214\n",
            "\n",
            "Epoch 00246: val_loss improved from 0.05214 to 0.05173, saving model to ./model/best246-0.0517.hdf5\n",
            "\n",
            "Epoch 00247: val_loss did not improve from 0.05173\n",
            "\n",
            "Epoch 00248: val_loss did not improve from 0.05173\n",
            "\n",
            "Epoch 00249: val_loss did not improve from 0.05173\n",
            "\n",
            "Epoch 00250: val_loss did not improve from 0.05173\n",
            "\n",
            "Epoch 00251: val_loss did not improve from 0.05173\n",
            "\n",
            "Epoch 00252: val_loss did not improve from 0.05173\n",
            "\n",
            "Epoch 00253: val_loss did not improve from 0.05173\n",
            "\n",
            "Epoch 00254: val_loss did not improve from 0.05173\n",
            "\n",
            "Epoch 00255: val_loss did not improve from 0.05173\n",
            "\n",
            "Epoch 00256: val_loss did not improve from 0.05173\n",
            "\n",
            "Epoch 00257: val_loss did not improve from 0.05173\n",
            "\n",
            "Epoch 00258: val_loss did not improve from 0.05173\n",
            "\n",
            "Epoch 00259: val_loss did not improve from 0.05173\n",
            "\n",
            "Epoch 00260: val_loss did not improve from 0.05173\n",
            "\n",
            "Epoch 00261: val_loss did not improve from 0.05173\n",
            "\n",
            "Epoch 00262: val_loss did not improve from 0.05173\n",
            "\n",
            "Epoch 00263: val_loss did not improve from 0.05173\n",
            "\n",
            "Epoch 00264: val_loss did not improve from 0.05173\n",
            "\n",
            "Epoch 00265: val_loss did not improve from 0.05173\n",
            "\n",
            "Epoch 00266: val_loss did not improve from 0.05173\n",
            "\n",
            "Epoch 00267: val_loss did not improve from 0.05173\n",
            "\n",
            "Epoch 00268: val_loss did not improve from 0.05173\n",
            "\n",
            "Epoch 00269: val_loss did not improve from 0.05173\n",
            "\n",
            "Epoch 00270: val_loss did not improve from 0.05173\n",
            "\n",
            "Epoch 00271: val_loss did not improve from 0.05173\n",
            "\n",
            "Epoch 00272: val_loss did not improve from 0.05173\n",
            "\n",
            "Epoch 00273: val_loss did not improve from 0.05173\n",
            "\n",
            "Epoch 00274: val_loss did not improve from 0.05173\n",
            "\n",
            "Epoch 00275: val_loss did not improve from 0.05173\n",
            "\n",
            "Epoch 00276: val_loss did not improve from 0.05173\n",
            "\n",
            "Epoch 00277: val_loss did not improve from 0.05173\n",
            "\n",
            "Epoch 00278: val_loss did not improve from 0.05173\n",
            "\n",
            "Epoch 00279: val_loss did not improve from 0.05173\n",
            "\n",
            "Epoch 00280: val_loss did not improve from 0.05173\n",
            "\n",
            "Epoch 00281: val_loss did not improve from 0.05173\n",
            "\n",
            "Epoch 00282: val_loss did not improve from 0.05173\n",
            "\n",
            "Epoch 00283: val_loss did not improve from 0.05173\n",
            "\n",
            "Epoch 00284: val_loss did not improve from 0.05173\n",
            "\n",
            "Epoch 00285: val_loss did not improve from 0.05173\n",
            "\n",
            "Epoch 00286: val_loss did not improve from 0.05173\n",
            "\n",
            "Epoch 00287: val_loss did not improve from 0.05173\n",
            "\n",
            "Epoch 00288: val_loss did not improve from 0.05173\n",
            "\n",
            "Epoch 00289: val_loss did not improve from 0.05173\n",
            "\n",
            "Epoch 00290: val_loss did not improve from 0.05173\n",
            "\n",
            "Epoch 00291: val_loss did not improve from 0.05173\n",
            "\n",
            "Epoch 00292: val_loss did not improve from 0.05173\n",
            "\n",
            "Epoch 00293: val_loss did not improve from 0.05173\n",
            "\n",
            "Epoch 00294: val_loss did not improve from 0.05173\n",
            "\n",
            "Epoch 00295: val_loss did not improve from 0.05173\n",
            "\n",
            "Epoch 00296: val_loss did not improve from 0.05173\n",
            "\n",
            "Epoch 00297: val_loss did not improve from 0.05173\n",
            "\n",
            "Epoch 00298: val_loss did not improve from 0.05173\n",
            "\n",
            "Epoch 00299: val_loss did not improve from 0.05173\n",
            "\n",
            "Epoch 00300: val_loss did not improve from 0.05173\n",
            "\n",
            "Epoch 00301: val_loss did not improve from 0.05173\n",
            "\n",
            "Epoch 00302: val_loss did not improve from 0.05173\n",
            "\n",
            "Epoch 00303: val_loss did not improve from 0.05173\n",
            "\n",
            "Epoch 00304: val_loss did not improve from 0.05173\n",
            "\n",
            "Epoch 00305: val_loss did not improve from 0.05173\n",
            "\n",
            "Epoch 00306: val_loss did not improve from 0.05173\n",
            "\n",
            "Epoch 00307: val_loss did not improve from 0.05173\n",
            "\n",
            "Epoch 00308: val_loss did not improve from 0.05173\n",
            "\n",
            "Epoch 00309: val_loss did not improve from 0.05173\n",
            "\n",
            "Epoch 00310: val_loss did not improve from 0.05173\n",
            "\n",
            "Epoch 00311: val_loss did not improve from 0.05173\n",
            "\n",
            "Epoch 00312: val_loss did not improve from 0.05173\n",
            "\n",
            "Epoch 00313: val_loss did not improve from 0.05173\n",
            "\n",
            "Epoch 00314: val_loss did not improve from 0.05173\n",
            "\n",
            "Epoch 00315: val_loss did not improve from 0.05173\n",
            "\n",
            "Epoch 00316: val_loss did not improve from 0.05173\n",
            "\n",
            "Epoch 00317: val_loss did not improve from 0.05173\n",
            "\n",
            "Epoch 00318: val_loss did not improve from 0.05173\n",
            "\n",
            "Epoch 00319: val_loss did not improve from 0.05173\n",
            "\n",
            "Epoch 00320: val_loss did not improve from 0.05173\n",
            "\n",
            "Epoch 00321: val_loss did not improve from 0.05173\n",
            "\n",
            "Epoch 00322: val_loss did not improve from 0.05173\n",
            "\n",
            "Epoch 00323: val_loss did not improve from 0.05173\n",
            "\n",
            "Epoch 00324: val_loss did not improve from 0.05173\n",
            "\n",
            "Epoch 00325: val_loss did not improve from 0.05173\n",
            "\n",
            "Epoch 00326: val_loss did not improve from 0.05173\n",
            "\n",
            "Epoch 00327: val_loss did not improve from 0.05173\n",
            "\n",
            "Epoch 00328: val_loss did not improve from 0.05173\n",
            "\n",
            "Epoch 00329: val_loss did not improve from 0.05173\n",
            "\n",
            "Epoch 00330: val_loss did not improve from 0.05173\n",
            "\n",
            "Epoch 00331: val_loss did not improve from 0.05173\n",
            "\n",
            "Epoch 00332: val_loss did not improve from 0.05173\n",
            "\n",
            "Epoch 00333: val_loss did not improve from 0.05173\n",
            "\n",
            "Epoch 00334: val_loss did not improve from 0.05173\n",
            "\n",
            "Epoch 00335: val_loss did not improve from 0.05173\n",
            "\n",
            "Epoch 00336: val_loss did not improve from 0.05173\n",
            "\n",
            "Epoch 00337: val_loss did not improve from 0.05173\n",
            "\n",
            "Epoch 00338: val_loss did not improve from 0.05173\n",
            "\n",
            "Epoch 00339: val_loss did not improve from 0.05173\n",
            "\n",
            "Epoch 00340: val_loss did not improve from 0.05173\n",
            "\n",
            "Epoch 00341: val_loss did not improve from 0.05173\n",
            "\n",
            "Epoch 00342: val_loss did not improve from 0.05173\n",
            "\n",
            "Epoch 00343: val_loss did not improve from 0.05173\n",
            "\n",
            "Epoch 00344: val_loss did not improve from 0.05173\n",
            "\n",
            "Epoch 00345: val_loss did not improve from 0.05173\n",
            "\n",
            "Epoch 00346: val_loss did not improve from 0.05173\n"
          ],
          "name": "stdout"
        },
        {
          "output_type": "execute_result",
          "data": {
            "text/plain": [
              "<tensorflow.python.keras.callbacks.History at 0x7fa9dc68eef0>"
            ]
          },
          "metadata": {
            "tags": []
          },
          "execution_count": 18
        }
      ]
    },
    {
      "cell_type": "markdown",
      "metadata": {
        "id": "KW-a9JsvnRp9"
      },
      "source": [
        "### early_Stopping patience 100으로 주었을 때, 마지막 변화에서 100개까지 변화가 없을 때 자동으로 중단."
      ]
    },
    {
      "cell_type": "markdown",
      "metadata": {
        "id": "aZvYO9iiewlD"
      },
      "source": [
        "### 베스트모델로 평가"
      ]
    },
    {
      "cell_type": "code",
      "metadata": {
        "colab": {
          "base_uri": "https://localhost:8080/"
        },
        "id": "2zK4CrMmevVH",
        "outputId": "503eb82e-fb2c-4439-ae98-7bb4a40ad112"
      },
      "source": [
        "from tensorflow.keras.models import load_model\n",
        "\n",
        "best_model = load_model('./model/best181-0.0530.hdf5')\n",
        "acc = best_model.evaluate(X_test, y_test)\n",
        "print(f'Accuracy: {acc[1]:.4f}')"
      ],
      "execution_count": 29,
      "outputs": [
        {
          "output_type": "stream",
          "text": [
            "51/51 [==============================] - 0s 850us/step - loss: 0.0747 - accuracy: 0.9778\n",
            "Accuracy: 0.9778\n"
          ],
          "name": "stdout"
        }
      ]
    },
    {
      "cell_type": "markdown",
      "metadata": {
        "id": "cZ5SkhgrgSaf"
      },
      "source": [
        "### 시각화"
      ]
    },
    {
      "cell_type": "code",
      "metadata": {
        "id": "K6RxeAe5fAQC"
      },
      "source": [
        "import matplotlib.pyplot as plt\n",
        "%matplotlib inline"
      ],
      "execution_count": 20,
      "outputs": []
    },
    {
      "cell_type": "code",
      "metadata": {
        "id": "mHXDN-PtgYAI"
      },
      "source": [
        "history = model.fit(X_train, y_train, validation_split=0.2, epochs=300, batch_size=200, verbose=0)"
      ],
      "execution_count": 29,
      "outputs": []
    },
    {
      "cell_type": "code",
      "metadata": {
        "colab": {
          "base_uri": "https://localhost:8080/"
        },
        "id": "qP_ybYxigb-h",
        "outputId": "dcee766b-4c04-4874-f906-0db587996335"
      },
      "source": [
        "type(history.history)"
      ],
      "execution_count": 22,
      "outputs": [
        {
          "output_type": "execute_result",
          "data": {
            "text/plain": [
              "dict"
            ]
          },
          "metadata": {
            "tags": []
          },
          "execution_count": 22
        }
      ]
    },
    {
      "cell_type": "code",
      "metadata": {
        "id": "Z3UCzaSMgn_5"
      },
      "source": [
        "# y_acc에 테스트셋으로 실험 결과의 오차 값을 저장\n",
        "y_acc=history.history['accuracy']"
      ],
      "execution_count": 30,
      "outputs": []
    },
    {
      "cell_type": "code",
      "metadata": {
        "id": "fsDgdGfFgs8J"
      },
      "source": [
        "# y_loss에 테스트셋으로 실험 결과의 오차 값을 저장\n",
        "y_loss=history.history['loss']"
      ],
      "execution_count": 31,
      "outputs": []
    },
    {
      "cell_type": "code",
      "metadata": {
        "id": "vX98bEgFgtoW"
      },
      "source": [
        "# y_acc에 테스트셋으로 실험 결과의 오차 값을 저장\n",
        "y_vacc=history.history['val_accuracy']"
      ],
      "execution_count": 32,
      "outputs": []
    },
    {
      "cell_type": "code",
      "metadata": {
        "id": "nQKgCJ38gyNS"
      },
      "source": [
        "# y_loss에 테스트셋으로 실험 결과의 오차 값을 저장\n",
        "y_vloss=history.history['val_loss']"
      ],
      "execution_count": 33,
      "outputs": []
    },
    {
      "cell_type": "code",
      "metadata": {
        "colab": {
          "base_uri": "https://localhost:8080/",
          "height": 483
        },
        "id": "XUFClLswg0a9",
        "outputId": "c0c6bfaa-0450-4d24-d5ef-794f4cd87ec0"
      },
      "source": [
        "# x 값을 지정하고 정확도를 파란색으로, 오차를 빨간색으로 표시\n",
        "x_len = np.arange(len(y_acc))\n",
        "plt.figure(figsize=(12,8))\n",
        "plt.plot(x_len, y_loss, \"o-\", c=\"red\", markersize=2, label='loss')\n",
        "plt.plot(x_len, y_vacc, \"o-\", c=\"blue\", markersize=2, label='val_acc')\n",
        "plt.plot(x_len, y_vloss, \"o-\", c=\"green\", markersize=2, label='val_loss')\n",
        "plt.plot(x_len, y_acc, \"o-\", c=\"orange\", markersize=2, label='accuracy')\n",
        "plt.grid()\n",
        "plt.legend()\n",
        "plt.show()"
      ],
      "execution_count": 34,
      "outputs": [
        {
          "output_type": "display_data",
          "data": {
            "image/png": "[encoded data removed]",
            "text/plain": [
              "<Figure size 864x576 with 1 Axes>"
            ]
          },
          "metadata": {
            "tags": [],
            "needs_background": "light"
          }
        }
      ]
    },
    {
      "cell_type": "code",
      "metadata": {
        "id": "5GW1fVilg-PJ"
      },
      "source": [
        ""
      ],
      "execution_count": null,
      "outputs": []
    }
  ]
}