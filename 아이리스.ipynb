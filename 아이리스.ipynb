{
  "nbformat": 4,
  "nbformat_minor": 0,
  "metadata": {
    "colab": {
      "name": "아이리스.ipynb",
      "provenance": [],
      "collapsed_sections": [],
      "authorship_tag": "ABX9TyM0ZTwt4ihmAa0bHV5vFNhT",
      "include_colab_link": true
    },
    "kernelspec": {
      "name": "python3",
      "display_name": "Python 3"
    }
  },
  "cells": [
    {
      "cell_type": "markdown",
      "metadata": {
        "id": "view-in-github",
        "colab_type": "text"
      },
      "source": [
        "<a href=\"https://colab.research.google.com/github/HYUNSOOLEE-6839/colab-Deep-Learning/blob/main/%EC%95%84%EC%9D%B4%EB%A6%AC%EC%8A%A4.ipynb\" target=\"_parent\"><img src=\"https://colab.research.google.com/assets/colab-badge.svg\" alt=\"Open In Colab\"/></a>"
      ]
    },
    {
      "cell_type": "markdown",
      "metadata": {
        "id": "Tk0oVQzKEOIX"
      },
      "source": [
        "# 아이리스 품종 예측"
      ]
    },
    {
      "cell_type": "code",
      "metadata": {
        "id": "TKrzJbmtFqD6"
      },
      "source": [
        "import numpy as np\n",
        "import tensorflow as tf\n",
        "from sklearn.preprocessing import StandardScaler\n",
        "from sklearn.model_selection import train_test_split\n",
        "from tensorflow.keras.models import Sequential\n",
        "from tensorflow.keras.layers import Dense"
      ],
      "execution_count": null,
      "outputs": []
    },
    {
      "cell_type": "code",
      "metadata": {
        "id": "ze_wiDeLGBFh"
      },
      "source": [
        "# 실행할 때 마다 같은 결과를 출력하기 위한 seed 값 설정\n",
        "seed = 2021\n",
        "np.random.seed(seed)\n",
        "tf.random.set_seed(seed)"
      ],
      "execution_count": null,
      "outputs": []
    },
    {
      "cell_type": "markdown",
      "metadata": {
        "id": "yccV_TBzGE95"
      },
      "source": [
        "### 데이터 전처리"
      ]
    },
    {
      "cell_type": "code",
      "metadata": {
        "id": "7sGGinOKEKF0"
      },
      "source": [
        "from sklearn.datasets import load_iris\n",
        "iris = load_iris()"
      ],
      "execution_count": null,
      "outputs": []
    },
    {
      "cell_type": "code",
      "metadata": {
        "colab": {
          "base_uri": "https://localhost:8080/"
        },
        "id": "iU5yX87kF92x",
        "outputId": "a536e96a-2ca6-458e-8fad-29c88741016c"
      },
      "source": [
        "from tensorflow.keras.utils import to_categorical\n",
        "y_one_hot = to_categorical(iris.target)\n",
        "y_one_hot[:3]"
      ],
      "execution_count": null,
      "outputs": [
        {
          "output_type": "execute_result",
          "data": {
            "text/plain": [
              "array([[1., 0., 0.],\n",
              "       [1., 0., 0.],\n",
              "       [1., 0., 0.]], dtype=float32)"
            ]
          },
          "metadata": {
            "tags": []
          },
          "execution_count": 8
        }
      ]
    },
    {
      "cell_type": "code",
      "metadata": {
        "id": "pn2EHe69HpYL"
      },
      "source": [
        "from sklearn.preprocessing import MinMaxScaler\n",
        "scaler = MinMaxScaler()\n",
        "X_scaled = scaler.fit_transform(iris.data)"
      ],
      "execution_count": null,
      "outputs": []
    },
    {
      "cell_type": "code",
      "metadata": {
        "colab": {
          "base_uri": "https://localhost:8080/"
        },
        "id": "ice6jwUtGqoD",
        "outputId": "1328c0ae-740d-4ab8-9280-7dc95198bf5b"
      },
      "source": [
        "X_train, X_test, y_train, y_test = train_test_split(\n",
        "    X_scaled, y_one_hot, stratify=iris.target, random_state=seed\n",
        ")\n",
        "X_train.shape, X_test.shape"
      ],
      "execution_count": null,
      "outputs": [
        {
          "output_type": "execute_result",
          "data": {
            "text/plain": [
              "((112, 4), (38, 4))"
            ]
          },
          "metadata": {
            "tags": []
          },
          "execution_count": 13
        }
      ]
    },
    {
      "cell_type": "markdown",
      "metadata": {
        "id": "Un2dTTVSIQex"
      },
      "source": [
        "### 모델 정의/설정/학습/평가"
      ]
    },
    {
      "cell_type": "code",
      "metadata": {
        "colab": {
          "base_uri": "https://localhost:8080/"
        },
        "id": "c8bvcS6TIQP5",
        "outputId": "8921b910-9a5b-49d9-ce4a-05702888284b"
      },
      "source": [
        "model = Sequential([\n",
        "               Dense(16, input_shape=(4,), activation='relu'),\n",
        "               Dense(3, activation='softmax')\n",
        "])\n",
        "model.summary()"
      ],
      "execution_count": null,
      "outputs": [
        {
          "output_type": "stream",
          "text": [
            "Model: \"sequential\"\n",
            "_________________________________________________________________\n",
            "Layer (type)                 Output Shape              Param #   \n",
            "=================================================================\n",
            "dense_2 (Dense)              (None, 16)                80        \n",
            "_________________________________________________________________\n",
            "dense_3 (Dense)              (None, 3)                 51        \n",
            "=================================================================\n",
            "Total params: 131\n",
            "Trainable params: 131\n",
            "Non-trainable params: 0\n",
            "_________________________________________________________________\n"
          ],
          "name": "stdout"
        }
      ]
    },
    {
      "cell_type": "code",
      "metadata": {
        "id": "45GG4K1rHKgC"
      },
      "source": [
        "# 모델 컴파일\n",
        "model.compile(loss='categorical_crossentropy',\n",
        "              optimizer='adam',\n",
        "              metrics=['accuracy'])"
      ],
      "execution_count": null,
      "outputs": []
    },
    {
      "cell_type": "code",
      "metadata": {
        "colab": {
          "base_uri": "https://localhost:8080/"
        },
        "id": "Jmci53NJIsVX",
        "outputId": "b8210347-1025-4ef3-d833-2f508beb3193"
      },
      "source": [
        "# 모델 실행\n",
        "history = model.fit(X_train, y_train, validation_split=0.2, epochs=50, batch_size=30)"
      ],
      "execution_count": null,
      "outputs": [
        {
          "output_type": "stream",
          "text": [
            "Epoch 1/50\n",
            "3/3 [==============================] - 1s 124ms/step - loss: 1.1742 - accuracy: 0.1689 - val_loss: 1.1581 - val_accuracy: 0.1739\n",
            "Epoch 2/50\n",
            "3/3 [==============================] - 0s 23ms/step - loss: 1.1618 - accuracy: 0.1564 - val_loss: 1.1565 - val_accuracy: 0.1304\n",
            "Epoch 3/50\n",
            "3/3 [==============================] - 0s 20ms/step - loss: 1.1574 - accuracy: 0.1397 - val_loss: 1.1548 - val_accuracy: 0.1304\n",
            "Epoch 4/50\n",
            "3/3 [==============================] - 0s 92ms/step - loss: 1.1530 - accuracy: 0.1676 - val_loss: 1.1535 - val_accuracy: 0.1739\n",
            "Epoch 5/50\n",
            "3/3 [==============================] - 0s 22ms/step - loss: 1.1381 - accuracy: 0.2528 - val_loss: 1.1525 - val_accuracy: 0.2174\n",
            "Epoch 6/50\n",
            "3/3 [==============================] - 0s 21ms/step - loss: 1.1277 - accuracy: 0.3310 - val_loss: 1.1515 - val_accuracy: 0.2174\n",
            "Epoch 7/50\n",
            "3/3 [==============================] - 0s 24ms/step - loss: 1.1285 - accuracy: 0.3660 - val_loss: 1.1501 - val_accuracy: 0.2174\n",
            "Epoch 8/50\n",
            "3/3 [==============================] - 0s 21ms/step - loss: 1.1079 - accuracy: 0.4118 - val_loss: 1.1489 - val_accuracy: 0.2174\n",
            "Epoch 9/50\n",
            "3/3 [==============================] - 0s 23ms/step - loss: 1.1099 - accuracy: 0.3437 - val_loss: 1.1469 - val_accuracy: 0.2174\n",
            "Epoch 10/50\n",
            "3/3 [==============================] - 0s 22ms/step - loss: 1.0946 - accuracy: 0.3896 - val_loss: 1.1450 - val_accuracy: 0.2174\n",
            "Epoch 11/50\n",
            "3/3 [==============================] - 0s 21ms/step - loss: 1.0805 - accuracy: 0.4187 - val_loss: 1.1430 - val_accuracy: 0.2174\n",
            "Epoch 12/50\n",
            "3/3 [==============================] - 0s 22ms/step - loss: 1.0983 - accuracy: 0.3229 - val_loss: 1.1401 - val_accuracy: 0.2174\n",
            "Epoch 13/50\n",
            "3/3 [==============================] - 0s 23ms/step - loss: 1.0672 - accuracy: 0.3937 - val_loss: 1.1378 - val_accuracy: 0.2174\n",
            "Epoch 14/50\n",
            "3/3 [==============================] - 0s 22ms/step - loss: 1.0730 - accuracy: 0.3604 - val_loss: 1.1351 - val_accuracy: 0.2174\n",
            "Epoch 15/50\n",
            "3/3 [==============================] - 0s 20ms/step - loss: 1.0684 - accuracy: 0.3604 - val_loss: 1.1320 - val_accuracy: 0.2174\n",
            "Epoch 16/50\n",
            "3/3 [==============================] - 0s 21ms/step - loss: 1.0656 - accuracy: 0.3479 - val_loss: 1.1291 - val_accuracy: 0.2174\n",
            "Epoch 17/50\n",
            "3/3 [==============================] - 0s 21ms/step - loss: 1.0753 - accuracy: 0.3104 - val_loss: 1.1257 - val_accuracy: 0.2174\n",
            "Epoch 18/50\n",
            "3/3 [==============================] - 0s 21ms/step - loss: 1.0416 - accuracy: 0.3687 - val_loss: 1.1230 - val_accuracy: 0.2174\n",
            "Epoch 19/50\n",
            "3/3 [==============================] - 0s 24ms/step - loss: 1.0330 - accuracy: 0.3812 - val_loss: 1.1201 - val_accuracy: 0.2174\n",
            "Epoch 20/50\n",
            "3/3 [==============================] - 0s 22ms/step - loss: 1.0337 - accuracy: 0.3687 - val_loss: 1.1167 - val_accuracy: 0.2174\n",
            "Epoch 21/50\n",
            "3/3 [==============================] - 0s 23ms/step - loss: 1.0158 - accuracy: 0.3979 - val_loss: 1.1134 - val_accuracy: 0.2174\n",
            "Epoch 22/50\n",
            "3/3 [==============================] - 0s 22ms/step - loss: 1.0090 - accuracy: 0.3979 - val_loss: 1.1098 - val_accuracy: 0.2609\n",
            "Epoch 23/50\n",
            "3/3 [==============================] - 0s 21ms/step - loss: 1.0244 - accuracy: 0.3604 - val_loss: 1.1055 - val_accuracy: 0.2609\n",
            "Epoch 24/50\n",
            "3/3 [==============================] - 0s 24ms/step - loss: 1.0068 - accuracy: 0.3479 - val_loss: 1.1016 - val_accuracy: 0.3478\n",
            "Epoch 25/50\n",
            "3/3 [==============================] - 0s 22ms/step - loss: 0.9813 - accuracy: 0.4439 - val_loss: 1.0976 - val_accuracy: 0.3913\n",
            "Epoch 26/50\n",
            "3/3 [==============================] - 0s 21ms/step - loss: 1.0080 - accuracy: 0.4414 - val_loss: 1.0927 - val_accuracy: 0.3913\n",
            "Epoch 27/50\n",
            "3/3 [==============================] - 0s 20ms/step - loss: 0.9951 - accuracy: 0.4624 - val_loss: 1.0878 - val_accuracy: 0.3913\n",
            "Epoch 28/50\n",
            "3/3 [==============================] - 0s 23ms/step - loss: 1.0000 - accuracy: 0.5282 - val_loss: 1.0826 - val_accuracy: 0.3913\n",
            "Epoch 29/50\n",
            "3/3 [==============================] - 0s 24ms/step - loss: 0.9699 - accuracy: 0.6075 - val_loss: 1.0779 - val_accuracy: 0.4783\n",
            "Epoch 30/50\n",
            "3/3 [==============================] - 0s 22ms/step - loss: 0.9863 - accuracy: 0.6411 - val_loss: 1.0727 - val_accuracy: 0.4783\n",
            "Epoch 31/50\n",
            "3/3 [==============================] - 0s 22ms/step - loss: 0.9495 - accuracy: 0.7066 - val_loss: 1.0679 - val_accuracy: 0.5217\n",
            "Epoch 32/50\n",
            "3/3 [==============================] - 0s 22ms/step - loss: 0.9686 - accuracy: 0.6775 - val_loss: 1.0625 - val_accuracy: 0.5217\n",
            "Epoch 33/50\n",
            "3/3 [==============================] - 0s 23ms/step - loss: 0.9425 - accuracy: 0.7414 - val_loss: 1.0575 - val_accuracy: 0.5217\n",
            "Epoch 34/50\n",
            "3/3 [==============================] - 0s 23ms/step - loss: 0.9514 - accuracy: 0.6956 - val_loss: 1.0522 - val_accuracy: 0.5217\n",
            "Epoch 35/50\n",
            "3/3 [==============================] - 0s 22ms/step - loss: 0.9399 - accuracy: 0.6873 - val_loss: 1.0467 - val_accuracy: 0.5217\n",
            "Epoch 36/50\n",
            "3/3 [==============================] - 0s 22ms/step - loss: 0.9376 - accuracy: 0.6873 - val_loss: 1.0412 - val_accuracy: 0.5217\n",
            "Epoch 37/50\n",
            "3/3 [==============================] - 0s 22ms/step - loss: 0.9356 - accuracy: 0.6831 - val_loss: 1.0356 - val_accuracy: 0.5217\n",
            "Epoch 38/50\n",
            "3/3 [==============================] - 0s 22ms/step - loss: 0.9179 - accuracy: 0.7081 - val_loss: 1.0302 - val_accuracy: 0.5217\n",
            "Epoch 39/50\n",
            "3/3 [==============================] - 0s 26ms/step - loss: 0.9151 - accuracy: 0.7039 - val_loss: 1.0245 - val_accuracy: 0.5217\n",
            "Epoch 40/50\n",
            "3/3 [==============================] - 0s 21ms/step - loss: 0.9486 - accuracy: 0.6706 - val_loss: 1.0182 - val_accuracy: 0.5217\n",
            "Epoch 41/50\n",
            "3/3 [==============================] - 0s 21ms/step - loss: 0.9226 - accuracy: 0.6831 - val_loss: 1.0124 - val_accuracy: 0.5217\n",
            "Epoch 42/50\n",
            "3/3 [==============================] - 0s 22ms/step - loss: 0.9095 - accuracy: 0.6873 - val_loss: 1.0068 - val_accuracy: 0.5217\n",
            "Epoch 43/50\n",
            "3/3 [==============================] - 0s 22ms/step - loss: 0.9039 - accuracy: 0.6998 - val_loss: 1.0012 - val_accuracy: 0.5217\n",
            "Epoch 44/50\n",
            "3/3 [==============================] - 0s 24ms/step - loss: 0.8847 - accuracy: 0.7039 - val_loss: 0.9957 - val_accuracy: 0.5217\n",
            "Epoch 45/50\n",
            "3/3 [==============================] - 0s 23ms/step - loss: 0.8813 - accuracy: 0.6998 - val_loss: 0.9901 - val_accuracy: 0.5217\n",
            "Epoch 46/50\n",
            "3/3 [==============================] - 0s 20ms/step - loss: 0.8774 - accuracy: 0.7039 - val_loss: 0.9842 - val_accuracy: 0.5217\n",
            "Epoch 47/50\n",
            "3/3 [==============================] - 0s 24ms/step - loss: 0.8431 - accuracy: 0.7331 - val_loss: 0.9789 - val_accuracy: 0.5217\n",
            "Epoch 48/50\n",
            "3/3 [==============================] - 0s 23ms/step - loss: 0.8670 - accuracy: 0.6914 - val_loss: 0.9725 - val_accuracy: 0.5217\n",
            "Epoch 49/50\n",
            "3/3 [==============================] - 0s 23ms/step - loss: 0.8520 - accuracy: 0.7123 - val_loss: 0.9668 - val_accuracy: 0.5217\n",
            "Epoch 50/50\n",
            "3/3 [==============================] - 0s 22ms/step - loss: 0.8719 - accuracy: 0.6748 - val_loss: 0.9601 - val_accuracy: 0.5217\n"
          ],
          "name": "stdout"
        }
      ]
    },
    {
      "cell_type": "code",
      "metadata": {
        "colab": {
          "base_uri": "https://localhost:8080/"
        },
        "id": "9vamAjDgI8Y4",
        "outputId": "4405c286-4f54-4229-ab53-d8289a46e6c1"
      },
      "source": [
        "acc = model.evaluate(X_test, y_test)\n",
        "print(f'Accuracy:{acc[1]:.4f}')"
      ],
      "execution_count": null,
      "outputs": [
        {
          "output_type": "stream",
          "text": [
            "2/2 [==============================] - 0s 6ms/step - loss: 0.8943 - accuracy: 0.6579\n",
            "Accuracy:0.6579\n"
          ],
          "name": "stdout"
        }
      ]
    },
    {
      "cell_type": "markdown",
      "metadata": {
        "id": "_uyADkL5KAD7"
      },
      "source": [
        "### 은닉층을 하나 더 추가"
      ]
    },
    {
      "cell_type": "code",
      "metadata": {
        "colab": {
          "base_uri": "https://localhost:8080/"
        },
        "id": "1CefWs08JHT7",
        "outputId": "38a6837b-f179-404f-db25-3b9d3c2c3710"
      },
      "source": [
        "model2 = Sequential()\n",
        "model2.add(Dense(12, input_dim=4, activation='relu'))\n",
        "model2.add(Dense(8, activation='relu'))\n",
        "model2.add(Dense(3, activation='softmax'))\n",
        "model2.summary()"
      ],
      "execution_count": null,
      "outputs": [
        {
          "output_type": "stream",
          "text": [
            "Model: \"sequential_2\"\n",
            "_________________________________________________________________\n",
            "Layer (type)                 Output Shape              Param #   \n",
            "=================================================================\n",
            "dense_5 (Dense)              (None, 12)                60        \n",
            "_________________________________________________________________\n",
            "dense_6 (Dense)              (None, 8)                 104       \n",
            "_________________________________________________________________\n",
            "dense_7 (Dense)              (None, 3)                 27        \n",
            "=================================================================\n",
            "Total params: 191\n",
            "Trainable params: 191\n",
            "Non-trainable params: 0\n",
            "_________________________________________________________________\n"
          ],
          "name": "stdout"
        }
      ]
    },
    {
      "cell_type": "code",
      "metadata": {
        "colab": {
          "base_uri": "https://localhost:8080/"
        },
        "id": "DPTH43GtKkrt",
        "outputId": "65707085-cc0f-46cd-f9b9-8bd071848f07"
      },
      "source": [
        "model2.compile(loss='categorical_crossentropy',\n",
        "               optimizer='adam', metrics=['accuracy'])\n",
        "model2.fit(X_train, y_train, validation_split=0.2, epochs=200, batch_size=30)"
      ],
      "execution_count": null,
      "outputs": [
        {
          "output_type": "stream",
          "text": [
            "Epoch 1/200\n",
            "3/3 [==============================] - 1s 169ms/step - loss: 0.9163 - accuracy: 0.6190 - val_loss: 0.9488 - val_accuracy: 0.5217\n",
            "Epoch 2/200\n",
            "3/3 [==============================] - 0s 23ms/step - loss: 0.9006 - accuracy: 0.6677 - val_loss: 0.9442 - val_accuracy: 0.5217\n",
            "Epoch 3/200\n",
            "3/3 [==============================] - 0s 23ms/step - loss: 0.8824 - accuracy: 0.6900 - val_loss: 0.9393 - val_accuracy: 0.5217\n",
            "Epoch 4/200\n",
            "3/3 [==============================] - 0s 23ms/step - loss: 0.8791 - accuracy: 0.7025 - val_loss: 0.9350 - val_accuracy: 0.5217\n",
            "Epoch 5/200\n",
            "3/3 [==============================] - 0s 21ms/step - loss: 0.8959 - accuracy: 0.6816 - val_loss: 0.9308 - val_accuracy: 0.5217\n",
            "Epoch 6/200\n",
            "3/3 [==============================] - 0s 23ms/step - loss: 0.8761 - accuracy: 0.7150 - val_loss: 0.9267 - val_accuracy: 0.5217\n",
            "Epoch 7/200\n",
            "3/3 [==============================] - 0s 22ms/step - loss: 0.8774 - accuracy: 0.6775 - val_loss: 0.9224 - val_accuracy: 0.5217\n",
            "Epoch 8/200\n",
            "3/3 [==============================] - 0s 21ms/step - loss: 0.8592 - accuracy: 0.7316 - val_loss: 0.9182 - val_accuracy: 0.5217\n",
            "Epoch 9/200\n",
            "3/3 [==============================] - 0s 21ms/step - loss: 0.8523 - accuracy: 0.6858 - val_loss: 0.9139 - val_accuracy: 0.5217\n",
            "Epoch 10/200\n",
            "3/3 [==============================] - 0s 22ms/step - loss: 0.8593 - accuracy: 0.7066 - val_loss: 0.9097 - val_accuracy: 0.5217\n",
            "Epoch 11/200\n",
            "3/3 [==============================] - 0s 25ms/step - loss: 0.8631 - accuracy: 0.7150 - val_loss: 0.9059 - val_accuracy: 0.5217\n",
            "Epoch 12/200\n",
            "3/3 [==============================] - 0s 24ms/step - loss: 0.8616 - accuracy: 0.6441 - val_loss: 0.9014 - val_accuracy: 0.5217\n",
            "Epoch 13/200\n",
            "3/3 [==============================] - 0s 23ms/step - loss: 0.8558 - accuracy: 0.7025 - val_loss: 0.8974 - val_accuracy: 0.5217\n",
            "Epoch 14/200\n",
            "3/3 [==============================] - 0s 25ms/step - loss: 0.8497 - accuracy: 0.6873 - val_loss: 0.8931 - val_accuracy: 0.5217\n",
            "Epoch 15/200\n",
            "3/3 [==============================] - 0s 26ms/step - loss: 0.8566 - accuracy: 0.6664 - val_loss: 0.8890 - val_accuracy: 0.5217\n",
            "Epoch 16/200\n",
            "3/3 [==============================] - 0s 23ms/step - loss: 0.8346 - accuracy: 0.7012 - val_loss: 0.8849 - val_accuracy: 0.5217\n",
            "Epoch 17/200\n",
            "3/3 [==============================] - 0s 24ms/step - loss: 0.8300 - accuracy: 0.6596 - val_loss: 0.8807 - val_accuracy: 0.5217\n",
            "Epoch 18/200\n",
            "3/3 [==============================] - 0s 23ms/step - loss: 0.7943 - accuracy: 0.7554 - val_loss: 0.8769 - val_accuracy: 0.5217\n",
            "Epoch 19/200\n",
            "3/3 [==============================] - 0s 25ms/step - loss: 0.8241 - accuracy: 0.7221 - val_loss: 0.8733 - val_accuracy: 0.5217\n",
            "Epoch 20/200\n",
            "3/3 [==============================] - 0s 23ms/step - loss: 0.8169 - accuracy: 0.7152 - val_loss: 0.8694 - val_accuracy: 0.5217\n",
            "Epoch 21/200\n",
            "3/3 [==============================] - 0s 23ms/step - loss: 0.8348 - accuracy: 0.7318 - val_loss: 0.8655 - val_accuracy: 0.5217\n",
            "Epoch 22/200\n",
            "3/3 [==============================] - 0s 22ms/step - loss: 0.8211 - accuracy: 0.7402 - val_loss: 0.8617 - val_accuracy: 0.5217\n",
            "Epoch 23/200\n",
            "3/3 [==============================] - 0s 23ms/step - loss: 0.8225 - accuracy: 0.6860 - val_loss: 0.8576 - val_accuracy: 0.5217\n",
            "Epoch 24/200\n",
            "3/3 [==============================] - 0s 22ms/step - loss: 0.7418 - accuracy: 0.7777 - val_loss: 0.8538 - val_accuracy: 0.5217\n",
            "Epoch 25/200\n",
            "3/3 [==============================] - 0s 25ms/step - loss: 0.8073 - accuracy: 0.7402 - val_loss: 0.8502 - val_accuracy: 0.5217\n",
            "Epoch 26/200\n",
            "3/3 [==============================] - 0s 22ms/step - loss: 0.7951 - accuracy: 0.7027 - val_loss: 0.8464 - val_accuracy: 0.5217\n",
            "Epoch 27/200\n",
            "3/3 [==============================] - 0s 24ms/step - loss: 0.7853 - accuracy: 0.7235 - val_loss: 0.8426 - val_accuracy: 0.5217\n",
            "Epoch 28/200\n",
            "3/3 [==============================] - 0s 25ms/step - loss: 0.7848 - accuracy: 0.7250 - val_loss: 0.8391 - val_accuracy: 0.5217\n",
            "Epoch 29/200\n",
            "3/3 [==============================] - 0s 22ms/step - loss: 0.7862 - accuracy: 0.7458 - val_loss: 0.8355 - val_accuracy: 0.5217\n",
            "Epoch 30/200\n",
            "3/3 [==============================] - 0s 24ms/step - loss: 0.7629 - accuracy: 0.7416 - val_loss: 0.8320 - val_accuracy: 0.5217\n",
            "Epoch 31/200\n",
            "3/3 [==============================] - 0s 25ms/step - loss: 0.7961 - accuracy: 0.7541 - val_loss: 0.8284 - val_accuracy: 0.5652\n",
            "Epoch 32/200\n",
            "3/3 [==============================] - 0s 23ms/step - loss: 0.7809 - accuracy: 0.7125 - val_loss: 0.8245 - val_accuracy: 0.5652\n",
            "Epoch 33/200\n",
            "3/3 [==============================] - 0s 22ms/step - loss: 0.7329 - accuracy: 0.7833 - val_loss: 0.8210 - val_accuracy: 0.5652\n",
            "Epoch 34/200\n",
            "3/3 [==============================] - 0s 24ms/step - loss: 0.7785 - accuracy: 0.7487 - val_loss: 0.8175 - val_accuracy: 0.5652\n",
            "Epoch 35/200\n",
            "3/3 [==============================] - 0s 21ms/step - loss: 0.7923 - accuracy: 0.7335 - val_loss: 0.8142 - val_accuracy: 0.5652\n",
            "Epoch 36/200\n",
            "3/3 [==============================] - 0s 25ms/step - loss: 0.7799 - accuracy: 0.7751 - val_loss: 0.8110 - val_accuracy: 0.5652\n",
            "Epoch 37/200\n",
            "3/3 [==============================] - 0s 23ms/step - loss: 0.7782 - accuracy: 0.7460 - val_loss: 0.8077 - val_accuracy: 0.5652\n",
            "Epoch 38/200\n",
            "3/3 [==============================] - 0s 21ms/step - loss: 0.7587 - accuracy: 0.7751 - val_loss: 0.8046 - val_accuracy: 0.5652\n",
            "Epoch 39/200\n",
            "3/3 [==============================] - 0s 23ms/step - loss: 0.7498 - accuracy: 0.7793 - val_loss: 0.8011 - val_accuracy: 0.6087\n",
            "Epoch 40/200\n",
            "3/3 [==============================] - 0s 23ms/step - loss: 0.7186 - accuracy: 0.7460 - val_loss: 0.7975 - val_accuracy: 0.6087\n",
            "Epoch 41/200\n",
            "3/3 [==============================] - 0s 24ms/step - loss: 0.7338 - accuracy: 0.7516 - val_loss: 0.7942 - val_accuracy: 0.6087\n",
            "Epoch 42/200\n",
            "3/3 [==============================] - 0s 22ms/step - loss: 0.7510 - accuracy: 0.7599 - val_loss: 0.7912 - val_accuracy: 0.6087\n",
            "Epoch 43/200\n",
            "3/3 [==============================] - 0s 27ms/step - loss: 0.7205 - accuracy: 0.7599 - val_loss: 0.7882 - val_accuracy: 0.6087\n",
            "Epoch 44/200\n",
            "3/3 [==============================] - 0s 24ms/step - loss: 0.7350 - accuracy: 0.7849 - val_loss: 0.7851 - val_accuracy: 0.6087\n",
            "Epoch 45/200\n",
            "3/3 [==============================] - 0s 93ms/step - loss: 0.7341 - accuracy: 0.7933 - val_loss: 0.7822 - val_accuracy: 0.6087\n",
            "Epoch 46/200\n",
            "3/3 [==============================] - 0s 23ms/step - loss: 0.7170 - accuracy: 0.7905 - val_loss: 0.7794 - val_accuracy: 0.6087\n",
            "Epoch 47/200\n",
            "3/3 [==============================] - 0s 24ms/step - loss: 0.7256 - accuracy: 0.8155 - val_loss: 0.7769 - val_accuracy: 0.6087\n",
            "Epoch 48/200\n",
            "3/3 [==============================] - 0s 22ms/step - loss: 0.7249 - accuracy: 0.7976 - val_loss: 0.7740 - val_accuracy: 0.6087\n",
            "Epoch 49/200\n",
            "3/3 [==============================] - 0s 23ms/step - loss: 0.7179 - accuracy: 0.8518 - val_loss: 0.7715 - val_accuracy: 0.6087\n",
            "Epoch 50/200\n",
            "3/3 [==============================] - 0s 22ms/step - loss: 0.7042 - accuracy: 0.7976 - val_loss: 0.7684 - val_accuracy: 0.6522\n",
            "Epoch 51/200\n",
            "3/3 [==============================] - 0s 22ms/step - loss: 0.6949 - accuracy: 0.8309 - val_loss: 0.7656 - val_accuracy: 0.6522\n",
            "Epoch 52/200\n",
            "3/3 [==============================] - 0s 22ms/step - loss: 0.6847 - accuracy: 0.8101 - val_loss: 0.7631 - val_accuracy: 0.6522\n",
            "Epoch 53/200\n",
            "3/3 [==============================] - 0s 27ms/step - loss: 0.7073 - accuracy: 0.8059 - val_loss: 0.7608 - val_accuracy: 0.6522\n",
            "Epoch 54/200\n",
            "3/3 [==============================] - 0s 23ms/step - loss: 0.7361 - accuracy: 0.8018 - val_loss: 0.7583 - val_accuracy: 0.6522\n",
            "Epoch 55/200\n",
            "3/3 [==============================] - 0s 22ms/step - loss: 0.6810 - accuracy: 0.8184 - val_loss: 0.7560 - val_accuracy: 0.6522\n",
            "Epoch 56/200\n",
            "3/3 [==============================] - 0s 25ms/step - loss: 0.6935 - accuracy: 0.8393 - val_loss: 0.7535 - val_accuracy: 0.6957\n",
            "Epoch 57/200\n",
            "3/3 [==============================] - 0s 24ms/step - loss: 0.7150 - accuracy: 0.8226 - val_loss: 0.7506 - val_accuracy: 0.6957\n",
            "Epoch 58/200\n",
            "3/3 [==============================] - 0s 23ms/step - loss: 0.6904 - accuracy: 0.8268 - val_loss: 0.7468 - val_accuracy: 0.6957\n",
            "Epoch 59/200\n",
            "3/3 [==============================] - 0s 23ms/step - loss: 0.6681 - accuracy: 0.8393 - val_loss: 0.7424 - val_accuracy: 0.6957\n",
            "Epoch 60/200\n",
            "3/3 [==============================] - 0s 21ms/step - loss: 0.6689 - accuracy: 0.8434 - val_loss: 0.7384 - val_accuracy: 0.6957\n",
            "Epoch 61/200\n",
            "3/3 [==============================] - 0s 24ms/step - loss: 0.6449 - accuracy: 0.8143 - val_loss: 0.7342 - val_accuracy: 0.6522\n",
            "Epoch 62/200\n",
            "3/3 [==============================] - 0s 22ms/step - loss: 0.6619 - accuracy: 0.8003 - val_loss: 0.7300 - val_accuracy: 0.6522\n",
            "Epoch 63/200\n",
            "3/3 [==============================] - 0s 22ms/step - loss: 0.6626 - accuracy: 0.8045 - val_loss: 0.7265 - val_accuracy: 0.6522\n",
            "Epoch 64/200\n",
            "3/3 [==============================] - 0s 22ms/step - loss: 0.6724 - accuracy: 0.8128 - val_loss: 0.7223 - val_accuracy: 0.6522\n",
            "Epoch 65/200\n",
            "3/3 [==============================] - 0s 22ms/step - loss: 0.6311 - accuracy: 0.7585 - val_loss: 0.7181 - val_accuracy: 0.6087\n",
            "Epoch 66/200\n",
            "3/3 [==============================] - 0s 25ms/step - loss: 0.6293 - accuracy: 0.8070 - val_loss: 0.7148 - val_accuracy: 0.5652\n",
            "Epoch 67/200\n",
            "3/3 [==============================] - 0s 24ms/step - loss: 0.6243 - accuracy: 0.7570 - val_loss: 0.7115 - val_accuracy: 0.6087\n",
            "Epoch 68/200\n",
            "3/3 [==============================] - 0s 21ms/step - loss: 0.6035 - accuracy: 0.7972 - val_loss: 0.7081 - val_accuracy: 0.6087\n",
            "Epoch 69/200\n",
            "3/3 [==============================] - 0s 23ms/step - loss: 0.5935 - accuracy: 0.7514 - val_loss: 0.7035 - val_accuracy: 0.6087\n",
            "Epoch 70/200\n",
            "3/3 [==============================] - 0s 25ms/step - loss: 0.5717 - accuracy: 0.7847 - val_loss: 0.6988 - val_accuracy: 0.6087\n",
            "Epoch 71/200\n",
            "3/3 [==============================] - 0s 25ms/step - loss: 0.5866 - accuracy: 0.7597 - val_loss: 0.6942 - val_accuracy: 0.6087\n",
            "Epoch 72/200\n",
            "3/3 [==============================] - 0s 23ms/step - loss: 0.6132 - accuracy: 0.7375 - val_loss: 0.6899 - val_accuracy: 0.5652\n",
            "Epoch 73/200\n",
            "3/3 [==============================] - 0s 25ms/step - loss: 0.6154 - accuracy: 0.7306 - val_loss: 0.6854 - val_accuracy: 0.5652\n",
            "Epoch 74/200\n",
            "3/3 [==============================] - 0s 23ms/step - loss: 0.5888 - accuracy: 0.7431 - val_loss: 0.6809 - val_accuracy: 0.5652\n",
            "Epoch 75/200\n",
            "3/3 [==============================] - 0s 23ms/step - loss: 0.6032 - accuracy: 0.7181 - val_loss: 0.6762 - val_accuracy: 0.5652\n",
            "Epoch 76/200\n",
            "3/3 [==============================] - 0s 21ms/step - loss: 0.5799 - accuracy: 0.7347 - val_loss: 0.6720 - val_accuracy: 0.5652\n",
            "Epoch 77/200\n",
            "3/3 [==============================] - 0s 23ms/step - loss: 0.5663 - accuracy: 0.7139 - val_loss: 0.6662 - val_accuracy: 0.5652\n",
            "Epoch 78/200\n",
            "3/3 [==============================] - 0s 20ms/step - loss: 0.5586 - accuracy: 0.7333 - val_loss: 0.6613 - val_accuracy: 0.5652\n",
            "Epoch 79/200\n",
            "3/3 [==============================] - 0s 22ms/step - loss: 0.5410 - accuracy: 0.7500 - val_loss: 0.6561 - val_accuracy: 0.5652\n",
            "Epoch 80/200\n",
            "3/3 [==============================] - 0s 24ms/step - loss: 0.5563 - accuracy: 0.7458 - val_loss: 0.6512 - val_accuracy: 0.5652\n",
            "Epoch 81/200\n",
            "3/3 [==============================] - 0s 22ms/step - loss: 0.5368 - accuracy: 0.7541 - val_loss: 0.6455 - val_accuracy: 0.5652\n",
            "Epoch 82/200\n",
            "3/3 [==============================] - 0s 28ms/step - loss: 0.5314 - accuracy: 0.7500 - val_loss: 0.6391 - val_accuracy: 0.5652\n",
            "Epoch 83/200\n",
            "3/3 [==============================] - 0s 22ms/step - loss: 0.5414 - accuracy: 0.7291 - val_loss: 0.6316 - val_accuracy: 0.5652\n",
            "Epoch 84/200\n",
            "3/3 [==============================] - 0s 23ms/step - loss: 0.5062 - accuracy: 0.7681 - val_loss: 0.6245 - val_accuracy: 0.5652\n",
            "Epoch 85/200\n",
            "3/3 [==============================] - 0s 23ms/step - loss: 0.4866 - accuracy: 0.7764 - val_loss: 0.6173 - val_accuracy: 0.5652\n",
            "Epoch 86/200\n",
            "3/3 [==============================] - 0s 22ms/step - loss: 0.4969 - accuracy: 0.7431 - val_loss: 0.6102 - val_accuracy: 0.5652\n",
            "Epoch 87/200\n",
            "3/3 [==============================] - 0s 23ms/step - loss: 0.4879 - accuracy: 0.7597 - val_loss: 0.6028 - val_accuracy: 0.5652\n",
            "Epoch 88/200\n",
            "3/3 [==============================] - 0s 24ms/step - loss: 0.4740 - accuracy: 0.7722 - val_loss: 0.5968 - val_accuracy: 0.5652\n",
            "Epoch 89/200\n",
            "3/3 [==============================] - 0s 21ms/step - loss: 0.5012 - accuracy: 0.7279 - val_loss: 0.5899 - val_accuracy: 0.6522\n",
            "Epoch 90/200\n",
            "3/3 [==============================] - 0s 26ms/step - loss: 0.4935 - accuracy: 0.7529 - val_loss: 0.5847 - val_accuracy: 0.6522\n",
            "Epoch 91/200\n",
            "3/3 [==============================] - 0s 86ms/step - loss: 0.4880 - accuracy: 0.7695 - val_loss: 0.5808 - val_accuracy: 0.6087\n",
            "Epoch 92/200\n",
            "3/3 [==============================] - 0s 22ms/step - loss: 0.4647 - accuracy: 0.7820 - val_loss: 0.5769 - val_accuracy: 0.6087\n",
            "Epoch 93/200\n",
            "3/3 [==============================] - 0s 23ms/step - loss: 0.4266 - accuracy: 0.7889 - val_loss: 0.5733 - val_accuracy: 0.6087\n",
            "Epoch 94/200\n",
            "3/3 [==============================] - 0s 24ms/step - loss: 0.4660 - accuracy: 0.7639 - val_loss: 0.5672 - val_accuracy: 0.6087\n",
            "Epoch 95/200\n",
            "3/3 [==============================] - 0s 22ms/step - loss: 0.4552 - accuracy: 0.7779 - val_loss: 0.5605 - val_accuracy: 0.6522\n",
            "Epoch 96/200\n",
            "3/3 [==============================] - 0s 22ms/step - loss: 0.4667 - accuracy: 0.7822 - val_loss: 0.5525 - val_accuracy: 0.6957\n",
            "Epoch 97/200\n",
            "3/3 [==============================] - 0s 21ms/step - loss: 0.4309 - accuracy: 0.8128 - val_loss: 0.5458 - val_accuracy: 0.6957\n",
            "Epoch 98/200\n",
            "3/3 [==============================] - 0s 22ms/step - loss: 0.4501 - accuracy: 0.8143 - val_loss: 0.5395 - val_accuracy: 0.6957\n",
            "Epoch 99/200\n",
            "3/3 [==============================] - 0s 28ms/step - loss: 0.4396 - accuracy: 0.8184 - val_loss: 0.5340 - val_accuracy: 0.6957\n",
            "Epoch 100/200\n",
            "3/3 [==============================] - 0s 29ms/step - loss: 0.4023 - accuracy: 0.8532 - val_loss: 0.5290 - val_accuracy: 0.7391\n",
            "Epoch 101/200\n",
            "3/3 [==============================] - 0s 25ms/step - loss: 0.4271 - accuracy: 0.8366 - val_loss: 0.5234 - val_accuracy: 0.7391\n",
            "Epoch 102/200\n",
            "3/3 [==============================] - 0s 26ms/step - loss: 0.4244 - accuracy: 0.8422 - val_loss: 0.5177 - val_accuracy: 0.7826\n",
            "Epoch 103/200\n",
            "3/3 [==============================] - 0s 22ms/step - loss: 0.4269 - accuracy: 0.8422 - val_loss: 0.5118 - val_accuracy: 0.7826\n",
            "Epoch 104/200\n",
            "3/3 [==============================] - 0s 24ms/step - loss: 0.4054 - accuracy: 0.8353 - val_loss: 0.5076 - val_accuracy: 0.7826\n",
            "Epoch 105/200\n",
            "3/3 [==============================] - 0s 22ms/step - loss: 0.4011 - accuracy: 0.8603 - val_loss: 0.5034 - val_accuracy: 0.7826\n",
            "Epoch 106/200\n",
            "3/3 [==============================] - 0s 23ms/step - loss: 0.4386 - accuracy: 0.8228 - val_loss: 0.4999 - val_accuracy: 0.7826\n",
            "Epoch 107/200\n",
            "3/3 [==============================] - 0s 21ms/step - loss: 0.3890 - accuracy: 0.8701 - val_loss: 0.4958 - val_accuracy: 0.7826\n",
            "Epoch 108/200\n",
            "3/3 [==============================] - 0s 21ms/step - loss: 0.3965 - accuracy: 0.8534 - val_loss: 0.4906 - val_accuracy: 0.7826\n",
            "Epoch 109/200\n",
            "3/3 [==============================] - 0s 28ms/step - loss: 0.4132 - accuracy: 0.8465 - val_loss: 0.4860 - val_accuracy: 0.8261\n",
            "Epoch 110/200\n",
            "3/3 [==============================] - 0s 23ms/step - loss: 0.3754 - accuracy: 0.8715 - val_loss: 0.4831 - val_accuracy: 0.8261\n",
            "Epoch 111/200\n",
            "3/3 [==============================] - 0s 22ms/step - loss: 0.3762 - accuracy: 0.8632 - val_loss: 0.4783 - val_accuracy: 0.8261\n",
            "Epoch 112/200\n",
            "3/3 [==============================] - 0s 21ms/step - loss: 0.4030 - accuracy: 0.8674 - val_loss: 0.4741 - val_accuracy: 0.8261\n",
            "Epoch 113/200\n",
            "3/3 [==============================] - 0s 21ms/step - loss: 0.3635 - accuracy: 0.8757 - val_loss: 0.4702 - val_accuracy: 0.8261\n",
            "Epoch 114/200\n",
            "3/3 [==============================] - 0s 22ms/step - loss: 0.3705 - accuracy: 0.8924 - val_loss: 0.4660 - val_accuracy: 0.8261\n",
            "Epoch 115/200\n",
            "3/3 [==============================] - 0s 21ms/step - loss: 0.3808 - accuracy: 0.8632 - val_loss: 0.4613 - val_accuracy: 0.8261\n",
            "Epoch 116/200\n",
            "3/3 [==============================] - 0s 22ms/step - loss: 0.3651 - accuracy: 0.8715 - val_loss: 0.4561 - val_accuracy: 0.8696\n",
            "Epoch 117/200\n",
            "3/3 [==============================] - 0s 23ms/step - loss: 0.3656 - accuracy: 0.8688 - val_loss: 0.4521 - val_accuracy: 0.8696\n",
            "Epoch 118/200\n",
            "3/3 [==============================] - 0s 25ms/step - loss: 0.3690 - accuracy: 0.9161 - val_loss: 0.4499 - val_accuracy: 0.8696\n",
            "Epoch 119/200\n",
            "3/3 [==============================] - 0s 23ms/step - loss: 0.3574 - accuracy: 0.9078 - val_loss: 0.4464 - val_accuracy: 0.8696\n",
            "Epoch 120/200\n",
            "3/3 [==============================] - 0s 20ms/step - loss: 0.3677 - accuracy: 0.8967 - val_loss: 0.4420 - val_accuracy: 0.8696\n",
            "Epoch 121/200\n",
            "3/3 [==============================] - 0s 25ms/step - loss: 0.3606 - accuracy: 0.8926 - val_loss: 0.4375 - val_accuracy: 0.8696\n",
            "Epoch 122/200\n",
            "3/3 [==============================] - 0s 24ms/step - loss: 0.3459 - accuracy: 0.9301 - val_loss: 0.4346 - val_accuracy: 0.8696\n",
            "Epoch 123/200\n",
            "3/3 [==============================] - 0s 25ms/step - loss: 0.3507 - accuracy: 0.9176 - val_loss: 0.4292 - val_accuracy: 0.9130\n",
            "Epoch 124/200\n",
            "3/3 [==============================] - 0s 24ms/step - loss: 0.3365 - accuracy: 0.8926 - val_loss: 0.4272 - val_accuracy: 0.9130\n",
            "Epoch 125/200\n",
            "3/3 [==============================] - 0s 23ms/step - loss: 0.3456 - accuracy: 0.9092 - val_loss: 0.4254 - val_accuracy: 0.9130\n",
            "Epoch 126/200\n",
            "3/3 [==============================] - 0s 21ms/step - loss: 0.3395 - accuracy: 0.8926 - val_loss: 0.4200 - val_accuracy: 0.9130\n",
            "Epoch 127/200\n",
            "3/3 [==============================] - 0s 24ms/step - loss: 0.3205 - accuracy: 0.9232 - val_loss: 0.4161 - val_accuracy: 0.9130\n",
            "Epoch 128/200\n",
            "3/3 [==============================] - 0s 24ms/step - loss: 0.3269 - accuracy: 0.9315 - val_loss: 0.4139 - val_accuracy: 0.9130\n",
            "Epoch 129/200\n",
            "3/3 [==============================] - 0s 23ms/step - loss: 0.3108 - accuracy: 0.9440 - val_loss: 0.4128 - val_accuracy: 0.9130\n",
            "Epoch 130/200\n",
            "3/3 [==============================] - 0s 25ms/step - loss: 0.3144 - accuracy: 0.9357 - val_loss: 0.4089 - val_accuracy: 0.9130\n",
            "Epoch 131/200\n",
            "3/3 [==============================] - 0s 25ms/step - loss: 0.3075 - accuracy: 0.9398 - val_loss: 0.4061 - val_accuracy: 0.9130\n",
            "Epoch 132/200\n",
            "3/3 [==============================] - 0s 23ms/step - loss: 0.3108 - accuracy: 0.9273 - val_loss: 0.4019 - val_accuracy: 0.9130\n",
            "Epoch 133/200\n",
            "3/3 [==============================] - 0s 23ms/step - loss: 0.3237 - accuracy: 0.9107 - val_loss: 0.3976 - val_accuracy: 0.9130\n",
            "Epoch 134/200\n",
            "3/3 [==============================] - 0s 22ms/step - loss: 0.3425 - accuracy: 0.9371 - val_loss: 0.3935 - val_accuracy: 0.9130\n",
            "Epoch 135/200\n",
            "3/3 [==============================] - 0s 21ms/step - loss: 0.3151 - accuracy: 0.9496 - val_loss: 0.3917 - val_accuracy: 0.9130\n",
            "Epoch 136/200\n",
            "3/3 [==============================] - 0s 22ms/step - loss: 0.3370 - accuracy: 0.9080 - val_loss: 0.3880 - val_accuracy: 0.9130\n",
            "Epoch 137/200\n",
            "3/3 [==============================] - 0s 85ms/step - loss: 0.2964 - accuracy: 0.9552 - val_loss: 0.3859 - val_accuracy: 0.9130\n",
            "Epoch 138/200\n",
            "3/3 [==============================] - 0s 24ms/step - loss: 0.3306 - accuracy: 0.9219 - val_loss: 0.3818 - val_accuracy: 0.9130\n",
            "Epoch 139/200\n",
            "3/3 [==============================] - 0s 27ms/step - loss: 0.3276 - accuracy: 0.9302 - val_loss: 0.3799 - val_accuracy: 0.9130\n",
            "Epoch 140/200\n",
            "3/3 [==============================] - 0s 21ms/step - loss: 0.2957 - accuracy: 0.9552 - val_loss: 0.3801 - val_accuracy: 0.9130\n",
            "Epoch 141/200\n",
            "3/3 [==============================] - 0s 22ms/step - loss: 0.2953 - accuracy: 0.9552 - val_loss: 0.3758 - val_accuracy: 0.9130\n",
            "Epoch 142/200\n",
            "3/3 [==============================] - 0s 24ms/step - loss: 0.3053 - accuracy: 0.9344 - val_loss: 0.3724 - val_accuracy: 0.9130\n",
            "Epoch 143/200\n",
            "3/3 [==============================] - 0s 22ms/step - loss: 0.2784 - accuracy: 0.9594 - val_loss: 0.3689 - val_accuracy: 0.9130\n",
            "Epoch 144/200\n",
            "3/3 [==============================] - 0s 22ms/step - loss: 0.3012 - accuracy: 0.9386 - val_loss: 0.3638 - val_accuracy: 0.9130\n",
            "Epoch 145/200\n",
            "3/3 [==============================] - 0s 24ms/step - loss: 0.2876 - accuracy: 0.9692 - val_loss: 0.3609 - val_accuracy: 0.9130\n",
            "Epoch 146/200\n",
            "3/3 [==============================] - 0s 25ms/step - loss: 0.2815 - accuracy: 0.9567 - val_loss: 0.3584 - val_accuracy: 0.9130\n",
            "Epoch 147/200\n",
            "3/3 [==============================] - 0s 22ms/step - loss: 0.2665 - accuracy: 0.9567 - val_loss: 0.3551 - val_accuracy: 0.9130\n",
            "Epoch 148/200\n",
            "3/3 [==============================] - 0s 26ms/step - loss: 0.2692 - accuracy: 0.9692 - val_loss: 0.3532 - val_accuracy: 0.9130\n",
            "Epoch 149/200\n",
            "3/3 [==============================] - 0s 24ms/step - loss: 0.2642 - accuracy: 0.9609 - val_loss: 0.3520 - val_accuracy: 0.9130\n",
            "Epoch 150/200\n",
            "3/3 [==============================] - 0s 24ms/step - loss: 0.2753 - accuracy: 0.9484 - val_loss: 0.3483 - val_accuracy: 0.9130\n",
            "Epoch 151/200\n",
            "3/3 [==============================] - 0s 24ms/step - loss: 0.2892 - accuracy: 0.9484 - val_loss: 0.3454 - val_accuracy: 0.9130\n",
            "Epoch 152/200\n",
            "3/3 [==============================] - 0s 25ms/step - loss: 0.2647 - accuracy: 0.9609 - val_loss: 0.3433 - val_accuracy: 0.9130\n",
            "Epoch 153/200\n",
            "3/3 [==============================] - 0s 25ms/step - loss: 0.2817 - accuracy: 0.9484 - val_loss: 0.3399 - val_accuracy: 0.9130\n",
            "Epoch 154/200\n",
            "3/3 [==============================] - 0s 21ms/step - loss: 0.2839 - accuracy: 0.9275 - val_loss: 0.3387 - val_accuracy: 0.9130\n",
            "Epoch 155/200\n",
            "3/3 [==============================] - 0s 22ms/step - loss: 0.2601 - accuracy: 0.9734 - val_loss: 0.3377 - val_accuracy: 0.9130\n",
            "Epoch 156/200\n",
            "3/3 [==============================] - 0s 25ms/step - loss: 0.2643 - accuracy: 0.9400 - val_loss: 0.3358 - val_accuracy: 0.9130\n",
            "Epoch 157/200\n",
            "3/3 [==============================] - 0s 26ms/step - loss: 0.2873 - accuracy: 0.9484 - val_loss: 0.3326 - val_accuracy: 0.9130\n",
            "Epoch 158/200\n",
            "3/3 [==============================] - 0s 25ms/step - loss: 0.2707 - accuracy: 0.9525 - val_loss: 0.3325 - val_accuracy: 0.9130\n",
            "Epoch 159/200\n",
            "3/3 [==============================] - 0s 23ms/step - loss: 0.2858 - accuracy: 0.9484 - val_loss: 0.3283 - val_accuracy: 0.9130\n",
            "Epoch 160/200\n",
            "3/3 [==============================] - 0s 25ms/step - loss: 0.2624 - accuracy: 0.9484 - val_loss: 0.3258 - val_accuracy: 0.9130\n",
            "Epoch 161/200\n",
            "3/3 [==============================] - 0s 25ms/step - loss: 0.2521 - accuracy: 0.9609 - val_loss: 0.3244 - val_accuracy: 0.9130\n",
            "Epoch 162/200\n",
            "3/3 [==============================] - 0s 25ms/step - loss: 0.2250 - accuracy: 0.9567 - val_loss: 0.3221 - val_accuracy: 0.9130\n",
            "Epoch 163/200\n",
            "3/3 [==============================] - 0s 24ms/step - loss: 0.2527 - accuracy: 0.9665 - val_loss: 0.3183 - val_accuracy: 0.9130\n",
            "Epoch 164/200\n",
            "3/3 [==============================] - 0s 20ms/step - loss: 0.2548 - accuracy: 0.9748 - val_loss: 0.3172 - val_accuracy: 0.9130\n",
            "Epoch 165/200\n",
            "3/3 [==============================] - 0s 24ms/step - loss: 0.2534 - accuracy: 0.9638 - val_loss: 0.3121 - val_accuracy: 0.9130\n",
            "Epoch 166/200\n",
            "3/3 [==============================] - 0s 24ms/step - loss: 0.2437 - accuracy: 0.9748 - val_loss: 0.3109 - val_accuracy: 0.9130\n",
            "Epoch 167/200\n",
            "3/3 [==============================] - 0s 22ms/step - loss: 0.2474 - accuracy: 0.9846 - val_loss: 0.3078 - val_accuracy: 0.9130\n",
            "Epoch 168/200\n",
            "3/3 [==============================] - 0s 24ms/step - loss: 0.2417 - accuracy: 0.9721 - val_loss: 0.3054 - val_accuracy: 0.9130\n",
            "Epoch 169/200\n",
            "3/3 [==============================] - 0s 25ms/step - loss: 0.2230 - accuracy: 0.9888 - val_loss: 0.3052 - val_accuracy: 0.9130\n",
            "Epoch 170/200\n",
            "3/3 [==============================] - 0s 25ms/step - loss: 0.2160 - accuracy: 0.9804 - val_loss: 0.3051 - val_accuracy: 0.9130\n",
            "Epoch 171/200\n",
            "3/3 [==============================] - 0s 23ms/step - loss: 0.2406 - accuracy: 0.9706 - val_loss: 0.3048 - val_accuracy: 0.9130\n",
            "Epoch 172/200\n",
            "3/3 [==============================] - 0s 23ms/step - loss: 0.2425 - accuracy: 0.9721 - val_loss: 0.3001 - val_accuracy: 0.9130\n",
            "Epoch 173/200\n",
            "3/3 [==============================] - 0s 22ms/step - loss: 0.2519 - accuracy: 0.9721 - val_loss: 0.2948 - val_accuracy: 0.9130\n",
            "Epoch 174/200\n",
            "3/3 [==============================] - 0s 22ms/step - loss: 0.2233 - accuracy: 0.9888 - val_loss: 0.2928 - val_accuracy: 0.9130\n",
            "Epoch 175/200\n",
            "3/3 [==============================] - 0s 21ms/step - loss: 0.2229 - accuracy: 0.9721 - val_loss: 0.2920 - val_accuracy: 0.9130\n",
            "Epoch 176/200\n",
            "3/3 [==============================] - 0s 24ms/step - loss: 0.2370 - accuracy: 0.9721 - val_loss: 0.2896 - val_accuracy: 0.9130\n",
            "Epoch 177/200\n",
            "3/3 [==============================] - 0s 28ms/step - loss: 0.2297 - accuracy: 0.9721 - val_loss: 0.2882 - val_accuracy: 0.9130\n",
            "Epoch 178/200\n",
            "3/3 [==============================] - 0s 24ms/step - loss: 0.2231 - accuracy: 0.9721 - val_loss: 0.2866 - val_accuracy: 0.9130\n",
            "Epoch 179/200\n",
            "3/3 [==============================] - 0s 23ms/step - loss: 0.2346 - accuracy: 0.9638 - val_loss: 0.2846 - val_accuracy: 0.9130\n",
            "Epoch 180/200\n",
            "3/3 [==============================] - 0s 24ms/step - loss: 0.2125 - accuracy: 0.9638 - val_loss: 0.2831 - val_accuracy: 0.9130\n",
            "Epoch 181/200\n",
            "3/3 [==============================] - 0s 23ms/step - loss: 0.2068 - accuracy: 0.9846 - val_loss: 0.2821 - val_accuracy: 0.9130\n",
            "Epoch 182/200\n",
            "3/3 [==============================] - 0s 24ms/step - loss: 0.2127 - accuracy: 0.9888 - val_loss: 0.2808 - val_accuracy: 0.9130\n",
            "Epoch 183/200\n",
            "3/3 [==============================] - 0s 86ms/step - loss: 0.2155 - accuracy: 0.9763 - val_loss: 0.2763 - val_accuracy: 0.9130\n",
            "Epoch 184/200\n",
            "3/3 [==============================] - 0s 22ms/step - loss: 0.2123 - accuracy: 0.9804 - val_loss: 0.2757 - val_accuracy: 0.9130\n",
            "Epoch 185/200\n",
            "3/3 [==============================] - 0s 22ms/step - loss: 0.1986 - accuracy: 0.9846 - val_loss: 0.2753 - val_accuracy: 0.9130\n",
            "Epoch 186/200\n",
            "3/3 [==============================] - 0s 23ms/step - loss: 0.1929 - accuracy: 0.9763 - val_loss: 0.2738 - val_accuracy: 0.9130\n",
            "Epoch 187/200\n",
            "3/3 [==============================] - 0s 24ms/step - loss: 0.2109 - accuracy: 0.9721 - val_loss: 0.2713 - val_accuracy: 0.9130\n",
            "Epoch 188/200\n",
            "3/3 [==============================] - 0s 22ms/step - loss: 0.2185 - accuracy: 0.9638 - val_loss: 0.2668 - val_accuracy: 0.9130\n",
            "Epoch 189/200\n",
            "3/3 [==============================] - 0s 23ms/step - loss: 0.2030 - accuracy: 0.9804 - val_loss: 0.2644 - val_accuracy: 0.9130\n",
            "Epoch 190/200\n",
            "3/3 [==============================] - 0s 21ms/step - loss: 0.2075 - accuracy: 0.9721 - val_loss: 0.2621 - val_accuracy: 0.9130\n",
            "Epoch 191/200\n",
            "3/3 [==============================] - 0s 23ms/step - loss: 0.2106 - accuracy: 0.9638 - val_loss: 0.2630 - val_accuracy: 0.9130\n",
            "Epoch 192/200\n",
            "3/3 [==============================] - 0s 23ms/step - loss: 0.2047 - accuracy: 0.9638 - val_loss: 0.2621 - val_accuracy: 0.9130\n",
            "Epoch 193/200\n",
            "3/3 [==============================] - 0s 27ms/step - loss: 0.1788 - accuracy: 0.9888 - val_loss: 0.2627 - val_accuracy: 0.9130\n",
            "Epoch 194/200\n",
            "3/3 [==============================] - 0s 23ms/step - loss: 0.2001 - accuracy: 0.9721 - val_loss: 0.2590 - val_accuracy: 0.9130\n",
            "Epoch 195/200\n",
            "3/3 [==============================] - 0s 23ms/step - loss: 0.1914 - accuracy: 0.9638 - val_loss: 0.2568 - val_accuracy: 0.9130\n",
            "Epoch 196/200\n",
            "3/3 [==============================] - 0s 25ms/step - loss: 0.1914 - accuracy: 0.9721 - val_loss: 0.2561 - val_accuracy: 0.9130\n",
            "Epoch 197/200\n",
            "3/3 [==============================] - 0s 22ms/step - loss: 0.1863 - accuracy: 0.9763 - val_loss: 0.2530 - val_accuracy: 0.9130\n",
            "Epoch 198/200\n",
            "3/3 [==============================] - 0s 24ms/step - loss: 0.1952 - accuracy: 0.9819 - val_loss: 0.2505 - val_accuracy: 0.9130\n",
            "Epoch 199/200\n",
            "3/3 [==============================] - 0s 25ms/step - loss: 0.1892 - accuracy: 0.9819 - val_loss: 0.2497 - val_accuracy: 0.9130\n",
            "Epoch 200/200\n",
            "3/3 [==============================] - 0s 21ms/step - loss: 0.1725 - accuracy: 0.9819 - val_loss: 0.2479 - val_accuracy: 0.9130\n"
          ],
          "name": "stdout"
        },
        {
          "output_type": "execute_result",
          "data": {
            "text/plain": [
              "<tensorflow.python.keras.callbacks.History at 0x7f21aaa3b630>"
            ]
          },
          "metadata": {
            "tags": []
          },
          "execution_count": 26
        }
      ]
    },
    {
      "cell_type": "code",
      "metadata": {
        "colab": {
          "base_uri": "https://localhost:8080/"
        },
        "id": "o_OFP9XRK7sG",
        "outputId": "9120d981-9a78-4a6a-99e6-b6d1ec8387cc"
      },
      "source": [
        "acc = model2.evaluate(X_test, y_test)\n",
        "print(f'Accuracy:{acc[1]:.4f}')"
      ],
      "execution_count": null,
      "outputs": [
        {
          "output_type": "stream",
          "text": [
            "2/2 [==============================] - 0s 5ms/step - loss: 0.2155 - accuracy: 0.9737\n",
            "Accuracy:0.9737\n"
          ],
          "name": "stdout"
        }
      ]
    },
    {
      "cell_type": "code",
      "metadata": {
        "id": "Jt5cWTdzLCZX"
      },
      "source": [
        ""
      ],
      "execution_count": null,
      "outputs": []
    }
  ]
}