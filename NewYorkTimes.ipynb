{
  "nbformat": 4,
  "nbformat_minor": 0,
  "metadata": {
    "colab": {
      "name": "NewYorkTimes.ipynb",
      "provenance": [],
      "collapsed_sections": [],
      "authorship_tag": "ABX9TyO+hTMJH6D6i0u0CaEVXWzO",
      "include_colab_link": true
    },
    "kernelspec": {
      "name": "python3",
      "display_name": "Python 3"
    },
    "accelerator": "GPU"
  },
  "cells": [
    {
      "cell_type": "markdown",
      "metadata": {
        "id": "view-in-github",
        "colab_type": "text"
      },
      "source": [
        "<a href=\"https://colab.research.google.com/github/HYUNSOOLEE-6839/colab-Deep-Learning/blob/main/NewYorkTimes.ipynb\" target=\"_parent\"><img src=\"https://colab.research.google.com/assets/colab-badge.svg\" alt=\"Open In Colab\"/></a>"
      ]
    },
    {
      "cell_type": "markdown",
      "metadata": {
        "id": "n8PutOcMhrOD"
      },
      "source": [
        "# LSTM을 이용한 텍스트 생성\r\n",
        "- 캐글 New York Times Comments\r\n",
        "- ArticlesApril2018.csv"
      ]
    },
    {
      "cell_type": "code",
      "metadata": {
        "id": "GcQSKNsRjA6W"
      },
      "source": [
        "import tensorflow as tf\r\n",
        "from tensorflow import keras\r\n",
        "from tensorflow.keras.preprocessing.text import Tokenizer\r\n",
        "from tensorflow.keras.preprocessing.sequence import pad_sequences\r\n",
        "from tensorflow.keras.utils import to_categorical"
      ],
      "execution_count": 1,
      "outputs": []
    },
    {
      "cell_type": "code",
      "metadata": {
        "colab": {
          "resources": {
            "http://localhost:8080/nbextensions/google.colab/files.js": {
              "data": "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",
              "ok": true,
              "headers": [
                [
                  "content-type",
                  "application/javascript"
                ]
              ],
              "status": 200,
              "status_text": ""
            }
          },
          "base_uri": "https://localhost:8080/",
          "height": 76
        },
        "id": "eapfrUtyhmYM",
        "outputId": "77128333-8828-4775-90b1-6a4c124966ed"
      },
      "source": [
        "from google.colab import files\r\n",
        "\r\n",
        "uploaded = files.upload()\r\n",
        "filename = list(uploaded.keys())[0]"
      ],
      "execution_count": 2,
      "outputs": [
        {
          "output_type": "display_data",
          "data": {
            "text/html": [
              "\n",
              "     <input type=\"file\" id=\"files-b5d1fffe-b9ae-4e0a-aaec-824945e4580c\" name=\"files[]\" multiple disabled\n",
              "        style=\"border:none\" />\n",
              "     <output id=\"result-b5d1fffe-b9ae-4e0a-aaec-824945e4580c\">\n",
              "      Upload widget is only available when the cell has been executed in the\n",
              "      current browser session. Please rerun this cell to enable.\n",
              "      </output>\n",
              "      <script src=\"/nbextensions/google.colab/files.js\"></script> "
            ],
            "text/plain": [
              "<IPython.core.display.HTML object>"
            ]
          },
          "metadata": {
            "tags": []
          }
        },
        {
          "output_type": "stream",
          "text": [
            "Saving ArticlesApril2018.csv to ArticlesApril2018.csv\n"
          ],
          "name": "stdout"
        }
      ]
    },
    {
      "cell_type": "code",
      "metadata": {
        "id": "MLfM-Ms8jAO3"
      },
      "source": [
        "import pandas as pd\r\n",
        "import numpy as np\r\n",
        "df = pd.read_csv(filename, encoding='latin1')"
      ],
      "execution_count": 3,
      "outputs": []
    },
    {
      "cell_type": "code",
      "metadata": {
        "colab": {
          "base_uri": "https://localhost:8080/",
          "height": 1000
        },
        "id": "6YJidrp4ioRp",
        "outputId": "0b0668a0-19f3-41f3-cc97-bd3f969b5792"
      },
      "source": [
        "df"
      ],
      "execution_count": 4,
      "outputs": [
        {
          "output_type": "execute_result",
          "data": {
            "text/html": [
              "<div>\n",
              "<style scoped>\n",
              "    .dataframe tbody tr th:only-of-type {\n",
              "        vertical-align: middle;\n",
              "    }\n",
              "\n",
              "    .dataframe tbody tr th {\n",
              "        vertical-align: top;\n",
              "    }\n",
              "\n",
              "    .dataframe thead th {\n",
              "        text-align: right;\n",
              "    }\n",
              "</style>\n",
              "<table border=\"1\" class=\"dataframe\">\n",
              "  <thead>\n",
              "    <tr style=\"text-align: right;\">\n",
              "      <th></th>\n",
              "      <th>articleID</th>\n",
              "      <th>articleWordCount</th>\n",
              "      <th>byline</th>\n",
              "      <th>documentType</th>\n",
              "      <th>headline</th>\n",
              "      <th>keywords</th>\n",
              "      <th>multimedia</th>\n",
              "      <th>newDesk</th>\n",
              "      <th>printPage</th>\n",
              "      <th>pubDate</th>\n",
              "      <th>sectionName</th>\n",
              "      <th>snippet</th>\n",
              "      <th>source</th>\n",
              "      <th>typeOfMaterial</th>\n",
              "      <th>webURL</th>\n",
              "    </tr>\n",
              "  </thead>\n",
              "  <tbody>\n",
              "    <tr>\n",
              "      <th>0</th>\n",
              "      <td>5adf6684068401528a2aa69b</td>\n",
              "      <td>781</td>\n",
              "      <td>By JOHN BRANCH</td>\n",
              "      <td>article</td>\n",
              "      <td>Former N.F.L. Cheerleadersâ Settlement Offer...</td>\n",
              "      <td>['Workplace Hazards and Violations', 'Football...</td>\n",
              "      <td>68</td>\n",
              "      <td>Sports</td>\n",
              "      <td>0</td>\n",
              "      <td>2018-04-24 17:16:49</td>\n",
              "      <td>Pro Football</td>\n",
              "      <td>âI understand that they could meet with us, ...</td>\n",
              "      <td>The New York Times</td>\n",
              "      <td>News</td>\n",
              "      <td>https://www.nytimes.com/2018/04/24/sports/foot...</td>\n",
              "    </tr>\n",
              "    <tr>\n",
              "      <th>1</th>\n",
              "      <td>5adf653f068401528a2aa697</td>\n",
              "      <td>656</td>\n",
              "      <td>By LISA FRIEDMAN</td>\n",
              "      <td>article</td>\n",
              "      <td>E.P.A. to Unveil a New Rule. Its Effect: Less ...</td>\n",
              "      <td>['Environmental Protection Agency', 'Pruitt, S...</td>\n",
              "      <td>68</td>\n",
              "      <td>Climate</td>\n",
              "      <td>0</td>\n",
              "      <td>2018-04-24 17:11:21</td>\n",
              "      <td>Unknown</td>\n",
              "      <td>The agency plans to publish a new regulation T...</td>\n",
              "      <td>The New York Times</td>\n",
              "      <td>News</td>\n",
              "      <td>https://www.nytimes.com/2018/04/24/climate/epa...</td>\n",
              "    </tr>\n",
              "    <tr>\n",
              "      <th>2</th>\n",
              "      <td>5adf4626068401528a2aa628</td>\n",
              "      <td>2427</td>\n",
              "      <td>By PETE WELLS</td>\n",
              "      <td>article</td>\n",
              "      <td>The New Noma, Explained</td>\n",
              "      <td>['Restaurants', 'Noma (Copenhagen, Restaurant)...</td>\n",
              "      <td>66</td>\n",
              "      <td>Dining</td>\n",
              "      <td>0</td>\n",
              "      <td>2018-04-24 14:58:44</td>\n",
              "      <td>Unknown</td>\n",
              "      <td>Whatâs it like to eat at the second incarnat...</td>\n",
              "      <td>The New York Times</td>\n",
              "      <td>News</td>\n",
              "      <td>https://www.nytimes.com/2018/04/24/dining/noma...</td>\n",
              "    </tr>\n",
              "    <tr>\n",
              "      <th>3</th>\n",
              "      <td>5adf40d2068401528a2aa619</td>\n",
              "      <td>626</td>\n",
              "      <td>By JULIE HIRSCHFELD DAVIS and PETER BAKER</td>\n",
              "      <td>article</td>\n",
              "      <td>Unknown</td>\n",
              "      <td>['Macron, Emmanuel (1977- )', 'Trump, Donald J...</td>\n",
              "      <td>68</td>\n",
              "      <td>Washington</td>\n",
              "      <td>0</td>\n",
              "      <td>2018-04-24 14:35:57</td>\n",
              "      <td>Europe</td>\n",
              "      <td>President Trump welcomed President Emmanuel Ma...</td>\n",
              "      <td>The New York Times</td>\n",
              "      <td>News</td>\n",
              "      <td>https://www.nytimes.com/2018/04/24/world/europ...</td>\n",
              "    </tr>\n",
              "    <tr>\n",
              "      <th>4</th>\n",
              "      <td>5adf3d64068401528a2aa60f</td>\n",
              "      <td>815</td>\n",
              "      <td>By IAN AUSTEN and DAN BILEFSKY</td>\n",
              "      <td>article</td>\n",
              "      <td>Unknown</td>\n",
              "      <td>['Toronto, Ontario, Attack (April, 2018)', 'Mu...</td>\n",
              "      <td>68</td>\n",
              "      <td>Foreign</td>\n",
              "      <td>0</td>\n",
              "      <td>2018-04-24 14:21:21</td>\n",
              "      <td>Canada</td>\n",
              "      <td>Alek Minassian, 25, a resident of Torontoâs ...</td>\n",
              "      <td>The New York Times</td>\n",
              "      <td>News</td>\n",
              "      <td>https://www.nytimes.com/2018/04/24/world/canad...</td>\n",
              "    </tr>\n",
              "    <tr>\n",
              "      <th>...</th>\n",
              "      <td>...</td>\n",
              "      <td>...</td>\n",
              "      <td>...</td>\n",
              "      <td>...</td>\n",
              "      <td>...</td>\n",
              "      <td>...</td>\n",
              "      <td>...</td>\n",
              "      <td>...</td>\n",
              "      <td>...</td>\n",
              "      <td>...</td>\n",
              "      <td>...</td>\n",
              "      <td>...</td>\n",
              "      <td>...</td>\n",
              "      <td>...</td>\n",
              "      <td>...</td>\n",
              "    </tr>\n",
              "    <tr>\n",
              "      <th>1319</th>\n",
              "      <td>5ae82c93068401528a2ab969</td>\n",
              "      <td>1004</td>\n",
              "      <td>By CLAIRE CAIN MILLER</td>\n",
              "      <td>article</td>\n",
              "      <td>This Common Question Reinforces the Gender Pay...</td>\n",
              "      <td>['Discrimination', 'Wages and Salaries', 'Labo...</td>\n",
              "      <td>68</td>\n",
              "      <td>Upshot</td>\n",
              "      <td>3</td>\n",
              "      <td>2018-05-01 09:00:01</td>\n",
              "      <td>Unknown</td>\n",
              "      <td>Several states and cities have ordered employe...</td>\n",
              "      <td>The New York Times</td>\n",
              "      <td>News</td>\n",
              "      <td>https://www.nytimes.com/2018/05/01/upshot/how-...</td>\n",
              "    </tr>\n",
              "    <tr>\n",
              "      <th>1320</th>\n",
              "      <td>5ae82c95068401528a2ab96b</td>\n",
              "      <td>1043</td>\n",
              "      <td>By TRACY J. GATES</td>\n",
              "      <td>article</td>\n",
              "      <td>Anna, Llama and Me</td>\n",
              "      <td>['Friendship', 'Dewdney, Anna', 'Writing and W...</td>\n",
              "      <td>65</td>\n",
              "      <td>Well</td>\n",
              "      <td>0</td>\n",
              "      <td>2018-05-01 09:00:02</td>\n",
              "      <td>Family</td>\n",
              "      <td>The beginning, middle and end of a picture boo...</td>\n",
              "      <td>The New York Times</td>\n",
              "      <td>News</td>\n",
              "      <td>https://www.nytimes.com/2018/05/01/well/family...</td>\n",
              "    </tr>\n",
              "    <tr>\n",
              "      <th>1321</th>\n",
              "      <td>5ae82c9d068401528a2ab96d</td>\n",
              "      <td>659</td>\n",
              "      <td>Interview by AUDIE CORNISH</td>\n",
              "      <td>article</td>\n",
              "      <td>Gen. Michael Hayden Has One Regret: Russia</td>\n",
              "      <td>['Classified Information and State Secrets', '...</td>\n",
              "      <td>66</td>\n",
              "      <td>Magazine</td>\n",
              "      <td>70</td>\n",
              "      <td>2018-05-01 09:00:06</td>\n",
              "      <td>Unknown</td>\n",
              "      <td>The former N.S.A. and C.I.A. chief on Trump, S...</td>\n",
              "      <td>The New York Times</td>\n",
              "      <td>News</td>\n",
              "      <td>https://www.nytimes.com/2018/05/01/magazine/ge...</td>\n",
              "    </tr>\n",
              "    <tr>\n",
              "      <th>1322</th>\n",
              "      <td>5ae82c9f068401528a2ab96f</td>\n",
              "      <td>1155</td>\n",
              "      <td>By JASON ROBERT BROWN</td>\n",
              "      <td>article</td>\n",
              "      <td>There Is Nothinâ Like a Tune</td>\n",
              "      <td>['Books and Literature', 'Purdum, Todd S', 'Th...</td>\n",
              "      <td>68</td>\n",
              "      <td>BookReview</td>\n",
              "      <td>17</td>\n",
              "      <td>2018-05-01 09:00:07</td>\n",
              "      <td>Book Review</td>\n",
              "      <td>In âSomething Wonderful,â Todd S. Purdum a...</td>\n",
              "      <td>The New York Times</td>\n",
              "      <td>Review</td>\n",
              "      <td>https://www.nytimes.com/2018/05/01/books/revie...</td>\n",
              "    </tr>\n",
              "    <tr>\n",
              "      <th>1323</th>\n",
              "      <td>5ae82ca3068401528a2ab97a</td>\n",
              "      <td>2055</td>\n",
              "      <td>By MICHAEL PAULSON</td>\n",
              "      <td>article</td>\n",
              "      <td>Unknown</td>\n",
              "      <td>['Theater', 'Tony Awards (Theater Awards)', 'A...</td>\n",
              "      <td>68</td>\n",
              "      <td>Culture</td>\n",
              "      <td>0</td>\n",
              "      <td>2018-05-01 09:00:09</td>\n",
              "      <td>Unknown</td>\n",
              "      <td>A pair of two-part productions, âHarry Potte...</td>\n",
              "      <td>The New York Times</td>\n",
              "      <td>News</td>\n",
              "      <td>https://www.nytimes.com/2018/05/01/theater/ton...</td>\n",
              "    </tr>\n",
              "  </tbody>\n",
              "</table>\n",
              "<p>1324 rows × 15 columns</p>\n",
              "</div>"
            ],
            "text/plain": [
              "                     articleID  ...                                             webURL\n",
              "0     5adf6684068401528a2aa69b  ...  https://www.nytimes.com/2018/04/24/sports/foot...\n",
              "1     5adf653f068401528a2aa697  ...  https://www.nytimes.com/2018/04/24/climate/epa...\n",
              "2     5adf4626068401528a2aa628  ...  https://www.nytimes.com/2018/04/24/dining/noma...\n",
              "3     5adf40d2068401528a2aa619  ...  https://www.nytimes.com/2018/04/24/world/europ...\n",
              "4     5adf3d64068401528a2aa60f  ...  https://www.nytimes.com/2018/04/24/world/canad...\n",
              "...                        ...  ...                                                ...\n",
              "1319  5ae82c93068401528a2ab969  ...  https://www.nytimes.com/2018/05/01/upshot/how-...\n",
              "1320  5ae82c95068401528a2ab96b  ...  https://www.nytimes.com/2018/05/01/well/family...\n",
              "1321  5ae82c9d068401528a2ab96d  ...  https://www.nytimes.com/2018/05/01/magazine/ge...\n",
              "1322  5ae82c9f068401528a2ab96f  ...  https://www.nytimes.com/2018/05/01/books/revie...\n",
              "1323  5ae82ca3068401528a2ab97a  ...  https://www.nytimes.com/2018/05/01/theater/ton...\n",
              "\n",
              "[1324 rows x 15 columns]"
            ]
          },
          "metadata": {
            "tags": []
          },
          "execution_count": 4
        }
      ]
    },
    {
      "cell_type": "markdown",
      "metadata": {
        "id": "zsAb8S0AjICN"
      },
      "source": [
        "### 데이터 전처리"
      ]
    },
    {
      "cell_type": "code",
      "metadata": {
        "colab": {
          "base_uri": "https://localhost:8080/"
        },
        "id": "y2vf2oewjaHv",
        "outputId": "954ef6a1-93a9-41c7-cc16-ed54491f95d5"
      },
      "source": [
        "print('열의 개수', len(df.columns))\r\n",
        "print(df.columns)"
      ],
      "execution_count": 5,
      "outputs": [
        {
          "output_type": "stream",
          "text": [
            "열의 개수 15\n",
            "Index(['articleID', 'articleWordCount', 'byline', 'documentType', 'headline',\n",
            "       'keywords', 'multimedia', 'newDesk', 'printPage', 'pubDate',\n",
            "       'sectionName', 'snippet', 'source', 'typeOfMaterial', 'webURL'],\n",
            "      dtype='object')\n"
          ],
          "name": "stdout"
        }
      ]
    },
    {
      "cell_type": "code",
      "metadata": {
        "colab": {
          "base_uri": "https://localhost:8080/"
        },
        "id": "8Ly-V51Rjtou",
        "outputId": "aaab4425-9e48-4bbc-b4a5-bdd998512d3d"
      },
      "source": [
        "# headline 열의 데이터만 사용, null 검사\r\n",
        "df['headline'].isnull().values.any()"
      ],
      "execution_count": 6,
      "outputs": [
        {
          "output_type": "execute_result",
          "data": {
            "text/plain": [
              "False"
            ]
          },
          "metadata": {
            "tags": []
          },
          "execution_count": 6
        }
      ]
    },
    {
      "cell_type": "code",
      "metadata": {
        "colab": {
          "base_uri": "https://localhost:8080/"
        },
        "id": "FM5G_xjKjyTI",
        "outputId": "ff026ffa-8397-4cb7-cdc6-85044521beb3"
      },
      "source": [
        "# headline 열의 데이터로 리스트 생성\r\n",
        "headline = [title for title in df.headline.values]\r\n",
        "headline[:5]"
      ],
      "execution_count": 7,
      "outputs": [
        {
          "output_type": "execute_result",
          "data": {
            "text/plain": [
              "['Former N.F.L. Cheerleadersâ\\x80\\x99 Settlement Offer: $1 and a Meeting With Goodell',\n",
              " 'E.P.A. to Unveil a New Rule. Its Effect: Less Science in Policymaking.',\n",
              " 'The New Noma, Explained',\n",
              " 'Unknown',\n",
              " 'Unknown']"
            ]
          },
          "metadata": {
            "tags": []
          },
          "execution_count": 7
        }
      ]
    },
    {
      "cell_type": "code",
      "metadata": {
        "colab": {
          "base_uri": "https://localhost:8080/"
        },
        "id": "37ag58UMjHfy",
        "outputId": "e3e3b72f-767b-4dfe-d04f-b31c9a9cac13"
      },
      "source": [
        "# 노이즈 데이터('Unknown') 제거\r\n",
        "headline = [title for title in df.headline if title != 'Unknown']\r\n",
        "len(headline)"
      ],
      "execution_count": 8,
      "outputs": [
        {
          "output_type": "execute_result",
          "data": {
            "text/plain": [
              "1214"
            ]
          },
          "metadata": {
            "tags": []
          },
          "execution_count": 8
        }
      ]
    },
    {
      "cell_type": "code",
      "metadata": {
        "colab": {
          "base_uri": "https://localhost:8080/",
          "height": 35
        },
        "id": "AnorNyHxkcYl",
        "outputId": "6652eb95-c636-4ef9-b13b-61dc5160110c"
      },
      "source": [
        "from string import punctuation\r\n",
        "punctuation"
      ],
      "execution_count": 9,
      "outputs": [
        {
          "output_type": "execute_result",
          "data": {
            "application/vnd.google.colaboratory.intrinsic+json": {
              "type": "string"
            },
            "text/plain": [
              "'!\"#$%&\\'()*+,-./:;<=>?@[\\\\]^_`{|}~'"
            ]
          },
          "metadata": {
            "tags": []
          },
          "execution_count": 9
        }
      ]
    },
    {
      "cell_type": "code",
      "metadata": {
        "id": "AQIkVd01iwkd"
      },
      "source": [
        "# 구두점 제거와 소문자화를 위한 함수 생성\r\n",
        "def repreprocessing(s):\r\n",
        "  s=s.encode(\"utf8\").decode(\"ascii\",'ignore')\r\n",
        "  return ''.join(c for c in s if c not in punctuation).lower()"
      ],
      "execution_count": 10,
      "outputs": []
    },
    {
      "cell_type": "code",
      "metadata": {
        "colab": {
          "base_uri": "https://localhost:8080/"
        },
        "id": "6OkcyffwkuVV",
        "outputId": "b4769f88-1640-4ae8-e806-02654e0b04fa"
      },
      "source": [
        "text = [repreprocessing(x) for x in headline]\r\n",
        "text[:5]"
      ],
      "execution_count": 11,
      "outputs": [
        {
          "output_type": "execute_result",
          "data": {
            "text/plain": [
              "['former nfl cheerleaders settlement offer 1 and a meeting with goodell',\n",
              " 'epa to unveil a new rule its effect less science in policymaking',\n",
              " 'the new noma explained',\n",
              " 'how a bag of texas dirt  became a times tradition',\n",
              " 'is school a place for selfexpression']"
            ]
          },
          "metadata": {
            "tags": []
          },
          "execution_count": 11
        }
      ]
    },
    {
      "cell_type": "code",
      "metadata": {
        "colab": {
          "base_uri": "https://localhost:8080/"
        },
        "id": "_erMvqmLk3nF",
        "outputId": "71b2aaf3-4963-4164-c7ec-7c58f6e85989"
      },
      "source": [
        "# 단어 집합(voca)을 만들고 크기를 확인\r\n",
        "t = Tokenizer()\r\n",
        "t.fit_on_texts(text)\r\n",
        "vocab_size = len(t.word_index) +1\r\n",
        "print('단어 집합의 크기 :%d' % vocab_size)"
      ],
      "execution_count": 12,
      "outputs": [
        {
          "output_type": "stream",
          "text": [
            "단어 집합의 크기 :3494\n"
          ],
          "name": "stdout"
        }
      ]
    },
    {
      "cell_type": "code",
      "metadata": {
        "colab": {
          "base_uri": "https://localhost:8080/"
        },
        "id": "_BkMAUUZoThX",
        "outputId": "89c55db3-5adf-4926-de1b-25b0f94e5498"
      },
      "source": [
        "sequences = []\r\n",
        "for line in headline: # 1214개의 샘플에 대해서 샘플을 1개씩 가져온다.\r\n",
        "  encoded = t.texts_to_sequences([line])[0] # 각 샘플에 대한 정수 인코딩\r\n",
        "  for i in range(1, len(encoded)):\r\n",
        "    sequence = encoded[:i+1]\r\n",
        "    sequences.append(sequence)\r\n",
        "\r\n",
        "sequences[:11] # 11개의 샘플 출력"
      ],
      "execution_count": 13,
      "outputs": [
        {
          "output_type": "execute_result",
          "data": {
            "text/plain": [
              "[[99, 2237],\n",
              " [99, 2237, 1115],\n",
              " [99, 2237, 1115, 582],\n",
              " [99, 2237, 1115, 582, 52],\n",
              " [99, 2237, 1115, 582, 52, 7],\n",
              " [99, 2237, 1115, 582, 52, 7, 2],\n",
              " [99, 2237, 1115, 582, 52, 7, 2, 372],\n",
              " [99, 2237, 1115, 582, 52, 7, 2, 372, 10],\n",
              " [99, 2237, 1115, 582, 52, 7, 2, 372, 10, 1116],\n",
              " [1145, 2],\n",
              " [1145, 2, 3]]"
            ]
          },
          "metadata": {
            "tags": []
          },
          "execution_count": 13
        }
      ]
    },
    {
      "cell_type": "code",
      "metadata": {
        "colab": {
          "base_uri": "https://localhost:8080/"
        },
        "id": "eAqMTiF9pstq",
        "outputId": "3fc124f6-41e8-493b-ca45-674db35913ca"
      },
      "source": [
        "index_to_word = {}\r\n",
        "for key, value in t.word_index.items(): # 인덱스를 단어로 바꾸기 위해 index_to 사용\r\n",
        "  index_to_word[value] = key\r\n",
        "\r\n",
        "print('빈도수 상위 1번 단어:', index_to_word[1]) \r\n",
        "print('빈도수 상위 582번 단어:', index_to_word[582]) "
      ],
      "execution_count": 14,
      "outputs": [
        {
          "output_type": "stream",
          "text": [
            "빈도수 상위 1번 단어: the\n",
            "빈도수 상위 582번 단어: offer\n"
          ],
          "name": "stdout"
        }
      ]
    },
    {
      "cell_type": "code",
      "metadata": {
        "colab": {
          "base_uri": "https://localhost:8080/"
        },
        "id": "ECISoKRFqM3p",
        "outputId": "dbb0e718-6a1f-4028-d723-42dd82d20a73"
      },
      "source": [
        "max_len = max(len(s) for s in sequences)\r\n",
        "print('샘플의 최대 길이:', max_len)"
      ],
      "execution_count": 15,
      "outputs": [
        {
          "output_type": "stream",
          "text": [
            "샘플의 최대 길이: 23\n"
          ],
          "name": "stdout"
        }
      ]
    },
    {
      "cell_type": "code",
      "metadata": {
        "colab": {
          "base_uri": "https://localhost:8080/"
        },
        "id": "mAhe32A4qWfJ",
        "outputId": "1dc779fa-7ba0-475f-ef5a-812c7dfefc79"
      },
      "source": [
        "# 전체 샘플의 길이를 23(가장 긴 샘플의 길이)로 패딩\r\n",
        "# pre 옵션을 주면 앞을 0으로 패딩\r\n",
        "sequences = pad_sequences(sequences, maxlen=max_len, padding='pre')\r\n",
        "print(sequences[:3])"
      ],
      "execution_count": 16,
      "outputs": [
        {
          "output_type": "stream",
          "text": [
            "[[   0    0    0    0    0    0    0    0    0    0    0    0    0    0\n",
            "     0    0    0    0    0    0    0   99 2237]\n",
            " [   0    0    0    0    0    0    0    0    0    0    0    0    0    0\n",
            "     0    0    0    0    0    0   99 2237 1115]\n",
            " [   0    0    0    0    0    0    0    0    0    0    0    0    0    0\n",
            "     0    0    0    0    0   99 2237 1115  582]]\n"
          ],
          "name": "stdout"
        }
      ]
    },
    {
      "cell_type": "code",
      "metadata": {
        "id": "JHZ2y8p6qjd4"
      },
      "source": [
        "# 각 샘플의 마지막 단어를 레이블로 분리\r\n",
        "X = sequences[:, :-1]\r\n",
        "y = sequences[:, -1]\r\n",
        "# 리스트의 마지막 값을 제외하고 저장한 것은 X\r\n",
        "# 리스트의 마지막 값만 저장한 것은 y. 이는 레이블에 해당됨."
      ],
      "execution_count": 17,
      "outputs": []
    },
    {
      "cell_type": "code",
      "metadata": {
        "id": "yXgFIap8qwLn"
      },
      "source": [
        "# 레이블 데이터 y에 대해서 원-핫 인코딩을 수행\r\n",
        "Y = to_categorical(y, num_classes=vocab_size)"
      ],
      "execution_count": 18,
      "outputs": []
    },
    {
      "cell_type": "code",
      "metadata": {
        "colab": {
          "base_uri": "https://localhost:8080/"
        },
        "id": "F6hdKZyjqwV3",
        "outputId": "4d1b5fc0-4f83-4c4d-8428-8eecbaf62a53"
      },
      "source": [
        "X.shape, Y.shape, y.shape"
      ],
      "execution_count": 19,
      "outputs": [
        {
          "output_type": "execute_result",
          "data": {
            "text/plain": [
              "((7385, 22), (7385, 3494), (7385,))"
            ]
          },
          "metadata": {
            "tags": []
          },
          "execution_count": 19
        }
      ]
    },
    {
      "cell_type": "markdown",
      "metadata": {
        "id": "X0JD5Kdkq4Bh"
      },
      "source": [
        "### 모델 정의"
      ]
    },
    {
      "cell_type": "code",
      "metadata": {
        "id": "2Ah_hjp0q0on"
      },
      "source": [
        "import tensorflow as tf\r\n",
        "from tensorflow.keras.models import Sequential\r\n",
        "from tensorflow.keras.layers import LSTM, Dense, Embedding"
      ],
      "execution_count": 20,
      "outputs": []
    },
    {
      "cell_type": "code",
      "metadata": {
        "colab": {
          "base_uri": "https://localhost:8080/"
        },
        "id": "cknia4Z0rPy-",
        "outputId": "87a6219d-41ce-4954-c806-fa971316a58c"
      },
      "source": [
        "# 각 단어의 임베딩 벡터는 10차원, LSTM 노드 크기는 128\r\n",
        "model = Sequential()\r\n",
        "model.add(Embedding(vocab_size, 10, input_length=max_len-1))\r\n",
        "model.add(LSTM(128, name=\"LSTM_Layer\"))\r\n",
        "model.add(Dense(vocab_size, activation='softmax', name=\"Output_Layer\"))\r\n",
        "model.summary()"
      ],
      "execution_count": 21,
      "outputs": [
        {
          "output_type": "stream",
          "text": [
            "Model: \"sequential\"\n",
            "_________________________________________________________________\n",
            "Layer (type)                 Output Shape              Param #   \n",
            "=================================================================\n",
            "embedding (Embedding)        (None, 22, 10)            34940     \n",
            "_________________________________________________________________\n",
            "LSTM_Layer (LSTM)            (None, 128)               71168     \n",
            "_________________________________________________________________\n",
            "Output_Layer (Dense)         (None, 3494)              450726    \n",
            "=================================================================\n",
            "Total params: 556,834\n",
            "Trainable params: 556,834\n",
            "Non-trainable params: 0\n",
            "_________________________________________________________________\n"
          ],
          "name": "stdout"
        }
      ]
    },
    {
      "cell_type": "code",
      "metadata": {
        "id": "MP5O1X4NrnJ_"
      },
      "source": [
        "model.compile(loss='categorical_crossentropy', optimizer='adam', metrics=['accuracy'])"
      ],
      "execution_count": 22,
      "outputs": []
    },
    {
      "cell_type": "code",
      "metadata": {
        "colab": {
          "base_uri": "https://localhost:8080/"
        },
        "id": "422scnGNrtjn",
        "outputId": "ccb5f6a1-8056-4258-fa6b-67aeb770217a"
      },
      "source": [
        "history = model.fit(X, Y, epochs=200, verbose=2)"
      ],
      "execution_count": 23,
      "outputs": [
        {
          "output_type": "stream",
          "text": [
            "Epoch 1/200\n",
            "231/231 - 9s - loss: 7.5616 - accuracy: 0.0294\n",
            "Epoch 2/200\n",
            "231/231 - 1s - loss: 7.0068 - accuracy: 0.0305\n",
            "Epoch 3/200\n",
            "231/231 - 1s - loss: 6.8801 - accuracy: 0.0343\n",
            "Epoch 4/200\n",
            "231/231 - 1s - loss: 6.7803 - accuracy: 0.0383\n",
            "Epoch 5/200\n",
            "231/231 - 1s - loss: 6.6650 - accuracy: 0.0399\n",
            "Epoch 6/200\n",
            "231/231 - 1s - loss: 6.5287 - accuracy: 0.0460\n",
            "Epoch 7/200\n",
            "231/231 - 1s - loss: 6.3896 - accuracy: 0.0477\n",
            "Epoch 8/200\n",
            "231/231 - 1s - loss: 6.2386 - accuracy: 0.0539\n",
            "Epoch 9/200\n",
            "231/231 - 1s - loss: 6.0757 - accuracy: 0.0565\n",
            "Epoch 10/200\n",
            "231/231 - 1s - loss: 5.9188 - accuracy: 0.0604\n",
            "Epoch 11/200\n",
            "231/231 - 1s - loss: 5.7679 - accuracy: 0.0653\n",
            "Epoch 12/200\n",
            "231/231 - 1s - loss: 5.6251 - accuracy: 0.0697\n",
            "Epoch 13/200\n",
            "231/231 - 1s - loss: 5.4830 - accuracy: 0.0733\n",
            "Epoch 14/200\n",
            "231/231 - 1s - loss: 5.3493 - accuracy: 0.0753\n",
            "Epoch 15/200\n",
            "231/231 - 1s - loss: 5.2200 - accuracy: 0.0838\n",
            "Epoch 16/200\n",
            "231/231 - 1s - loss: 5.0922 - accuracy: 0.0877\n",
            "Epoch 17/200\n",
            "231/231 - 1s - loss: 4.9733 - accuracy: 0.0936\n",
            "Epoch 18/200\n",
            "231/231 - 1s - loss: 4.8568 - accuracy: 0.1013\n",
            "Epoch 19/200\n",
            "231/231 - 1s - loss: 4.7417 - accuracy: 0.1116\n",
            "Epoch 20/200\n",
            "231/231 - 1s - loss: 4.6317 - accuracy: 0.1259\n",
            "Epoch 21/200\n",
            "231/231 - 1s - loss: 4.5249 - accuracy: 0.1336\n",
            "Epoch 22/200\n",
            "231/231 - 1s - loss: 4.4196 - accuracy: 0.1473\n",
            "Epoch 23/200\n",
            "231/231 - 1s - loss: 4.3170 - accuracy: 0.1583\n",
            "Epoch 24/200\n",
            "231/231 - 1s - loss: 4.2165 - accuracy: 0.1740\n",
            "Epoch 25/200\n",
            "231/231 - 1s - loss: 4.1213 - accuracy: 0.1852\n",
            "Epoch 26/200\n",
            "231/231 - 1s - loss: 4.0268 - accuracy: 0.1972\n",
            "Epoch 27/200\n",
            "231/231 - 1s - loss: 3.9337 - accuracy: 0.2181\n",
            "Epoch 28/200\n",
            "231/231 - 1s - loss: 3.8438 - accuracy: 0.2334\n",
            "Epoch 29/200\n",
            "231/231 - 1s - loss: 3.7597 - accuracy: 0.2471\n",
            "Epoch 30/200\n",
            "231/231 - 1s - loss: 3.6782 - accuracy: 0.2609\n",
            "Epoch 31/200\n",
            "231/231 - 1s - loss: 3.5938 - accuracy: 0.2762\n",
            "Epoch 32/200\n",
            "231/231 - 1s - loss: 3.5144 - accuracy: 0.2930\n",
            "Epoch 33/200\n",
            "231/231 - 1s - loss: 3.4383 - accuracy: 0.3071\n",
            "Epoch 34/200\n",
            "231/231 - 1s - loss: 3.3602 - accuracy: 0.3193\n",
            "Epoch 35/200\n",
            "231/231 - 1s - loss: 3.2891 - accuracy: 0.3322\n",
            "Epoch 36/200\n",
            "231/231 - 1s - loss: 3.2207 - accuracy: 0.3469\n",
            "Epoch 37/200\n",
            "231/231 - 1s - loss: 3.1494 - accuracy: 0.3521\n",
            "Epoch 38/200\n",
            "231/231 - 1s - loss: 3.0832 - accuracy: 0.3680\n",
            "Epoch 39/200\n",
            "231/231 - 1s - loss: 3.0202 - accuracy: 0.3823\n",
            "Epoch 40/200\n",
            "231/231 - 1s - loss: 2.9571 - accuracy: 0.3954\n",
            "Epoch 41/200\n",
            "231/231 - 1s - loss: 2.8934 - accuracy: 0.4053\n",
            "Epoch 42/200\n",
            "231/231 - 1s - loss: 2.8344 - accuracy: 0.4152\n",
            "Epoch 43/200\n",
            "231/231 - 1s - loss: 2.7756 - accuracy: 0.4280\n",
            "Epoch 44/200\n",
            "231/231 - 1s - loss: 2.7195 - accuracy: 0.4391\n",
            "Epoch 45/200\n",
            "231/231 - 1s - loss: 2.6641 - accuracy: 0.4478\n",
            "Epoch 46/200\n",
            "231/231 - 1s - loss: 2.6101 - accuracy: 0.4592\n",
            "Epoch 47/200\n",
            "231/231 - 1s - loss: 2.5574 - accuracy: 0.4689\n",
            "Epoch 48/200\n",
            "231/231 - 1s - loss: 2.5042 - accuracy: 0.4833\n",
            "Epoch 49/200\n",
            "231/231 - 1s - loss: 2.4534 - accuracy: 0.4936\n",
            "Epoch 50/200\n",
            "231/231 - 1s - loss: 2.4030 - accuracy: 0.5070\n",
            "Epoch 51/200\n",
            "231/231 - 1s - loss: 2.3527 - accuracy: 0.5156\n",
            "Epoch 52/200\n",
            "231/231 - 1s - loss: 2.3072 - accuracy: 0.5219\n",
            "Epoch 53/200\n",
            "231/231 - 1s - loss: 2.2590 - accuracy: 0.5328\n",
            "Epoch 54/200\n",
            "231/231 - 1s - loss: 2.2154 - accuracy: 0.5450\n",
            "Epoch 55/200\n",
            "231/231 - 1s - loss: 2.1676 - accuracy: 0.5569\n",
            "Epoch 56/200\n",
            "231/231 - 1s - loss: 2.1222 - accuracy: 0.5667\n",
            "Epoch 57/200\n",
            "231/231 - 1s - loss: 2.0795 - accuracy: 0.5793\n",
            "Epoch 58/200\n",
            "231/231 - 1s - loss: 2.0389 - accuracy: 0.5804\n",
            "Epoch 59/200\n",
            "231/231 - 1s - loss: 1.9978 - accuracy: 0.5924\n",
            "Epoch 60/200\n",
            "231/231 - 1s - loss: 1.9529 - accuracy: 0.6045\n",
            "Epoch 61/200\n",
            "231/231 - 1s - loss: 1.9113 - accuracy: 0.6087\n",
            "Epoch 62/200\n",
            "231/231 - 1s - loss: 1.8710 - accuracy: 0.6204\n",
            "Epoch 63/200\n",
            "231/231 - 1s - loss: 1.8307 - accuracy: 0.6283\n",
            "Epoch 64/200\n",
            "231/231 - 1s - loss: 1.7937 - accuracy: 0.6385\n",
            "Epoch 65/200\n",
            "231/231 - 1s - loss: 1.7552 - accuracy: 0.6470\n",
            "Epoch 66/200\n",
            "231/231 - 1s - loss: 1.7157 - accuracy: 0.6548\n",
            "Epoch 67/200\n",
            "231/231 - 1s - loss: 1.6813 - accuracy: 0.6574\n",
            "Epoch 68/200\n",
            "231/231 - 1s - loss: 1.6444 - accuracy: 0.6715\n",
            "Epoch 69/200\n",
            "231/231 - 1s - loss: 1.6088 - accuracy: 0.6810\n",
            "Epoch 70/200\n",
            "231/231 - 1s - loss: 1.5724 - accuracy: 0.6884\n",
            "Epoch 71/200\n",
            "231/231 - 1s - loss: 1.5378 - accuracy: 0.6942\n",
            "Epoch 72/200\n",
            "231/231 - 1s - loss: 1.5049 - accuracy: 0.6991\n",
            "Epoch 73/200\n",
            "231/231 - 1s - loss: 1.4717 - accuracy: 0.7095\n",
            "Epoch 74/200\n",
            "231/231 - 1s - loss: 1.4360 - accuracy: 0.7140\n",
            "Epoch 75/200\n",
            "231/231 - 1s - loss: 1.4068 - accuracy: 0.7200\n",
            "Epoch 76/200\n",
            "231/231 - 1s - loss: 1.3760 - accuracy: 0.7273\n",
            "Epoch 77/200\n",
            "231/231 - 1s - loss: 1.3429 - accuracy: 0.7384\n",
            "Epoch 78/200\n",
            "231/231 - 1s - loss: 1.3120 - accuracy: 0.7431\n",
            "Epoch 79/200\n",
            "231/231 - 1s - loss: 1.2846 - accuracy: 0.7469\n",
            "Epoch 80/200\n",
            "231/231 - 1s - loss: 1.2555 - accuracy: 0.7560\n",
            "Epoch 81/200\n",
            "231/231 - 1s - loss: 1.2250 - accuracy: 0.7567\n",
            "Epoch 82/200\n",
            "231/231 - 1s - loss: 1.1981 - accuracy: 0.7652\n",
            "Epoch 83/200\n",
            "231/231 - 1s - loss: 1.1715 - accuracy: 0.7689\n",
            "Epoch 84/200\n",
            "231/231 - 1s - loss: 1.1451 - accuracy: 0.7749\n",
            "Epoch 85/200\n",
            "231/231 - 1s - loss: 1.1206 - accuracy: 0.7791\n",
            "Epoch 86/200\n",
            "231/231 - 1s - loss: 1.0944 - accuracy: 0.7824\n",
            "Epoch 87/200\n",
            "231/231 - 1s - loss: 1.0706 - accuracy: 0.7871\n",
            "Epoch 88/200\n",
            "231/231 - 1s - loss: 1.0477 - accuracy: 0.7934\n",
            "Epoch 89/200\n",
            "231/231 - 1s - loss: 1.0235 - accuracy: 0.7980\n",
            "Epoch 90/200\n",
            "231/231 - 1s - loss: 1.0011 - accuracy: 0.7995\n",
            "Epoch 91/200\n",
            "231/231 - 1s - loss: 0.9800 - accuracy: 0.8042\n",
            "Epoch 92/200\n",
            "231/231 - 1s - loss: 0.9554 - accuracy: 0.8088\n",
            "Epoch 93/200\n",
            "231/231 - 1s - loss: 0.9346 - accuracy: 0.8112\n",
            "Epoch 94/200\n",
            "231/231 - 1s - loss: 0.9160 - accuracy: 0.8162\n",
            "Epoch 95/200\n",
            "231/231 - 1s - loss: 0.8952 - accuracy: 0.8230\n",
            "Epoch 96/200\n",
            "231/231 - 1s - loss: 0.8754 - accuracy: 0.8271\n",
            "Epoch 97/200\n",
            "231/231 - 1s - loss: 0.8575 - accuracy: 0.8292\n",
            "Epoch 98/200\n",
            "231/231 - 1s - loss: 0.8406 - accuracy: 0.8349\n",
            "Epoch 99/200\n",
            "231/231 - 1s - loss: 0.8210 - accuracy: 0.8371\n",
            "Epoch 100/200\n",
            "231/231 - 1s - loss: 0.8037 - accuracy: 0.8416\n",
            "Epoch 101/200\n",
            "231/231 - 1s - loss: 0.7830 - accuracy: 0.8451\n",
            "Epoch 102/200\n",
            "231/231 - 1s - loss: 0.7700 - accuracy: 0.8492\n",
            "Epoch 103/200\n",
            "231/231 - 1s - loss: 0.7537 - accuracy: 0.8552\n",
            "Epoch 104/200\n",
            "231/231 - 1s - loss: 0.7392 - accuracy: 0.8540\n",
            "Epoch 105/200\n",
            "231/231 - 1s - loss: 0.7233 - accuracy: 0.8570\n",
            "Epoch 106/200\n",
            "231/231 - 1s - loss: 0.7090 - accuracy: 0.8665\n",
            "Epoch 107/200\n",
            "231/231 - 1s - loss: 0.6923 - accuracy: 0.8635\n",
            "Epoch 108/200\n",
            "231/231 - 1s - loss: 0.6786 - accuracy: 0.8659\n",
            "Epoch 109/200\n",
            "231/231 - 1s - loss: 0.6644 - accuracy: 0.8699\n",
            "Epoch 110/200\n",
            "231/231 - 1s - loss: 0.6539 - accuracy: 0.8718\n",
            "Epoch 111/200\n",
            "231/231 - 1s - loss: 0.6408 - accuracy: 0.8711\n",
            "Epoch 112/200\n",
            "231/231 - 1s - loss: 0.6276 - accuracy: 0.8758\n",
            "Epoch 113/200\n",
            "231/231 - 1s - loss: 0.6158 - accuracy: 0.8753\n",
            "Epoch 114/200\n",
            "231/231 - 1s - loss: 0.6024 - accuracy: 0.8780\n",
            "Epoch 115/200\n",
            "231/231 - 1s - loss: 0.5938 - accuracy: 0.8807\n",
            "Epoch 116/200\n",
            "231/231 - 1s - loss: 0.5801 - accuracy: 0.8830\n",
            "Epoch 117/200\n",
            "231/231 - 1s - loss: 0.5709 - accuracy: 0.8826\n",
            "Epoch 118/200\n",
            "231/231 - 1s - loss: 0.5586 - accuracy: 0.8864\n",
            "Epoch 119/200\n",
            "231/231 - 1s - loss: 0.5497 - accuracy: 0.8849\n",
            "Epoch 120/200\n",
            "231/231 - 1s - loss: 0.5392 - accuracy: 0.8883\n",
            "Epoch 121/200\n",
            "231/231 - 1s - loss: 0.5323 - accuracy: 0.8883\n",
            "Epoch 122/200\n",
            "231/231 - 1s - loss: 0.5250 - accuracy: 0.8906\n",
            "Epoch 123/200\n",
            "231/231 - 1s - loss: 0.5129 - accuracy: 0.8915\n",
            "Epoch 124/200\n",
            "231/231 - 1s - loss: 0.5045 - accuracy: 0.8928\n",
            "Epoch 125/200\n",
            "231/231 - 1s - loss: 0.4959 - accuracy: 0.8926\n",
            "Epoch 126/200\n",
            "231/231 - 1s - loss: 0.4882 - accuracy: 0.8955\n",
            "Epoch 127/200\n",
            "231/231 - 1s - loss: 0.4789 - accuracy: 0.8957\n",
            "Epoch 128/200\n",
            "231/231 - 1s - loss: 0.4701 - accuracy: 0.8967\n",
            "Epoch 129/200\n",
            "231/231 - 1s - loss: 0.4643 - accuracy: 0.8972\n",
            "Epoch 130/200\n",
            "231/231 - 1s - loss: 0.4576 - accuracy: 0.8983\n",
            "Epoch 131/200\n",
            "231/231 - 1s - loss: 0.4495 - accuracy: 0.9001\n",
            "Epoch 132/200\n",
            "231/231 - 1s - loss: 0.4495 - accuracy: 0.8997\n",
            "Epoch 133/200\n",
            "231/231 - 1s - loss: 0.4407 - accuracy: 0.8991\n",
            "Epoch 134/200\n",
            "231/231 - 1s - loss: 0.4340 - accuracy: 0.9003\n",
            "Epoch 135/200\n",
            "231/231 - 1s - loss: 0.4260 - accuracy: 0.9005\n",
            "Epoch 136/200\n",
            "231/231 - 1s - loss: 0.4189 - accuracy: 0.9013\n",
            "Epoch 137/200\n",
            "231/231 - 1s - loss: 0.4152 - accuracy: 0.9009\n",
            "Epoch 138/200\n",
            "231/231 - 1s - loss: 0.4081 - accuracy: 0.9016\n",
            "Epoch 139/200\n",
            "231/231 - 1s - loss: 0.4028 - accuracy: 0.9039\n",
            "Epoch 140/200\n",
            "231/231 - 1s - loss: 0.4002 - accuracy: 0.9039\n",
            "Epoch 141/200\n",
            "231/231 - 1s - loss: 0.3947 - accuracy: 0.9043\n",
            "Epoch 142/200\n",
            "231/231 - 1s - loss: 0.3903 - accuracy: 0.9035\n",
            "Epoch 143/200\n",
            "231/231 - 1s - loss: 0.3862 - accuracy: 0.9047\n",
            "Epoch 144/200\n",
            "231/231 - 1s - loss: 0.3832 - accuracy: 0.9037\n",
            "Epoch 145/200\n",
            "231/231 - 1s - loss: 0.3781 - accuracy: 0.9044\n",
            "Epoch 146/200\n",
            "231/231 - 1s - loss: 0.3734 - accuracy: 0.9040\n",
            "Epoch 147/200\n",
            "231/231 - 1s - loss: 0.3700 - accuracy: 0.9049\n",
            "Epoch 148/200\n",
            "231/231 - 1s - loss: 0.3670 - accuracy: 0.9051\n",
            "Epoch 149/200\n",
            "231/231 - 1s - loss: 0.3723 - accuracy: 0.9028\n",
            "Epoch 150/200\n",
            "231/231 - 1s - loss: 0.3776 - accuracy: 0.9030\n",
            "Epoch 151/200\n",
            "231/231 - 1s - loss: 0.3643 - accuracy: 0.9053\n",
            "Epoch 152/200\n",
            "231/231 - 1s - loss: 0.3550 - accuracy: 0.9060\n",
            "Epoch 153/200\n",
            "231/231 - 1s - loss: 0.3498 - accuracy: 0.9074\n",
            "Epoch 154/200\n",
            "231/231 - 1s - loss: 0.3461 - accuracy: 0.9087\n",
            "Epoch 155/200\n",
            "231/231 - 1s - loss: 0.3442 - accuracy: 0.9068\n",
            "Epoch 156/200\n",
            "231/231 - 1s - loss: 0.3424 - accuracy: 0.9064\n",
            "Epoch 157/200\n",
            "231/231 - 1s - loss: 0.3414 - accuracy: 0.9047\n",
            "Epoch 158/200\n",
            "231/231 - 1s - loss: 0.3400 - accuracy: 0.9056\n",
            "Epoch 159/200\n",
            "231/231 - 1s - loss: 0.3362 - accuracy: 0.9059\n",
            "Epoch 160/200\n",
            "231/231 - 1s - loss: 0.3557 - accuracy: 0.9028\n",
            "Epoch 161/200\n",
            "231/231 - 1s - loss: 0.3497 - accuracy: 0.9062\n",
            "Epoch 162/200\n",
            "231/231 - 1s - loss: 0.3312 - accuracy: 0.9062\n",
            "Epoch 163/200\n",
            "231/231 - 1s - loss: 0.3257 - accuracy: 0.9078\n",
            "Epoch 164/200\n",
            "231/231 - 1s - loss: 0.3248 - accuracy: 0.9075\n",
            "Epoch 165/200\n",
            "231/231 - 1s - loss: 0.3232 - accuracy: 0.9074\n",
            "Epoch 166/200\n",
            "231/231 - 1s - loss: 0.3205 - accuracy: 0.9077\n",
            "Epoch 167/200\n",
            "231/231 - 1s - loss: 0.3197 - accuracy: 0.9079\n",
            "Epoch 168/200\n",
            "231/231 - 1s - loss: 0.3183 - accuracy: 0.9086\n",
            "Epoch 169/200\n",
            "231/231 - 1s - loss: 0.3172 - accuracy: 0.9079\n",
            "Epoch 170/200\n",
            "231/231 - 1s - loss: 0.3156 - accuracy: 0.9075\n",
            "Epoch 171/200\n",
            "231/231 - 1s - loss: 0.3145 - accuracy: 0.9078\n",
            "Epoch 172/200\n",
            "231/231 - 1s - loss: 0.3129 - accuracy: 0.9083\n",
            "Epoch 173/200\n",
            "231/231 - 1s - loss: 0.3130 - accuracy: 0.9082\n",
            "Epoch 174/200\n",
            "231/231 - 1s - loss: 0.3097 - accuracy: 0.9083\n",
            "Epoch 175/200\n",
            "231/231 - 1s - loss: 0.3084 - accuracy: 0.9083\n",
            "Epoch 176/200\n",
            "231/231 - 1s - loss: 0.3082 - accuracy: 0.9079\n",
            "Epoch 177/200\n",
            "231/231 - 1s - loss: 0.3079 - accuracy: 0.9066\n",
            "Epoch 178/200\n",
            "231/231 - 1s - loss: 0.3060 - accuracy: 0.9087\n",
            "Epoch 179/200\n",
            "231/231 - 1s - loss: 0.3044 - accuracy: 0.9064\n",
            "Epoch 180/200\n",
            "231/231 - 1s - loss: 0.3041 - accuracy: 0.9074\n",
            "Epoch 181/200\n",
            "231/231 - 1s - loss: 0.3024 - accuracy: 0.9067\n",
            "Epoch 182/200\n",
            "231/231 - 1s - loss: 0.3021 - accuracy: 0.9078\n",
            "Epoch 183/200\n",
            "231/231 - 1s - loss: 0.3012 - accuracy: 0.9070\n",
            "Epoch 184/200\n",
            "231/231 - 1s - loss: 0.2990 - accuracy: 0.9074\n",
            "Epoch 185/200\n",
            "231/231 - 1s - loss: 0.3130 - accuracy: 0.9049\n",
            "Epoch 186/200\n",
            "231/231 - 1s - loss: 0.3107 - accuracy: 0.9082\n",
            "Epoch 187/200\n",
            "231/231 - 1s - loss: 0.3062 - accuracy: 0.9062\n",
            "Epoch 188/200\n",
            "231/231 - 1s - loss: 0.3037 - accuracy: 0.9058\n",
            "Epoch 189/200\n",
            "231/231 - 1s - loss: 0.2984 - accuracy: 0.9086\n",
            "Epoch 190/200\n",
            "231/231 - 1s - loss: 0.2952 - accuracy: 0.9093\n",
            "Epoch 191/200\n",
            "231/231 - 1s - loss: 0.2940 - accuracy: 0.9066\n",
            "Epoch 192/200\n",
            "231/231 - 1s - loss: 0.2941 - accuracy: 0.9078\n",
            "Epoch 193/200\n",
            "231/231 - 1s - loss: 0.2928 - accuracy: 0.9081\n",
            "Epoch 194/200\n",
            "231/231 - 1s - loss: 0.2928 - accuracy: 0.9083\n",
            "Epoch 195/200\n",
            "231/231 - 1s - loss: 0.2920 - accuracy: 0.9059\n",
            "Epoch 196/200\n",
            "231/231 - 1s - loss: 0.2913 - accuracy: 0.9067\n",
            "Epoch 197/200\n",
            "231/231 - 1s - loss: 0.2909 - accuracy: 0.9081\n",
            "Epoch 198/200\n",
            "231/231 - 1s - loss: 0.2907 - accuracy: 0.9089\n",
            "Epoch 199/200\n",
            "231/231 - 1s - loss: 0.2895 - accuracy: 0.9089\n",
            "Epoch 200/200\n",
            "231/231 - 1s - loss: 0.2951 - accuracy: 0.9074\n"
          ],
          "name": "stdout"
        }
      ]
    },
    {
      "cell_type": "markdown",
      "metadata": {
        "id": "pygahjgOtlhI"
      },
      "source": [
        "### 모델 검증"
      ]
    },
    {
      "cell_type": "code",
      "metadata": {
        "id": "0aNZmGqzru96"
      },
      "source": [
        "# 모델 검증용 문장을 생성하는 함수\r\n",
        "def sentence_generation(model, t, current_word, n):\r\n",
        "  init_word = current_word # 처음 들어온 단어도 마지막에 같이 출력하기 위해 저장\r\n",
        "  sentence =''\r\n",
        "  for _ in range(n):\r\n",
        "    encoded = t.texts_to_sequences([current_word])[0] # 현재 단어에 대한 정수 인코딩\r\n",
        "    encoded = pad_sequences([encoded], maxlen=5, padding='pre') # 데이터에 대한 패딩\r\n",
        "    result = np.argmax(model.predict(encoded), axis=-1)\r\n",
        "    # 입력한 X(현재 단어)에 대해서 Y를 예측하고 Y(예측한 단어)를 result에 저장.\r\n",
        "    for word, index in t.word_index.items():\r\n",
        "      if index == result: # 만약 예측한 단어와 인덱스와 동일한 단어가 있다면\r\n",
        "        break # 해당 단어가 예측 단어이므로 break\r\n",
        "    current_word = current_word + ' ' + word # 현재 단어 + ' ' + 예측 단어를 현재 단어로 변경\r\n",
        "    sentence = sentence + ' ' + word # 예측 단어를 문장에 저장\r\n",
        "\r\n",
        "  # for문이므로 이 행동을 다시 반복\r\n",
        "  sentence = init_word + sentence\r\n",
        "  return sentence"
      ],
      "execution_count": 28,
      "outputs": []
    },
    {
      "cell_type": "code",
      "metadata": {
        "colab": {
          "base_uri": "https://localhost:8080/"
        },
        "id": "OWVnTSYLtqXA",
        "outputId": "4b544206-8b1b-416b-dfe6-4a5ee9c87095"
      },
      "source": [
        "print(sentence_generation(model, t, 'i', 10))\r\n",
        "print(sentence_generation(model, t, 'how', 10))\r\n",
        "print(sentence_generation(model, t, 'what', 10))"
      ],
      "execution_count": 31,
      "outputs": [
        {
          "output_type": "stream",
          "text": [
            "i cleaning people is consequences scientists baby come about the birth\n",
            "how is out over cede night just on political for late\n",
            "what drake drake has a limits of a uprising improve a\n"
          ],
          "name": "stdout"
        }
      ]
    },
    {
      "cell_type": "code",
      "metadata": {
        "id": "xcoGHOhPtrjp"
      },
      "source": [
        ""
      ],
      "execution_count": null,
      "outputs": []
    }
  ]
}