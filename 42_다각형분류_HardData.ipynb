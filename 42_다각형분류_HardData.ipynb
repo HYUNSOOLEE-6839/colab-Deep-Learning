{
  "nbformat": 4,
  "nbformat_minor": 0,
  "metadata": {
    "colab": {
      "name": "42_다각형분류_HardData.ipynb",
      "provenance": [],
      "collapsed_sections": [],
      "authorship_tag": "ABX9TyPwPN5cNUtO47xLPcow26K5",
      "include_colab_link": true
    },
    "kernelspec": {
      "name": "python3",
      "display_name": "Python 3"
    }
  },
  "cells": [
    {
      "cell_type": "markdown",
      "metadata": {
        "id": "view-in-github",
        "colab_type": "text"
      },
      "source": [
        "<a href=\"https://colab.research.google.com/github/HYUNSOOLEE-6839/colab-Deep-Learning/blob/main/42_%EB%8B%A4%EA%B0%81%ED%98%95%EB%B6%84%EB%A5%98_HardData.ipynb\" target=\"_parent\"><img src=\"https://colab.research.google.com/assets/colab-badge.svg\" alt=\"Open In Colab\"/></a>"
      ]
    },
    {
      "cell_type": "markdown",
      "metadata": {
        "id": "Z-TMgM2pcR35"
      },
      "source": [
        "# 원, 삼각형, 사각형 구분하기"
      ]
    },
    {
      "cell_type": "markdown",
      "metadata": {
        "id": "cpNyLlj8dPCv"
      },
      "source": [
        "### 2. 어려운 테스트 문제를 기존 CNN 모델로 푸는 경우"
      ]
    },
    {
      "cell_type": "code",
      "metadata": {
        "id": "UTpOGsIPc0vI"
      },
      "source": [
        "import numpy as np\r\n",
        "import tensorflow as tf\r\n",
        "from tensorflow import keras\r\n",
        "from tensorflow.keras.models import Sequential\r\n",
        "from tensorflow.keras.layers import Dense, Flatten, Conv2D, MaxPooling2D\r\n",
        "from tensorflow.keras.preprocessing.image import ImageDataGenerator\r\n",
        "import matplotlib.pyplot as plt"
      ],
      "execution_count": 1,
      "outputs": []
    },
    {
      "cell_type": "code",
      "metadata": {
        "id": "Oug36fyedrfY"
      },
      "source": [
        "# seed 값 설정\r\n",
        "seed = 2021\r\n",
        "np.random.seed(seed)\r\n",
        "tf.random.set_seed(seed)"
      ],
      "execution_count": 2,
      "outputs": []
    },
    {
      "cell_type": "markdown",
      "metadata": {
        "id": "eLAtIaIJd1v4"
      },
      "source": [
        "### 데이터셋 생성하기"
      ]
    },
    {
      "cell_type": "code",
      "metadata": {
        "colab": {
          "base_uri": "https://localhost:8080/"
        },
        "id": "uqceuVKqdyF_",
        "outputId": "f0aaba69-3d2a-448c-c974-6e35a63f042a"
      },
      "source": [
        "# Numpy Array로 만드는 과정\r\n",
        "train_datagen = ImageDataGenerator(rescale=1./255)\r\n",
        "\r\n",
        "train_generator = train_datagen.flow_from_directory(\r\n",
        "    'hard_handwriting_shape/train',\r\n",
        "    target_size=(24,24),\r\n",
        "    batch_size=3,\r\n",
        "    class_mode='categorical')\r\n",
        "\r\n",
        "test_datagen = ImageDataGenerator(rescale=1./255)\r\n",
        "\r\n",
        "test_generator = test_datagen.flow_from_directory(\r\n",
        "    'hard_handwriting_shape/test',\r\n",
        "    target_size=(24,24),\r\n",
        "    batch_size=3,\r\n",
        "    class_mode='categorical')"
      ],
      "execution_count": 3,
      "outputs": [
        {
          "output_type": "stream",
          "text": [
            "Found 45 images belonging to 3 classes.\n",
            "Found 15 images belonging to 3 classes.\n"
          ],
          "name": "stdout"
        }
      ]
    },
    {
      "cell_type": "code",
      "metadata": {
        "colab": {
          "base_uri": "https://localhost:8080/"
        },
        "id": "a6f519hUeTgw",
        "outputId": "34074162-11ec-43ea-f8c0-41e2bd29f839"
      },
      "source": [
        "!ls hard_handwriting_shape/train"
      ],
      "execution_count": 4,
      "outputs": [
        {
          "output_type": "stream",
          "text": [
            "circle\trectangle  triangle\n"
          ],
          "name": "stdout"
        }
      ]
    },
    {
      "cell_type": "code",
      "metadata": {
        "colab": {
          "base_uri": "https://localhost:8080/"
        },
        "id": "P6ApTl32egif",
        "outputId": "579e3a0a-f775-46a1-eb28-53df362ea891"
      },
      "source": [
        "!ls hard_handwriting_shape/test"
      ],
      "execution_count": 5,
      "outputs": [
        {
          "output_type": "stream",
          "text": [
            "circle\trectangle  triangle\n"
          ],
          "name": "stdout"
        }
      ]
    },
    {
      "cell_type": "markdown",
      "metadata": {
        "id": "PqdUp31pfJzI"
      },
      "source": [
        "### 모델 정의/설정/학습"
      ]
    },
    {
      "cell_type": "code",
      "metadata": {
        "id": "SG6CqaD1jdCp"
      },
      "source": [
        "del model"
      ],
      "execution_count": 12,
      "outputs": []
    },
    {
      "cell_type": "code",
      "metadata": {
        "colab": {
          "base_uri": "https://localhost:8080/"
        },
        "id": "T6D2GW9he7sf",
        "outputId": "a4361c1b-3f85-4bf3-b3e4-1bcf001d6095"
      },
      "source": [
        "model = Sequential([\r\n",
        "    Conv2D(32, (3,3), input_shape=(24, 24, 3), activation='relu'),\r\n",
        "    Conv2D(64, (3,3), activation='relu'),\r\n",
        "    MaxPooling2D(pool_size=(2,2)),\r\n",
        "    Flatten(),\r\n",
        "    Dense(128, activation='relu'),\r\n",
        "    Dense(3, activation='softmax')\r\n",
        "])\r\n",
        "model.summary()"
      ],
      "execution_count": 13,
      "outputs": [
        {
          "output_type": "stream",
          "text": [
            "Model: \"sequential_1\"\n",
            "_________________________________________________________________\n",
            "Layer (type)                 Output Shape              Param #   \n",
            "=================================================================\n",
            "conv2d_2 (Conv2D)            (None, 22, 22, 32)        896       \n",
            "_________________________________________________________________\n",
            "conv2d_3 (Conv2D)            (None, 20, 20, 64)        18496     \n",
            "_________________________________________________________________\n",
            "max_pooling2d_1 (MaxPooling2 (None, 10, 10, 64)        0         \n",
            "_________________________________________________________________\n",
            "flatten_1 (Flatten)          (None, 6400)              0         \n",
            "_________________________________________________________________\n",
            "dense_2 (Dense)              (None, 128)               819328    \n",
            "_________________________________________________________________\n",
            "dense_3 (Dense)              (None, 3)                 387       \n",
            "=================================================================\n",
            "Total params: 839,107\n",
            "Trainable params: 839,107\n",
            "Non-trainable params: 0\n",
            "_________________________________________________________________\n"
          ],
          "name": "stdout"
        }
      ]
    },
    {
      "cell_type": "code",
      "metadata": {
        "id": "lKVWOYJrfqPp"
      },
      "source": [
        "model.compile(loss='categorical_crossentropy', optimizer='adam', metrics=['accuracy'])"
      ],
      "execution_count": 14,
      "outputs": []
    },
    {
      "cell_type": "markdown",
      "metadata": {
        "id": "WZ_dWEHMgeuI"
      },
      "source": [
        "### 모델 학습시키기\r\n",
        "- 첫 번째 인자 : 훈련데이터셋을 제공할 제네레이터를 지정.\r\n",
        "- steps_per_epoch : 한 epoch에 사용한 스텝 수를 지정. 총 45개의 훈련 샘플이 있고 배치사이즈가 3이므로 15스텝으로 지정\r\n",
        "- epochs : 전체 훈련 데이터 셋에 대해 학습 반복 횟수를 지정. 50번 반복학습\r\n",
        "- validation_data : 검증데이터셋을 제공할 제네레이터를 지정. 본 예제에서는 앞서 생성한 validation_generator로 지정.\r\n",
        "- validation_steps : 한 epoch 종료 시 마다 검증할 때 사용되는 검증 스텝 수를 지정. 총 15개의 검증 샘플이 있고 배치사이즈가 3이므로 5스텝으로 지정."
      ]
    },
    {
      "cell_type": "code",
      "metadata": {
        "colab": {
          "base_uri": "https://localhost:8080/"
        },
        "id": "l6lhnT01gdgh",
        "outputId": "f302ba46-fda9-4e50-e74a-70cac57125cb"
      },
      "source": [
        "history=model.fit_generator(\r\n",
        "    train_generator,\r\n",
        "    steps_per_epoch=15,\r\n",
        "    epochs=200,\r\n",
        "    validation_data=test_generator,\r\n",
        "    validation_steps=5)"
      ],
      "execution_count": 15,
      "outputs": [
        {
          "output_type": "stream",
          "text": [
            "/usr/local/lib/python3.6/dist-packages/tensorflow/python/keras/engine/training.py:1844: UserWarning: `Model.fit_generator` is deprecated and will be removed in a future version. Please use `Model.fit`, which supports generators.\n",
            "  warnings.warn('`Model.fit_generator` is deprecated and '\n"
          ],
          "name": "stderr"
        },
        {
          "output_type": "stream",
          "text": [
            "Epoch 1/200\n",
            "15/15 [==============================] - 1s 32ms/step - loss: 0.9880 - accuracy: 0.5465 - val_loss: 1.3228 - val_accuracy: 0.3333\n",
            "Epoch 2/200\n",
            "15/15 [==============================] - 0s 22ms/step - loss: 0.2576 - accuracy: 0.9080 - val_loss: 2.6072 - val_accuracy: 0.3333\n",
            "Epoch 3/200\n",
            "15/15 [==============================] - 0s 21ms/step - loss: 0.0353 - accuracy: 1.0000 - val_loss: 3.7327 - val_accuracy: 0.3333\n",
            "Epoch 4/200\n",
            "15/15 [==============================] - 0s 21ms/step - loss: 0.0095 - accuracy: 1.0000 - val_loss: 5.4667 - val_accuracy: 0.3333\n",
            "Epoch 5/200\n",
            "15/15 [==============================] - 0s 22ms/step - loss: 0.0062 - accuracy: 1.0000 - val_loss: 4.6884 - val_accuracy: 0.3333\n",
            "Epoch 6/200\n",
            "15/15 [==============================] - 0s 22ms/step - loss: 8.3815e-04 - accuracy: 1.0000 - val_loss: 4.8285 - val_accuracy: 0.3333\n",
            "Epoch 7/200\n",
            "15/15 [==============================] - 0s 23ms/step - loss: 7.8377e-04 - accuracy: 1.0000 - val_loss: 5.0694 - val_accuracy: 0.3333\n",
            "Epoch 8/200\n",
            "15/15 [==============================] - 0s 31ms/step - loss: 3.4614e-04 - accuracy: 1.0000 - val_loss: 5.2529 - val_accuracy: 0.3333\n",
            "Epoch 9/200\n",
            "15/15 [==============================] - 0s 22ms/step - loss: 3.3905e-04 - accuracy: 1.0000 - val_loss: 5.3839 - val_accuracy: 0.3333\n",
            "Epoch 10/200\n",
            "15/15 [==============================] - 0s 23ms/step - loss: 2.4342e-04 - accuracy: 1.0000 - val_loss: 5.5224 - val_accuracy: 0.3333\n",
            "Epoch 11/200\n",
            "15/15 [==============================] - 0s 23ms/step - loss: 2.3555e-04 - accuracy: 1.0000 - val_loss: 5.6456 - val_accuracy: 0.3333\n",
            "Epoch 12/200\n",
            "15/15 [==============================] - 0s 23ms/step - loss: 1.1075e-04 - accuracy: 1.0000 - val_loss: 5.7842 - val_accuracy: 0.3333\n",
            "Epoch 13/200\n",
            "15/15 [==============================] - 0s 23ms/step - loss: 1.5646e-04 - accuracy: 1.0000 - val_loss: 5.9000 - val_accuracy: 0.3333\n",
            "Epoch 14/200\n",
            "15/15 [==============================] - 0s 23ms/step - loss: 1.6569e-04 - accuracy: 1.0000 - val_loss: 6.0276 - val_accuracy: 0.3333\n",
            "Epoch 15/200\n",
            "15/15 [==============================] - 0s 22ms/step - loss: 1.1439e-04 - accuracy: 1.0000 - val_loss: 6.1078 - val_accuracy: 0.3333\n",
            "Epoch 16/200\n",
            "15/15 [==============================] - 0s 22ms/step - loss: 9.9190e-05 - accuracy: 1.0000 - val_loss: 6.1621 - val_accuracy: 0.3333\n",
            "Epoch 17/200\n",
            "15/15 [==============================] - 0s 22ms/step - loss: 9.1665e-05 - accuracy: 1.0000 - val_loss: 6.2637 - val_accuracy: 0.3333\n",
            "Epoch 18/200\n",
            "15/15 [==============================] - 0s 23ms/step - loss: 5.7819e-05 - accuracy: 1.0000 - val_loss: 6.3078 - val_accuracy: 0.3333\n",
            "Epoch 19/200\n",
            "15/15 [==============================] - 0s 24ms/step - loss: 7.8107e-05 - accuracy: 1.0000 - val_loss: 6.3953 - val_accuracy: 0.3333\n",
            "Epoch 20/200\n",
            "15/15 [==============================] - 0s 22ms/step - loss: 6.8295e-05 - accuracy: 1.0000 - val_loss: 6.4298 - val_accuracy: 0.3333\n",
            "Epoch 21/200\n",
            "15/15 [==============================] - 0s 23ms/step - loss: 5.0912e-05 - accuracy: 1.0000 - val_loss: 6.4773 - val_accuracy: 0.3333\n",
            "Epoch 22/200\n",
            "15/15 [==============================] - 0s 23ms/step - loss: 5.7179e-05 - accuracy: 1.0000 - val_loss: 6.5746 - val_accuracy: 0.3333\n",
            "Epoch 23/200\n",
            "15/15 [==============================] - 0s 23ms/step - loss: 4.2078e-05 - accuracy: 1.0000 - val_loss: 6.6926 - val_accuracy: 0.3333\n",
            "Epoch 24/200\n",
            "15/15 [==============================] - 0s 23ms/step - loss: 3.8491e-05 - accuracy: 1.0000 - val_loss: 6.7547 - val_accuracy: 0.3333\n",
            "Epoch 25/200\n",
            "15/15 [==============================] - 0s 22ms/step - loss: 3.7903e-05 - accuracy: 1.0000 - val_loss: 6.9243 - val_accuracy: 0.3333\n",
            "Epoch 26/200\n",
            "15/15 [==============================] - 0s 22ms/step - loss: 3.2595e-05 - accuracy: 1.0000 - val_loss: 7.0850 - val_accuracy: 0.3333\n",
            "Epoch 27/200\n",
            "15/15 [==============================] - 0s 23ms/step - loss: 2.4921e-05 - accuracy: 1.0000 - val_loss: 7.2645 - val_accuracy: 0.3333\n",
            "Epoch 28/200\n",
            "15/15 [==============================] - 0s 22ms/step - loss: 1.8277e-05 - accuracy: 1.0000 - val_loss: 7.5198 - val_accuracy: 0.3333\n",
            "Epoch 29/200\n",
            "15/15 [==============================] - 0s 22ms/step - loss: 2.1375e-05 - accuracy: 1.0000 - val_loss: 7.6190 - val_accuracy: 0.3333\n",
            "Epoch 30/200\n",
            "15/15 [==============================] - 0s 23ms/step - loss: 1.3814e-05 - accuracy: 1.0000 - val_loss: 7.7939 - val_accuracy: 0.3333\n",
            "Epoch 31/200\n",
            "15/15 [==============================] - 0s 21ms/step - loss: 1.1339e-05 - accuracy: 1.0000 - val_loss: 7.8657 - val_accuracy: 0.3333\n",
            "Epoch 32/200\n",
            "15/15 [==============================] - 0s 23ms/step - loss: 1.1695e-05 - accuracy: 1.0000 - val_loss: 8.0322 - val_accuracy: 0.3333\n",
            "Epoch 33/200\n",
            "15/15 [==============================] - 0s 23ms/step - loss: 8.4115e-06 - accuracy: 1.0000 - val_loss: 8.1485 - val_accuracy: 0.3333\n",
            "Epoch 34/200\n",
            "15/15 [==============================] - 0s 22ms/step - loss: 6.1505e-06 - accuracy: 1.0000 - val_loss: 8.2961 - val_accuracy: 0.3333\n",
            "Epoch 35/200\n",
            "15/15 [==============================] - 0s 23ms/step - loss: 4.6268e-06 - accuracy: 1.0000 - val_loss: 8.3386 - val_accuracy: 0.3333\n",
            "Epoch 36/200\n",
            "15/15 [==============================] - 0s 22ms/step - loss: 7.5820e-06 - accuracy: 1.0000 - val_loss: 8.4382 - val_accuracy: 0.3333\n",
            "Epoch 37/200\n",
            "15/15 [==============================] - 0s 22ms/step - loss: 5.1844e-06 - accuracy: 1.0000 - val_loss: 8.4766 - val_accuracy: 0.3333\n",
            "Epoch 38/200\n",
            "15/15 [==============================] - 0s 23ms/step - loss: 4.5026e-06 - accuracy: 1.0000 - val_loss: 8.5680 - val_accuracy: 0.3333\n",
            "Epoch 39/200\n",
            "15/15 [==============================] - 0s 22ms/step - loss: 4.0333e-06 - accuracy: 1.0000 - val_loss: 8.6016 - val_accuracy: 0.3333\n",
            "Epoch 40/200\n",
            "15/15 [==============================] - 0s 22ms/step - loss: 3.3750e-06 - accuracy: 1.0000 - val_loss: 8.6721 - val_accuracy: 0.3333\n",
            "Epoch 41/200\n",
            "15/15 [==============================] - 0s 22ms/step - loss: 3.7236e-06 - accuracy: 1.0000 - val_loss: 8.7185 - val_accuracy: 0.3333\n",
            "Epoch 42/200\n",
            "15/15 [==============================] - 0s 22ms/step - loss: 2.5779e-06 - accuracy: 1.0000 - val_loss: 8.7640 - val_accuracy: 0.3333\n",
            "Epoch 43/200\n",
            "15/15 [==============================] - 0s 22ms/step - loss: 3.1442e-06 - accuracy: 1.0000 - val_loss: 8.8305 - val_accuracy: 0.3333\n",
            "Epoch 44/200\n",
            "15/15 [==============================] - 0s 23ms/step - loss: 3.6568e-06 - accuracy: 1.0000 - val_loss: 8.8939 - val_accuracy: 0.3333\n",
            "Epoch 45/200\n",
            "15/15 [==============================] - 0s 22ms/step - loss: 1.9603e-06 - accuracy: 1.0000 - val_loss: 8.9435 - val_accuracy: 0.3333\n",
            "Epoch 46/200\n",
            "15/15 [==============================] - 0s 22ms/step - loss: 2.0794e-06 - accuracy: 1.0000 - val_loss: 8.9949 - val_accuracy: 0.3333\n",
            "Epoch 47/200\n",
            "15/15 [==============================] - 0s 22ms/step - loss: 2.1766e-06 - accuracy: 1.0000 - val_loss: 9.0285 - val_accuracy: 0.3333\n",
            "Epoch 48/200\n",
            "15/15 [==============================] - 0s 21ms/step - loss: 2.6463e-06 - accuracy: 1.0000 - val_loss: 9.0526 - val_accuracy: 0.3333\n",
            "Epoch 49/200\n",
            "15/15 [==============================] - 0s 22ms/step - loss: 1.8339e-06 - accuracy: 1.0000 - val_loss: 9.0855 - val_accuracy: 0.3333\n",
            "Epoch 50/200\n",
            "15/15 [==============================] - 0s 23ms/step - loss: 2.6197e-06 - accuracy: 1.0000 - val_loss: 9.1491 - val_accuracy: 0.3333\n",
            "Epoch 51/200\n",
            "15/15 [==============================] - 0s 23ms/step - loss: 1.4153e-06 - accuracy: 1.0000 - val_loss: 9.1659 - val_accuracy: 0.3333\n",
            "Epoch 52/200\n",
            "15/15 [==============================] - 0s 22ms/step - loss: 1.5021e-06 - accuracy: 1.0000 - val_loss: 9.2105 - val_accuracy: 0.3333\n",
            "Epoch 53/200\n",
            "15/15 [==============================] - 0s 22ms/step - loss: 1.0464e-06 - accuracy: 1.0000 - val_loss: 9.2517 - val_accuracy: 0.3333\n",
            "Epoch 54/200\n",
            "15/15 [==============================] - 0s 22ms/step - loss: 2.0561e-06 - accuracy: 1.0000 - val_loss: 9.2843 - val_accuracy: 0.3333\n",
            "Epoch 55/200\n",
            "15/15 [==============================] - 0s 22ms/step - loss: 1.3308e-06 - accuracy: 1.0000 - val_loss: 9.3017 - val_accuracy: 0.3333\n",
            "Epoch 56/200\n",
            "15/15 [==============================] - 0s 23ms/step - loss: 9.7131e-07 - accuracy: 1.0000 - val_loss: 9.3285 - val_accuracy: 0.3333\n",
            "Epoch 57/200\n",
            "15/15 [==============================] - 0s 22ms/step - loss: 1.5049e-06 - accuracy: 1.0000 - val_loss: 9.3745 - val_accuracy: 0.3333\n",
            "Epoch 58/200\n",
            "15/15 [==============================] - 0s 31ms/step - loss: 1.2120e-06 - accuracy: 1.0000 - val_loss: 9.4099 - val_accuracy: 0.3333\n",
            "Epoch 59/200\n",
            "15/15 [==============================] - 0s 23ms/step - loss: 1.6044e-06 - accuracy: 1.0000 - val_loss: 9.4158 - val_accuracy: 0.3333\n",
            "Epoch 60/200\n",
            "15/15 [==============================] - 0s 22ms/step - loss: 1.0554e-06 - accuracy: 1.0000 - val_loss: 9.4552 - val_accuracy: 0.3333\n",
            "Epoch 61/200\n",
            "15/15 [==============================] - 0s 22ms/step - loss: 8.8184e-07 - accuracy: 1.0000 - val_loss: 9.4709 - val_accuracy: 0.3333\n",
            "Epoch 62/200\n",
            "15/15 [==============================] - 0s 22ms/step - loss: 6.5572e-07 - accuracy: 1.0000 - val_loss: 9.5033 - val_accuracy: 0.3333\n",
            "Epoch 63/200\n",
            "15/15 [==============================] - 0s 23ms/step - loss: 8.3177e-07 - accuracy: 1.0000 - val_loss: 9.5305 - val_accuracy: 0.3333\n",
            "Epoch 64/200\n",
            "15/15 [==============================] - 0s 23ms/step - loss: 8.5978e-07 - accuracy: 1.0000 - val_loss: 9.5244 - val_accuracy: 0.3333\n",
            "Epoch 65/200\n",
            "15/15 [==============================] - 0s 22ms/step - loss: 1.0551e-06 - accuracy: 1.0000 - val_loss: 9.5676 - val_accuracy: 0.3333\n",
            "Epoch 66/200\n",
            "15/15 [==============================] - 0s 22ms/step - loss: 7.8381e-07 - accuracy: 1.0000 - val_loss: 9.5864 - val_accuracy: 0.3333\n",
            "Epoch 67/200\n",
            "15/15 [==============================] - 0s 23ms/step - loss: 6.2647e-07 - accuracy: 1.0000 - val_loss: 9.6192 - val_accuracy: 0.3333\n",
            "Epoch 68/200\n",
            "15/15 [==============================] - 0s 22ms/step - loss: 7.8683e-07 - accuracy: 1.0000 - val_loss: 9.6314 - val_accuracy: 0.3333\n",
            "Epoch 69/200\n",
            "15/15 [==============================] - 0s 22ms/step - loss: 6.1224e-07 - accuracy: 1.0000 - val_loss: 9.6572 - val_accuracy: 0.3333\n",
            "Epoch 70/200\n",
            "15/15 [==============================] - 0s 21ms/step - loss: 7.2225e-07 - accuracy: 1.0000 - val_loss: 9.6702 - val_accuracy: 0.3333\n",
            "Epoch 71/200\n",
            "15/15 [==============================] - 0s 23ms/step - loss: 7.4952e-07 - accuracy: 1.0000 - val_loss: 9.6874 - val_accuracy: 0.3333\n",
            "Epoch 72/200\n",
            "15/15 [==============================] - 0s 23ms/step - loss: 6.3787e-07 - accuracy: 1.0000 - val_loss: 9.7083 - val_accuracy: 0.3333\n",
            "Epoch 73/200\n",
            "15/15 [==============================] - 0s 23ms/step - loss: 6.7997e-07 - accuracy: 1.0000 - val_loss: 9.7101 - val_accuracy: 0.3333\n",
            "Epoch 74/200\n",
            "15/15 [==============================] - 0s 23ms/step - loss: 3.1286e-07 - accuracy: 1.0000 - val_loss: 9.7236 - val_accuracy: 0.3333\n",
            "Epoch 75/200\n",
            "15/15 [==============================] - 0s 23ms/step - loss: 4.5442e-07 - accuracy: 1.0000 - val_loss: 9.7429 - val_accuracy: 0.3333\n",
            "Epoch 76/200\n",
            "15/15 [==============================] - 0s 21ms/step - loss: 4.7549e-07 - accuracy: 1.0000 - val_loss: 9.7358 - val_accuracy: 0.3333\n",
            "Epoch 77/200\n",
            "15/15 [==============================] - 0s 23ms/step - loss: 3.1390e-07 - accuracy: 1.0000 - val_loss: 9.7426 - val_accuracy: 0.3333\n",
            "Epoch 78/200\n",
            "15/15 [==============================] - 0s 23ms/step - loss: 3.8705e-07 - accuracy: 1.0000 - val_loss: 9.7559 - val_accuracy: 0.3333\n",
            "Epoch 79/200\n",
            "15/15 [==============================] - 0s 23ms/step - loss: 3.0049e-07 - accuracy: 1.0000 - val_loss: 9.7672 - val_accuracy: 0.3333\n",
            "Epoch 80/200\n",
            "15/15 [==============================] - 0s 23ms/step - loss: 4.1614e-07 - accuracy: 1.0000 - val_loss: 9.7605 - val_accuracy: 0.3333\n",
            "Epoch 81/200\n",
            "15/15 [==============================] - 0s 23ms/step - loss: 3.9201e-07 - accuracy: 1.0000 - val_loss: 9.7581 - val_accuracy: 0.3333\n",
            "Epoch 82/200\n",
            "15/15 [==============================] - 0s 22ms/step - loss: 3.2290e-07 - accuracy: 1.0000 - val_loss: 9.7550 - val_accuracy: 0.3333\n",
            "Epoch 83/200\n",
            "15/15 [==============================] - 0s 22ms/step - loss: 3.0181e-07 - accuracy: 1.0000 - val_loss: 9.7495 - val_accuracy: 0.3333\n",
            "Epoch 84/200\n",
            "15/15 [==============================] - 0s 22ms/step - loss: 2.9323e-07 - accuracy: 1.0000 - val_loss: 9.7433 - val_accuracy: 0.3333\n",
            "Epoch 85/200\n",
            "15/15 [==============================] - 0s 22ms/step - loss: 1.6864e-07 - accuracy: 1.0000 - val_loss: 9.7747 - val_accuracy: 0.3333\n",
            "Epoch 86/200\n",
            "15/15 [==============================] - 0s 22ms/step - loss: 2.2769e-07 - accuracy: 1.0000 - val_loss: 9.7800 - val_accuracy: 0.3333\n",
            "Epoch 87/200\n",
            "15/15 [==============================] - 0s 23ms/step - loss: 2.6979e-07 - accuracy: 1.0000 - val_loss: 9.7754 - val_accuracy: 0.3333\n",
            "Epoch 88/200\n",
            "15/15 [==============================] - 0s 24ms/step - loss: 2.4971e-07 - accuracy: 1.0000 - val_loss: 9.8150 - val_accuracy: 0.3333\n",
            "Epoch 89/200\n",
            "15/15 [==============================] - 0s 22ms/step - loss: 2.2363e-07 - accuracy: 1.0000 - val_loss: 9.8243 - val_accuracy: 0.3333\n",
            "Epoch 90/200\n",
            "15/15 [==============================] - 0s 23ms/step - loss: 1.8528e-07 - accuracy: 1.0000 - val_loss: 9.8199 - val_accuracy: 0.3333\n",
            "Epoch 91/200\n",
            "15/15 [==============================] - 0s 24ms/step - loss: 1.0259e-07 - accuracy: 1.0000 - val_loss: 9.8428 - val_accuracy: 0.3333\n",
            "Epoch 92/200\n",
            "15/15 [==============================] - 0s 22ms/step - loss: 1.9823e-07 - accuracy: 1.0000 - val_loss: 9.8467 - val_accuracy: 0.3333\n",
            "Epoch 93/200\n",
            "15/15 [==============================] - 0s 23ms/step - loss: 1.9987e-07 - accuracy: 1.0000 - val_loss: 9.8531 - val_accuracy: 0.3333\n",
            "Epoch 94/200\n",
            "15/15 [==============================] - 0s 23ms/step - loss: 1.6191e-07 - accuracy: 1.0000 - val_loss: 9.8856 - val_accuracy: 0.3333\n",
            "Epoch 95/200\n",
            "15/15 [==============================] - 0s 23ms/step - loss: 1.5116e-07 - accuracy: 1.0000 - val_loss: 9.8894 - val_accuracy: 0.3333\n",
            "Epoch 96/200\n",
            "15/15 [==============================] - 0s 23ms/step - loss: 1.3649e-07 - accuracy: 1.0000 - val_loss: 9.9064 - val_accuracy: 0.3333\n",
            "Epoch 97/200\n",
            "15/15 [==============================] - 0s 22ms/step - loss: 1.2580e-07 - accuracy: 1.0000 - val_loss: 9.9307 - val_accuracy: 0.3333\n",
            "Epoch 98/200\n",
            "15/15 [==============================] - 0s 30ms/step - loss: 1.3967e-07 - accuracy: 1.0000 - val_loss: 9.9287 - val_accuracy: 0.3333\n",
            "Epoch 99/200\n",
            "15/15 [==============================] - 0s 23ms/step - loss: 1.5353e-07 - accuracy: 1.0000 - val_loss: 9.9481 - val_accuracy: 0.3333\n",
            "Epoch 100/200\n",
            "15/15 [==============================] - 0s 22ms/step - loss: 7.4320e-08 - accuracy: 1.0000 - val_loss: 9.9525 - val_accuracy: 0.3333\n",
            "Epoch 101/200\n",
            "15/15 [==============================] - 0s 24ms/step - loss: 1.4225e-07 - accuracy: 1.0000 - val_loss: 9.9174 - val_accuracy: 0.3333\n",
            "Epoch 102/200\n",
            "15/15 [==============================] - 0s 22ms/step - loss: 1.6244e-07 - accuracy: 1.0000 - val_loss: 9.9560 - val_accuracy: 0.3333\n",
            "Epoch 103/200\n",
            "15/15 [==============================] - 0s 23ms/step - loss: 1.1876e-07 - accuracy: 1.0000 - val_loss: 9.9658 - val_accuracy: 0.3333\n",
            "Epoch 104/200\n",
            "15/15 [==============================] - 0s 22ms/step - loss: 1.0386e-07 - accuracy: 1.0000 - val_loss: 9.9778 - val_accuracy: 0.3333\n",
            "Epoch 105/200\n",
            "15/15 [==============================] - 0s 22ms/step - loss: 1.2148e-07 - accuracy: 1.0000 - val_loss: 10.0040 - val_accuracy: 0.3333\n",
            "Epoch 106/200\n",
            "15/15 [==============================] - 0s 23ms/step - loss: 6.5943e-08 - accuracy: 1.0000 - val_loss: 10.0158 - val_accuracy: 0.3333\n",
            "Epoch 107/200\n",
            "15/15 [==============================] - 0s 22ms/step - loss: 6.3995e-08 - accuracy: 1.0000 - val_loss: 10.0086 - val_accuracy: 0.3333\n",
            "Epoch 108/200\n",
            "15/15 [==============================] - 0s 22ms/step - loss: 6.4541e-08 - accuracy: 1.0000 - val_loss: 10.0584 - val_accuracy: 0.3333\n",
            "Epoch 109/200\n",
            "15/15 [==============================] - 0s 23ms/step - loss: 7.2413e-08 - accuracy: 1.0000 - val_loss: 10.0326 - val_accuracy: 0.3333\n",
            "Epoch 110/200\n",
            "15/15 [==============================] - 0s 22ms/step - loss: 1.0252e-07 - accuracy: 1.0000 - val_loss: 10.0697 - val_accuracy: 0.3333\n",
            "Epoch 111/200\n",
            "15/15 [==============================] - 0s 23ms/step - loss: 6.1400e-08 - accuracy: 1.0000 - val_loss: 10.0773 - val_accuracy: 0.3333\n",
            "Epoch 112/200\n",
            "15/15 [==============================] - 0s 23ms/step - loss: 9.3884e-08 - accuracy: 1.0000 - val_loss: 10.0855 - val_accuracy: 0.3333\n",
            "Epoch 113/200\n",
            "15/15 [==============================] - 0s 23ms/step - loss: 7.5221e-08 - accuracy: 1.0000 - val_loss: 10.1072 - val_accuracy: 0.3333\n",
            "Epoch 114/200\n",
            "15/15 [==============================] - 0s 22ms/step - loss: 7.5374e-08 - accuracy: 1.0000 - val_loss: 10.1396 - val_accuracy: 0.3333\n",
            "Epoch 115/200\n",
            "15/15 [==============================] - 0s 23ms/step - loss: 5.3801e-08 - accuracy: 1.0000 - val_loss: 10.1578 - val_accuracy: 0.3333\n",
            "Epoch 116/200\n",
            "15/15 [==============================] - 0s 23ms/step - loss: 7.1476e-08 - accuracy: 1.0000 - val_loss: 10.1556 - val_accuracy: 0.3333\n",
            "Epoch 117/200\n",
            "15/15 [==============================] - 0s 24ms/step - loss: 7.2301e-08 - accuracy: 1.0000 - val_loss: 10.1827 - val_accuracy: 0.3333\n",
            "Epoch 118/200\n",
            "15/15 [==============================] - 0s 24ms/step - loss: 5.6571e-08 - accuracy: 1.0000 - val_loss: 10.1906 - val_accuracy: 0.3333\n",
            "Epoch 119/200\n",
            "15/15 [==============================] - 0s 23ms/step - loss: 3.5673e-08 - accuracy: 1.0000 - val_loss: 10.2316 - val_accuracy: 0.3333\n",
            "Epoch 120/200\n",
            "15/15 [==============================] - 0s 23ms/step - loss: 8.6833e-08 - accuracy: 1.0000 - val_loss: 10.2107 - val_accuracy: 0.3333\n",
            "Epoch 121/200\n",
            "15/15 [==============================] - 0s 22ms/step - loss: 4.2790e-08 - accuracy: 1.0000 - val_loss: 10.2231 - val_accuracy: 0.3333\n",
            "Epoch 122/200\n",
            "15/15 [==============================] - 0s 22ms/step - loss: 4.0558e-08 - accuracy: 1.0000 - val_loss: 10.2501 - val_accuracy: 0.3333\n",
            "Epoch 123/200\n",
            "15/15 [==============================] - 0s 23ms/step - loss: 4.4865e-08 - accuracy: 1.0000 - val_loss: 10.2593 - val_accuracy: 0.3333\n",
            "Epoch 124/200\n",
            "15/15 [==============================] - 0s 23ms/step - loss: 3.3174e-08 - accuracy: 1.0000 - val_loss: 10.2921 - val_accuracy: 0.3333\n",
            "Epoch 125/200\n",
            "15/15 [==============================] - 0s 23ms/step - loss: 3.7039e-08 - accuracy: 1.0000 - val_loss: 10.3420 - val_accuracy: 0.3333\n",
            "Epoch 126/200\n",
            "15/15 [==============================] - 0s 23ms/step - loss: 3.4637e-08 - accuracy: 1.0000 - val_loss: 10.3813 - val_accuracy: 0.3333\n",
            "Epoch 127/200\n",
            "15/15 [==============================] - 0s 22ms/step - loss: 2.5883e-08 - accuracy: 1.0000 - val_loss: 10.4170 - val_accuracy: 0.3333\n",
            "Epoch 128/200\n",
            "15/15 [==============================] - 0s 23ms/step - loss: 5.3472e-08 - accuracy: 1.0000 - val_loss: 10.4550 - val_accuracy: 0.3333\n",
            "Epoch 129/200\n",
            "15/15 [==============================] - 0s 24ms/step - loss: 4.8181e-08 - accuracy: 1.0000 - val_loss: 10.4842 - val_accuracy: 0.3333\n",
            "Epoch 130/200\n",
            "15/15 [==============================] - 0s 23ms/step - loss: 3.8424e-08 - accuracy: 1.0000 - val_loss: 10.5036 - val_accuracy: 0.3333\n",
            "Epoch 131/200\n",
            "15/15 [==============================] - 0s 23ms/step - loss: 3.3163e-08 - accuracy: 1.0000 - val_loss: 10.5071 - val_accuracy: 0.3333\n",
            "Epoch 132/200\n",
            "15/15 [==============================] - 0s 23ms/step - loss: 2.7245e-08 - accuracy: 1.0000 - val_loss: 10.5649 - val_accuracy: 0.3333\n",
            "Epoch 133/200\n",
            "15/15 [==============================] - 0s 24ms/step - loss: 2.8772e-08 - accuracy: 1.0000 - val_loss: 10.5794 - val_accuracy: 0.3333\n",
            "Epoch 134/200\n",
            "15/15 [==============================] - 0s 24ms/step - loss: 1.9354e-08 - accuracy: 1.0000 - val_loss: 10.5984 - val_accuracy: 0.3333\n",
            "Epoch 135/200\n",
            "15/15 [==============================] - 0s 23ms/step - loss: 3.5022e-08 - accuracy: 1.0000 - val_loss: 10.6175 - val_accuracy: 0.3333\n",
            "Epoch 136/200\n",
            "15/15 [==============================] - 0s 22ms/step - loss: 2.9588e-08 - accuracy: 1.0000 - val_loss: 10.6155 - val_accuracy: 0.3333\n",
            "Epoch 137/200\n",
            "15/15 [==============================] - 0s 23ms/step - loss: 5.0805e-08 - accuracy: 1.0000 - val_loss: 10.6194 - val_accuracy: 0.3333\n",
            "Epoch 138/200\n",
            "15/15 [==============================] - 0s 22ms/step - loss: 3.2244e-08 - accuracy: 1.0000 - val_loss: 10.6339 - val_accuracy: 0.3333\n",
            "Epoch 139/200\n",
            "15/15 [==============================] - 0s 22ms/step - loss: 1.9399e-08 - accuracy: 1.0000 - val_loss: 10.6805 - val_accuracy: 0.3333\n",
            "Epoch 140/200\n",
            "15/15 [==============================] - 0s 23ms/step - loss: 1.9857e-08 - accuracy: 1.0000 - val_loss: 10.7077 - val_accuracy: 0.3333\n",
            "Epoch 141/200\n",
            "15/15 [==============================] - 0s 23ms/step - loss: 2.0459e-08 - accuracy: 1.0000 - val_loss: 10.7278 - val_accuracy: 0.3333\n",
            "Epoch 142/200\n",
            "15/15 [==============================] - 0s 23ms/step - loss: 2.8555e-08 - accuracy: 1.0000 - val_loss: 10.7418 - val_accuracy: 0.3333\n",
            "Epoch 143/200\n",
            "15/15 [==============================] - 0s 23ms/step - loss: 3.2894e-08 - accuracy: 1.0000 - val_loss: 10.7531 - val_accuracy: 0.3333\n",
            "Epoch 144/200\n",
            "15/15 [==============================] - 0s 23ms/step - loss: 1.9552e-08 - accuracy: 1.0000 - val_loss: 10.7332 - val_accuracy: 0.3333\n",
            "Epoch 145/200\n",
            "15/15 [==============================] - 0s 23ms/step - loss: 2.8350e-08 - accuracy: 1.0000 - val_loss: 10.7466 - val_accuracy: 0.3333\n",
            "Epoch 146/200\n",
            "15/15 [==============================] - 0s 24ms/step - loss: 2.6953e-08 - accuracy: 1.0000 - val_loss: 10.7531 - val_accuracy: 0.3333\n",
            "Epoch 147/200\n",
            "15/15 [==============================] - 0s 23ms/step - loss: 2.2515e-08 - accuracy: 1.0000 - val_loss: 10.7826 - val_accuracy: 0.3333\n",
            "Epoch 148/200\n",
            "15/15 [==============================] - 0s 31ms/step - loss: 2.5253e-08 - accuracy: 1.0000 - val_loss: 10.7320 - val_accuracy: 0.3333\n",
            "Epoch 149/200\n",
            "15/15 [==============================] - 0s 23ms/step - loss: 1.5754e-08 - accuracy: 1.0000 - val_loss: 10.7120 - val_accuracy: 0.3333\n",
            "Epoch 150/200\n",
            "15/15 [==============================] - 0s 23ms/step - loss: 2.0345e-08 - accuracy: 1.0000 - val_loss: 10.7002 - val_accuracy: 0.3333\n",
            "Epoch 151/200\n",
            "15/15 [==============================] - 0s 23ms/step - loss: 1.5582e-08 - accuracy: 1.0000 - val_loss: 10.7037 - val_accuracy: 0.3333\n",
            "Epoch 152/200\n",
            "15/15 [==============================] - 0s 23ms/step - loss: 1.1840e-08 - accuracy: 1.0000 - val_loss: 10.7032 - val_accuracy: 0.3333\n",
            "Epoch 153/200\n",
            "15/15 [==============================] - 0s 23ms/step - loss: 2.1093e-08 - accuracy: 1.0000 - val_loss: 10.7120 - val_accuracy: 0.3333\n",
            "Epoch 154/200\n",
            "15/15 [==============================] - 0s 23ms/step - loss: 2.5958e-08 - accuracy: 1.0000 - val_loss: 10.7092 - val_accuracy: 0.3333\n",
            "Epoch 155/200\n",
            "15/15 [==============================] - 0s 23ms/step - loss: 2.7233e-08 - accuracy: 1.0000 - val_loss: 10.7231 - val_accuracy: 0.3333\n",
            "Epoch 156/200\n",
            "15/15 [==============================] - 0s 23ms/step - loss: 1.9646e-08 - accuracy: 1.0000 - val_loss: 10.7357 - val_accuracy: 0.3333\n",
            "Epoch 157/200\n",
            "15/15 [==============================] - 0s 21ms/step - loss: 1.7220e-08 - accuracy: 1.0000 - val_loss: 10.7400 - val_accuracy: 0.3333\n",
            "Epoch 158/200\n",
            "15/15 [==============================] - 0s 22ms/step - loss: 2.0508e-08 - accuracy: 1.0000 - val_loss: 10.7334 - val_accuracy: 0.3333\n",
            "Epoch 159/200\n",
            "15/15 [==============================] - 0s 24ms/step - loss: 2.3702e-08 - accuracy: 1.0000 - val_loss: 10.7516 - val_accuracy: 0.3333\n",
            "Epoch 160/200\n",
            "15/15 [==============================] - 0s 21ms/step - loss: 9.7385e-09 - accuracy: 1.0000 - val_loss: 10.8001 - val_accuracy: 0.3333\n",
            "Epoch 161/200\n",
            "15/15 [==============================] - 0s 21ms/step - loss: 1.3568e-08 - accuracy: 1.0000 - val_loss: 10.8158 - val_accuracy: 0.3333\n",
            "Epoch 162/200\n",
            "15/15 [==============================] - 0s 23ms/step - loss: 1.6948e-08 - accuracy: 1.0000 - val_loss: 10.8147 - val_accuracy: 0.3333\n",
            "Epoch 163/200\n",
            "15/15 [==============================] - 0s 21ms/step - loss: 2.0549e-08 - accuracy: 1.0000 - val_loss: 10.8042 - val_accuracy: 0.3333\n",
            "Epoch 164/200\n",
            "15/15 [==============================] - 0s 22ms/step - loss: 1.1986e-08 - accuracy: 1.0000 - val_loss: 10.8099 - val_accuracy: 0.3333\n",
            "Epoch 165/200\n",
            "15/15 [==============================] - 0s 22ms/step - loss: 1.1247e-08 - accuracy: 1.0000 - val_loss: 10.8166 - val_accuracy: 0.3333\n",
            "Epoch 166/200\n",
            "15/15 [==============================] - 0s 21ms/step - loss: 1.7999e-08 - accuracy: 1.0000 - val_loss: 10.8216 - val_accuracy: 0.3333\n",
            "Epoch 167/200\n",
            "15/15 [==============================] - 0s 22ms/step - loss: 7.0246e-09 - accuracy: 1.0000 - val_loss: 10.8348 - val_accuracy: 0.3333\n",
            "Epoch 168/200\n",
            "15/15 [==============================] - 0s 24ms/step - loss: 4.3066e-09 - accuracy: 1.0000 - val_loss: 10.9013 - val_accuracy: 0.3333\n",
            "Epoch 169/200\n",
            "15/15 [==============================] - 0s 22ms/step - loss: 9.8471e-09 - accuracy: 1.0000 - val_loss: 10.8975 - val_accuracy: 0.3333\n",
            "Epoch 170/200\n",
            "15/15 [==============================] - 0s 22ms/step - loss: 1.1118e-08 - accuracy: 1.0000 - val_loss: 10.9073 - val_accuracy: 0.3333\n",
            "Epoch 171/200\n",
            "15/15 [==============================] - 0s 22ms/step - loss: 4.1508e-09 - accuracy: 1.0000 - val_loss: 10.9463 - val_accuracy: 0.3333\n",
            "Epoch 172/200\n",
            "15/15 [==============================] - 0s 23ms/step - loss: 8.5127e-09 - accuracy: 1.0000 - val_loss: 10.9864 - val_accuracy: 0.3333\n",
            "Epoch 173/200\n",
            "15/15 [==============================] - 0s 23ms/step - loss: 4.3046e-09 - accuracy: 1.0000 - val_loss: 11.0474 - val_accuracy: 0.3333\n",
            "Epoch 174/200\n",
            "15/15 [==============================] - 0s 23ms/step - loss: 1.3618e-09 - accuracy: 1.0000 - val_loss: 11.1011 - val_accuracy: 0.3333\n",
            "Epoch 175/200\n",
            "15/15 [==============================] - 0s 23ms/step - loss: 1.7166e-09 - accuracy: 1.0000 - val_loss: 11.1252 - val_accuracy: 0.3333\n",
            "Epoch 176/200\n",
            "15/15 [==============================] - 0s 23ms/step - loss: 6.6038e-09 - accuracy: 1.0000 - val_loss: 11.1152 - val_accuracy: 0.3333\n",
            "Epoch 177/200\n",
            "15/15 [==============================] - 0s 24ms/step - loss: 1.4151e-09 - accuracy: 1.0000 - val_loss: 11.1744 - val_accuracy: 0.3333\n",
            "Epoch 178/200\n",
            "15/15 [==============================] - 0s 23ms/step - loss: 1.0063e-08 - accuracy: 1.0000 - val_loss: 11.2171 - val_accuracy: 0.3333\n",
            "Epoch 179/200\n",
            "15/15 [==============================] - 0s 22ms/step - loss: 5.0595e-09 - accuracy: 1.0000 - val_loss: 11.2480 - val_accuracy: 0.3333\n",
            "Epoch 180/200\n",
            "15/15 [==============================] - 0s 22ms/step - loss: 5.8204e-09 - accuracy: 1.0000 - val_loss: 11.2549 - val_accuracy: 0.3333\n",
            "Epoch 181/200\n",
            "15/15 [==============================] - 0s 21ms/step - loss: 1.0725e-08 - accuracy: 1.0000 - val_loss: 11.3043 - val_accuracy: 0.3333\n",
            "Epoch 182/200\n",
            "15/15 [==============================] - 0s 23ms/step - loss: 2.6666e-09 - accuracy: 1.0000 - val_loss: 11.2861 - val_accuracy: 0.3333\n",
            "Epoch 183/200\n",
            "15/15 [==============================] - 0s 21ms/step - loss: 5.5543e-09 - accuracy: 1.0000 - val_loss: 11.3196 - val_accuracy: 0.3333\n",
            "Epoch 184/200\n",
            "15/15 [==============================] - 0s 22ms/step - loss: 5.1897e-09 - accuracy: 1.0000 - val_loss: 11.3504 - val_accuracy: 0.3333\n",
            "Epoch 185/200\n",
            "15/15 [==============================] - 0s 24ms/step - loss: 9.2891e-09 - accuracy: 1.0000 - val_loss: 11.3708 - val_accuracy: 0.3333\n",
            "Epoch 186/200\n",
            "15/15 [==============================] - 0s 22ms/step - loss: 3.3477e-09 - accuracy: 1.0000 - val_loss: 11.3457 - val_accuracy: 0.3333\n",
            "Epoch 187/200\n",
            "15/15 [==============================] - 0s 23ms/step - loss: 4.1390e-09 - accuracy: 1.0000 - val_loss: 11.3610 - val_accuracy: 0.3333\n",
            "Epoch 188/200\n",
            "15/15 [==============================] - 0s 24ms/step - loss: 8.5345e-09 - accuracy: 1.0000 - val_loss: 11.3651 - val_accuracy: 0.3333\n",
            "Epoch 189/200\n",
            "15/15 [==============================] - 0s 31ms/step - loss: 9.1554e-09 - accuracy: 1.0000 - val_loss: 11.3802 - val_accuracy: 0.3333\n",
            "Epoch 190/200\n",
            "15/15 [==============================] - 0s 24ms/step - loss: 2.1651e-09 - accuracy: 1.0000 - val_loss: 11.4383 - val_accuracy: 0.3333\n",
            "Epoch 191/200\n",
            "15/15 [==============================] - 0s 24ms/step - loss: 2.4756e-09 - accuracy: 1.0000 - val_loss: 11.4709 - val_accuracy: 0.3333\n",
            "Epoch 192/200\n",
            "15/15 [==============================] - 0s 23ms/step - loss: 4.5302e-09 - accuracy: 1.0000 - val_loss: 11.4071 - val_accuracy: 0.3333\n",
            "Epoch 193/200\n",
            "15/15 [==============================] - 0s 24ms/step - loss: 1.0063e-08 - accuracy: 1.0000 - val_loss: 11.3700 - val_accuracy: 0.3333\n",
            "Epoch 194/200\n",
            "15/15 [==============================] - 0s 23ms/step - loss: 3.2325e-09 - accuracy: 1.0000 - val_loss: 11.4145 - val_accuracy: 0.3333\n",
            "Epoch 195/200\n",
            "15/15 [==============================] - 0s 24ms/step - loss: 1.9877e-09 - accuracy: 1.0000 - val_loss: 11.4370 - val_accuracy: 0.3333\n",
            "Epoch 196/200\n",
            "15/15 [==============================] - 0s 23ms/step - loss: 8.6587e-09 - accuracy: 1.0000 - val_loss: 11.4375 - val_accuracy: 0.3333\n",
            "Epoch 197/200\n",
            "15/15 [==============================] - 0s 23ms/step - loss: 2.0388e-09 - accuracy: 1.0000 - val_loss: 11.4614 - val_accuracy: 0.3333\n",
            "Epoch 198/200\n",
            "15/15 [==============================] - 0s 23ms/step - loss: 3.0669e-09 - accuracy: 1.0000 - val_loss: 11.4518 - val_accuracy: 0.3333\n",
            "Epoch 199/200\n",
            "15/15 [==============================] - 0s 24ms/step - loss: 3.5636e-09 - accuracy: 1.0000 - val_loss: 11.4364 - val_accuracy: 0.3333\n",
            "Epoch 200/200\n",
            "15/15 [==============================] - 0s 23ms/step - loss: 4.3924e-09 - accuracy: 1.0000 - val_loss: 11.4550 - val_accuracy: 0.3333\n"
          ],
          "name": "stdout"
        }
      ]
    },
    {
      "cell_type": "markdown",
      "metadata": {
        "id": "6MEWyLtihev4"
      },
      "source": [
        "### 모델 평가하기"
      ]
    },
    {
      "cell_type": "code",
      "metadata": {
        "colab": {
          "base_uri": "https://localhost:8080/"
        },
        "id": "1hRl8PEPhQs6",
        "outputId": "dddf6994-6c91-443d-b3c6-b36525826936"
      },
      "source": [
        "print(\"--Evaluate--\")\r\n",
        "scores = model.evaluate_generator(test_generator, steps=5)\r\n",
        "print(\"%s: %.2f%%\"%(model.metrics_names[1], scores[1]*100));"
      ],
      "execution_count": 16,
      "outputs": [
        {
          "output_type": "stream",
          "text": [
            "--Evaluate--\n",
            "accuracy: 33.33%\n"
          ],
          "name": "stdout"
        },
        {
          "output_type": "stream",
          "text": [
            "/usr/local/lib/python3.6/dist-packages/tensorflow/python/keras/engine/training.py:1877: UserWarning: `Model.evaluate_generator` is deprecated and will be removed in a future version. Please use `Model.evaluate`, which supports generators.\n",
            "  warnings.warn('`Model.evaluate_generator` is deprecated and '\n"
          ],
          "name": "stderr"
        }
      ]
    },
    {
      "cell_type": "code",
      "metadata": {
        "id": "Gq5SmGuOhpR0"
      },
      "source": [
        ""
      ],
      "execution_count": null,
      "outputs": []
    }
  ]
}