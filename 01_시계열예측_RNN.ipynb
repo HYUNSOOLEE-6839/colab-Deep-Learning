{
  "nbformat": 4,
  "nbformat_minor": 0,
  "metadata": {
    "colab": {
      "name": "01_시계열예측-RNN.ipynb",
      "provenance": [],
      "collapsed_sections": [],
      "authorship_tag": "ABX9TyND1mw2e+1+gCbVVyCe/cRf",
      "include_colab_link": true
    },
    "kernelspec": {
      "name": "python3",
      "display_name": "Python 3"
    }
  },
  "cells": [
    {
      "cell_type": "markdown",
      "metadata": {
        "id": "view-in-github",
        "colab_type": "text"
      },
      "source": [
        "<a href=\"https://colab.research.google.com/github/HYUNSOOLEE-6839/colab-Deep-Learning/blob/main/01_%EC%8B%9C%EA%B3%84%EC%97%B4%EC%98%88%EC%B8%A1_RNN.ipynb\" target=\"_parent\"><img src=\"https://colab.research.google.com/assets/colab-badge.svg\" alt=\"Open In Colab\"/></a>"
      ]
    },
    {
      "cell_type": "markdown",
      "metadata": {
        "id": "S7DyTcyesDG3"
      },
      "source": [
        "# 시계열 예측문제\r\n",
        "- 사인파형 시계형을 입력으로 다음 스텝의 출력을 예측\r\n",
        "- 3개의 순서열을 입력한 후 출력값이 target과 일치하게 만듦"
      ]
    },
    {
      "cell_type": "code",
      "metadata": {
        "id": "knV7pB-tjcM1"
      },
      "source": [
        "import numpy as np\r\n",
        "import matplotlib.pyplot as plt\r\n",
        "%matplotlib inline"
      ],
      "execution_count": 2,
      "outputs": []
    },
    {
      "cell_type": "code",
      "metadata": {
        "colab": {
          "base_uri": "https://localhost:8080/",
          "height": 265
        },
        "id": "4sCGw5yNsbiA",
        "outputId": "bb823f86-127f-41e8-f638-6e666f4b2faa"
      },
      "source": [
        "s = np.sin(2 * np.pi * 0.125 * np.arange(20))\r\n",
        "plt.plot(s, 'ro-')\r\n",
        "plt.xlim(-0.5, 20.5)\r\n",
        "plt.ylim(-1.1, 1.1)\r\n",
        "plt.grid()\r\n",
        "plt.show()"
      ],
      "execution_count": 3,
      "outputs": [
        {
          "output_type": "display_data",
          "data": {
            "image/png": "[encoded data removed]",
            "text/plain": [
              "<Figure size 432x288 with 1 Axes>"
            ]
          },
          "metadata": {
            "tags": [],
            "needs_background": "light"
          }
        }
      ]
    },
    {
      "cell_type": "markdown",
      "metadata": {
        "id": "rMKxocdJsroj"
      },
      "source": [
        "### 원래의 시계열 벡터를 Toeplitz 행렬 형태로 변환\r\n",
        "- Toeplitz 행렬 : 대각선 위의 성분들이 같은 정사각  행렬"
      ]
    },
    {
      "cell_type": "code",
      "metadata": {
        "colab": {
          "base_uri": "https://localhost:8080/"
        },
        "id": "JnJaAVI-smAo",
        "outputId": "c4f424e2-b723-4787-8fdc-4a4c0857ff04"
      },
      "source": [
        "from scipy.linalg import toeplitz\r\n",
        "S = np.fliplr(toeplitz(np.r_[s[-1], np.zeros(s.shape[0] -2)], s[::-1]))\r\n",
        "S[:5, :3]"
      ],
      "execution_count": 4,
      "outputs": [
        {
          "output_type": "execute_result",
          "data": {
            "text/plain": [
              "array([[ 0.00000000e+00,  7.07106781e-01,  1.00000000e+00],\n",
              "       [ 7.07106781e-01,  1.00000000e+00,  7.07106781e-01],\n",
              "       [ 1.00000000e+00,  7.07106781e-01,  1.22464680e-16],\n",
              "       [ 7.07106781e-01,  1.22464680e-16, -7.07106781e-01],\n",
              "       [ 1.22464680e-16, -7.07106781e-01, -1.00000000e+00]])"
            ]
          },
          "metadata": {
            "tags": []
          },
          "execution_count": 4
        }
      ]
    },
    {
      "cell_type": "code",
      "metadata": {
        "colab": {
          "base_uri": "https://localhost:8080/"
        },
        "id": "ELEFriz_tGvY",
        "outputId": "4e3653a4-28ef-447a-e530-9dc0feeebf4a"
      },
      "source": [
        "X_train = S[:-1, :3][:, :, np.newaxis]\r\n",
        "Y_train = S[:-1, 3]\r\n",
        "X_train.shape, Y_train.shape\r\n",
        "# (18, 3, 1)의 의미 : input의 데이터 개수는 18개, 모양은 3,1"
      ],
      "execution_count": 17,
      "outputs": [
        {
          "output_type": "execute_result",
          "data": {
            "text/plain": [
              "((18, 3, 1), (18,))"
            ]
          },
          "metadata": {
            "tags": []
          },
          "execution_count": 17
        }
      ]
    },
    {
      "cell_type": "code",
      "metadata": {
        "colab": {
          "base_uri": "https://localhost:8080/",
          "height": 408
        },
        "id": "vOGoRSIatecz",
        "outputId": "0e6d10f2-a2e4-4ffe-91d9-f4c3de507b73"
      },
      "source": [
        "plt.figure(figsize=(10,6))\r\n",
        "\r\n",
        "plt.subplot(211)\r\n",
        "plt.plot([0,1,2], X_train[0].flatten(), 'bo-', label='input sequence')\r\n",
        "plt.plot([3], Y_train[0], 'ro', label='target')\r\n",
        "plt.xlim(-0.5,4.5)\r\n",
        "plt.ylim(-1.1, 1.1)\r\n",
        "plt.legend()\r\n",
        "plt.grid()\r\n",
        "plt.title(\"First sample sequence\")\r\n",
        "\r\n",
        "plt.subplot(212)\r\n",
        "plt.plot([1,2,3], X_train[1].flatten(), 'bo-', label='input sequence')\r\n",
        "plt.plot([4], Y_train[1], 'ro', label='target')\r\n",
        "plt.xlim(-0.5,4.5)\r\n",
        "plt.ylim(-1.1, 1.1)\r\n",
        "plt.legend()\r\n",
        "plt.grid()\r\n",
        "plt.title(\"First sample sequence\")"
      ],
      "execution_count": 12,
      "outputs": [
        {
          "output_type": "execute_result",
          "data": {
            "text/plain": [
              "Text(0.5, 1.0, 'First sample sequence')"
            ]
          },
          "metadata": {
            "tags": []
          },
          "execution_count": 12
        },
        {
          "output_type": "display_data",
          "data": {
            "image/png": "[encoded data removed]",
            "text/plain": [
              "<Figure size 720x432 with 2 Axes>"
            ]
          },
          "metadata": {
            "tags": [],
            "needs_background": "light"
          }
        }
      ]
    },
    {
      "cell_type": "markdown",
      "metadata": {
        "id": "zEUfKqpTyJXA"
      },
      "source": [
        "### 모델 정의\r\n",
        "- SimpleRNN Layer"
      ]
    },
    {
      "cell_type": "code",
      "metadata": {
        "id": "9kC67RDUx4GZ"
      },
      "source": [
        "import tensorflow as tf\r\n",
        "from tensorflow.keras.models import Sequential\r\n",
        "from tensorflow.keras.layers import SimpleRNN, Dense\r\n",
        "\r\n",
        "seed = 2020\r\n",
        "np.random.seed(seed)\r\n",
        "tf.random.set_seed(seed)"
      ],
      "execution_count": 15,
      "outputs": []
    },
    {
      "cell_type": "code",
      "metadata": {
        "colab": {
          "base_uri": "https://localhost:8080/"
        },
        "id": "ZGKBLoirydlE",
        "outputId": "d662dc66-16fd-4202-99d9-23293ee6661b"
      },
      "source": [
        "model = Sequential()\r\n",
        "model.add(SimpleRNN(10, input_shape=(3,1))) # (18, 3, 1)이였으므로 데이터 18개, 모양은 (3, 1) = X_train.shape[1:]\r\n",
        "model.add(Dense(1, activation=\"linear\"))\r\n",
        "model.summary()"
      ],
      "execution_count": 16,
      "outputs": [
        {
          "output_type": "stream",
          "text": [
            "Model: \"sequential\"\n",
            "_________________________________________________________________\n",
            "Layer (type)                 Output Shape              Param #   \n",
            "=================================================================\n",
            "simple_rnn (SimpleRNN)       (None, 10)                120       \n",
            "_________________________________________________________________\n",
            "dense (Dense)                (None, 1)                 11        \n",
            "=================================================================\n",
            "Total params: 131\n",
            "Trainable params: 131\n",
            "Non-trainable params: 0\n",
            "_________________________________________________________________\n"
          ],
          "name": "stdout"
        }
      ]
    },
    {
      "cell_type": "code",
      "metadata": {
        "id": "Ws9dmgfyyxnp"
      },
      "source": [
        "model.compile(loss='mse', optimizer='sgd')"
      ],
      "execution_count": 19,
      "outputs": []
    },
    {
      "cell_type": "code",
      "metadata": {
        "colab": {
          "base_uri": "https://localhost:8080/",
          "height": 281
        },
        "id": "TFZDHBT90LHv",
        "outputId": "00184036-7cf6-4bcc-dd4c-e054d40be3df"
      },
      "source": [
        "plt.plot(Y_train, 'ro-', label=\"target\")\r\n",
        "plt.plot(model.predict(X_train[:, :, :]), 'bs-', label='output')\r\n",
        "plt.xlim(-0.5, 20.5)\r\n",
        "plt.ylim(-1.1, 1.1)\r\n",
        "plt.legend()\r\n",
        "plt.title(\"Before training\")\r\n",
        "plt.show()"
      ],
      "execution_count": 20,
      "outputs": [
        {
          "output_type": "display_data",
          "data": {
            "image/png": "[encoded data removed]",
            "text/plain": [
              "<Figure size 432x288 with 1 Axes>"
            ]
          },
          "metadata": {
            "tags": [],
            "needs_background": "light"
          }
        }
      ]
    },
    {
      "cell_type": "code",
      "metadata": {
        "colab": {
          "base_uri": "https://localhost:8080/"
        },
        "id": "eDG83Cfj0fbn",
        "outputId": "986f5819-79d5-428b-e492-1568e7b52285"
      },
      "source": [
        "history = model.fit(X_train, Y_train, epochs=100)"
      ],
      "execution_count": 21,
      "outputs": [
        {
          "output_type": "stream",
          "text": [
            "Epoch 1/100\n",
            "1/1 [==============================] - 1s 772ms/step - loss: 0.5104\n",
            "Epoch 2/100\n",
            "1/1 [==============================] - 0s 10ms/step - loss: 0.4667\n",
            "Epoch 3/100\n",
            "1/1 [==============================] - 0s 4ms/step - loss: 0.4268\n",
            "Epoch 4/100\n",
            "1/1 [==============================] - 0s 10ms/step - loss: 0.3902\n",
            "Epoch 5/100\n",
            "1/1 [==============================] - 0s 4ms/step - loss: 0.3569\n",
            "Epoch 6/100\n",
            "1/1 [==============================] - 0s 4ms/step - loss: 0.3263\n",
            "Epoch 7/100\n",
            "1/1 [==============================] - 0s 7ms/step - loss: 0.2984\n",
            "Epoch 8/100\n",
            "1/1 [==============================] - 0s 8ms/step - loss: 0.2729\n",
            "Epoch 9/100\n",
            "1/1 [==============================] - 0s 8ms/step - loss: 0.2496\n",
            "Epoch 10/100\n",
            "1/1 [==============================] - 0s 8ms/step - loss: 0.2283\n",
            "Epoch 11/100\n",
            "1/1 [==============================] - 0s 7ms/step - loss: 0.2089\n",
            "Epoch 12/100\n",
            "1/1 [==============================] - 0s 6ms/step - loss: 0.1911\n",
            "Epoch 13/100\n",
            "1/1 [==============================] - 0s 14ms/step - loss: 0.1749\n",
            "Epoch 14/100\n",
            "1/1 [==============================] - 0s 4ms/step - loss: 0.1600\n",
            "Epoch 15/100\n",
            "1/1 [==============================] - 0s 4ms/step - loss: 0.1465\n",
            "Epoch 16/100\n",
            "1/1 [==============================] - 0s 7ms/step - loss: 0.1342\n",
            "Epoch 17/100\n",
            "1/1 [==============================] - 0s 4ms/step - loss: 0.1229\n",
            "Epoch 18/100\n",
            "1/1 [==============================] - 0s 6ms/step - loss: 0.1126\n",
            "Epoch 19/100\n",
            "1/1 [==============================] - 0s 5ms/step - loss: 0.1032\n",
            "Epoch 20/100\n",
            "1/1 [==============================] - 0s 5ms/step - loss: 0.0947\n",
            "Epoch 21/100\n",
            "1/1 [==============================] - 0s 7ms/step - loss: 0.0869\n",
            "Epoch 22/100\n",
            "1/1 [==============================] - 0s 6ms/step - loss: 0.0798\n",
            "Epoch 23/100\n",
            "1/1 [==============================] - 0s 5ms/step - loss: 0.0733\n",
            "Epoch 24/100\n",
            "1/1 [==============================] - 0s 5ms/step - loss: 0.0675\n",
            "Epoch 25/100\n",
            "1/1 [==============================] - 0s 4ms/step - loss: 0.0621\n",
            "Epoch 26/100\n",
            "1/1 [==============================] - 0s 6ms/step - loss: 0.0572\n",
            "Epoch 27/100\n",
            "1/1 [==============================] - 0s 4ms/step - loss: 0.0528\n",
            "Epoch 28/100\n",
            "1/1 [==============================] - 0s 4ms/step - loss: 0.0487\n",
            "Epoch 29/100\n",
            "1/1 [==============================] - 0s 4ms/step - loss: 0.0450\n",
            "Epoch 30/100\n",
            "1/1 [==============================] - 0s 4ms/step - loss: 0.0417\n",
            "Epoch 31/100\n",
            "1/1 [==============================] - 0s 6ms/step - loss: 0.0386\n",
            "Epoch 32/100\n",
            "1/1 [==============================] - 0s 5ms/step - loss: 0.0359\n",
            "Epoch 33/100\n",
            "1/1 [==============================] - 0s 7ms/step - loss: 0.0334\n",
            "Epoch 34/100\n",
            "1/1 [==============================] - 0s 5ms/step - loss: 0.0311\n",
            "Epoch 35/100\n",
            "1/1 [==============================] - 0s 4ms/step - loss: 0.0290\n",
            "Epoch 36/100\n",
            "1/1 [==============================] - 0s 6ms/step - loss: 0.0271\n",
            "Epoch 37/100\n",
            "1/1 [==============================] - 0s 4ms/step - loss: 0.0254\n",
            "Epoch 38/100\n",
            "1/1 [==============================] - 0s 4ms/step - loss: 0.0238\n",
            "Epoch 39/100\n",
            "1/1 [==============================] - 0s 5ms/step - loss: 0.0224\n",
            "Epoch 40/100\n",
            "1/1 [==============================] - 0s 8ms/step - loss: 0.0211\n",
            "Epoch 41/100\n",
            "1/1 [==============================] - 0s 4ms/step - loss: 0.0199\n",
            "Epoch 42/100\n",
            "1/1 [==============================] - 0s 4ms/step - loss: 0.0188\n",
            "Epoch 43/100\n",
            "1/1 [==============================] - 0s 4ms/step - loss: 0.0178\n",
            "Epoch 44/100\n",
            "1/1 [==============================] - 0s 4ms/step - loss: 0.0169\n",
            "Epoch 45/100\n",
            "1/1 [==============================] - 0s 4ms/step - loss: 0.0161\n",
            "Epoch 46/100\n",
            "1/1 [==============================] - 0s 4ms/step - loss: 0.0154\n",
            "Epoch 47/100\n",
            "1/1 [==============================] - 0s 4ms/step - loss: 0.0147\n",
            "Epoch 48/100\n",
            "1/1 [==============================] - 0s 5ms/step - loss: 0.0141\n",
            "Epoch 49/100\n",
            "1/1 [==============================] - 0s 4ms/step - loss: 0.0136\n",
            "Epoch 50/100\n",
            "1/1 [==============================] - 0s 6ms/step - loss: 0.0131\n",
            "Epoch 51/100\n",
            "1/1 [==============================] - 0s 5ms/step - loss: 0.0126\n",
            "Epoch 52/100\n",
            "1/1 [==============================] - 0s 8ms/step - loss: 0.0122\n",
            "Epoch 53/100\n",
            "1/1 [==============================] - 0s 6ms/step - loss: 0.0118\n",
            "Epoch 54/100\n",
            "1/1 [==============================] - 0s 6ms/step - loss: 0.0114\n",
            "Epoch 55/100\n",
            "1/1 [==============================] - 0s 6ms/step - loss: 0.0111\n",
            "Epoch 56/100\n",
            "1/1 [==============================] - 0s 6ms/step - loss: 0.0108\n",
            "Epoch 57/100\n",
            "1/1 [==============================] - 0s 6ms/step - loss: 0.0105\n",
            "Epoch 58/100\n",
            "1/1 [==============================] - 0s 9ms/step - loss: 0.0103\n",
            "Epoch 59/100\n",
            "1/1 [==============================] - 0s 6ms/step - loss: 0.0101\n",
            "Epoch 60/100\n",
            "1/1 [==============================] - 0s 6ms/step - loss: 0.0099\n",
            "Epoch 61/100\n",
            "1/1 [==============================] - 0s 5ms/step - loss: 0.0097\n",
            "Epoch 62/100\n",
            "1/1 [==============================] - 0s 5ms/step - loss: 0.0095\n",
            "Epoch 63/100\n",
            "1/1 [==============================] - 0s 8ms/step - loss: 0.0093\n",
            "Epoch 64/100\n",
            "1/1 [==============================] - 0s 5ms/step - loss: 0.0092\n",
            "Epoch 65/100\n",
            "1/1 [==============================] - 0s 5ms/step - loss: 0.0090\n",
            "Epoch 66/100\n",
            "1/1 [==============================] - 0s 6ms/step - loss: 0.0089\n",
            "Epoch 67/100\n",
            "1/1 [==============================] - 0s 6ms/step - loss: 0.0088\n",
            "Epoch 68/100\n",
            "1/1 [==============================] - 0s 6ms/step - loss: 0.0087\n",
            "Epoch 69/100\n",
            "1/1 [==============================] - 0s 10ms/step - loss: 0.0086\n",
            "Epoch 70/100\n",
            "1/1 [==============================] - 0s 14ms/step - loss: 0.0085\n",
            "Epoch 71/100\n",
            "1/1 [==============================] - 0s 8ms/step - loss: 0.0084\n",
            "Epoch 72/100\n",
            "1/1 [==============================] - 0s 8ms/step - loss: 0.0083\n",
            "Epoch 73/100\n",
            "1/1 [==============================] - 0s 6ms/step - loss: 0.0082\n",
            "Epoch 74/100\n",
            "1/1 [==============================] - 0s 8ms/step - loss: 0.0081\n",
            "Epoch 75/100\n",
            "1/1 [==============================] - 0s 5ms/step - loss: 0.0081\n",
            "Epoch 76/100\n",
            "1/1 [==============================] - 0s 6ms/step - loss: 0.0080\n",
            "Epoch 77/100\n",
            "1/1 [==============================] - 0s 9ms/step - loss: 0.0079\n",
            "Epoch 78/100\n",
            "1/1 [==============================] - 0s 6ms/step - loss: 0.0079\n",
            "Epoch 79/100\n",
            "1/1 [==============================] - 0s 6ms/step - loss: 0.0078\n",
            "Epoch 80/100\n",
            "1/1 [==============================] - 0s 10ms/step - loss: 0.0078\n",
            "Epoch 81/100\n",
            "1/1 [==============================] - 0s 8ms/step - loss: 0.0077\n",
            "Epoch 82/100\n",
            "1/1 [==============================] - 0s 7ms/step - loss: 0.0077\n",
            "Epoch 83/100\n",
            "1/1 [==============================] - 0s 11ms/step - loss: 0.0076\n",
            "Epoch 84/100\n",
            "1/1 [==============================] - 0s 7ms/step - loss: 0.0076\n",
            "Epoch 85/100\n",
            "1/1 [==============================] - 0s 6ms/step - loss: 0.0075\n",
            "Epoch 86/100\n",
            "1/1 [==============================] - 0s 5ms/step - loss: 0.0075\n",
            "Epoch 87/100\n",
            "1/1 [==============================] - 0s 14ms/step - loss: 0.0074\n",
            "Epoch 88/100\n",
            "1/1 [==============================] - 0s 7ms/step - loss: 0.0074\n",
            "Epoch 89/100\n",
            "1/1 [==============================] - 0s 9ms/step - loss: 0.0074\n",
            "Epoch 90/100\n",
            "1/1 [==============================] - 0s 14ms/step - loss: 0.0073\n",
            "Epoch 91/100\n",
            "1/1 [==============================] - 0s 11ms/step - loss: 0.0073\n",
            "Epoch 92/100\n",
            "1/1 [==============================] - 0s 5ms/step - loss: 0.0073\n",
            "Epoch 93/100\n",
            "1/1 [==============================] - 0s 6ms/step - loss: 0.0072\n",
            "Epoch 94/100\n",
            "1/1 [==============================] - 0s 6ms/step - loss: 0.0072\n",
            "Epoch 95/100\n",
            "1/1 [==============================] - 0s 6ms/step - loss: 0.0072\n",
            "Epoch 96/100\n",
            "1/1 [==============================] - 0s 11ms/step - loss: 0.0071\n",
            "Epoch 97/100\n",
            "1/1 [==============================] - 0s 10ms/step - loss: 0.0071\n",
            "Epoch 98/100\n",
            "1/1 [==============================] - 0s 7ms/step - loss: 0.0071\n",
            "Epoch 99/100\n",
            "1/1 [==============================] - 0s 7ms/step - loss: 0.0070\n",
            "Epoch 100/100\n",
            "1/1 [==============================] - 0s 4ms/step - loss: 0.0070\n"
          ],
          "name": "stdout"
        }
      ]
    },
    {
      "cell_type": "markdown",
      "metadata": {
        "id": "6jzj-xyr1Bdp"
      },
      "source": [
        "### 결과 확인"
      ]
    },
    {
      "cell_type": "code",
      "metadata": {
        "colab": {
          "base_uri": "https://localhost:8080/",
          "height": 281
        },
        "id": "eQh2g73G0xmg",
        "outputId": "916fad28-030d-4ce7-8966-7836e49248b0"
      },
      "source": [
        "plt.plot(history.history['loss'])\r\n",
        "plt.title(\"Loss\")\r\n",
        "plt.show()"
      ],
      "execution_count": 22,
      "outputs": [
        {
          "output_type": "display_data",
          "data": {
            "image/png": "[encoded data removed]",
            "text/plain": [
              "<Figure size 432x288 with 1 Axes>"
            ]
          },
          "metadata": {
            "tags": [],
            "needs_background": "light"
          }
        }
      ]
    },
    {
      "cell_type": "code",
      "metadata": {
        "colab": {
          "base_uri": "https://localhost:8080/",
          "height": 281
        },
        "id": "2ljU_-y11FSq",
        "outputId": "b652662f-154b-4538-d457-1a3dbd7c64f3"
      },
      "source": [
        "plt.plot(Y_train, 'ro-', label=\"target\")\r\n",
        "plt.plot(model.predict(X_train[:, :, :]), 'bs-', label='output')\r\n",
        "plt.xlim(-0.5, 20.5)\r\n",
        "plt.ylim(-1.1, 1.1)\r\n",
        "plt.legend()\r\n",
        "plt.title(\"After training\")\r\n",
        "plt.show()"
      ],
      "execution_count": 24,
      "outputs": [
        {
          "output_type": "display_data",
          "data": {
            "image/png": "[encoded data removed]",
            "text/plain": [
              "<Figure size 432x288 with 1 Axes>"
            ]
          },
          "metadata": {
            "tags": [],
            "needs_background": "light"
          }
        }
      ]
    },
    {
      "cell_type": "code",
      "metadata": {
        "colab": {
          "base_uri": "https://localhost:8080/"
        },
        "id": "Wwx6kPBw1SOC",
        "outputId": "aca93ffd-f42d-4239-fa2a-70234b735880"
      },
      "source": [
        "# 입력에 대한 weights\r\n",
        "model.weights[0]"
      ],
      "execution_count": 25,
      "outputs": [
        {
          "output_type": "execute_result",
          "data": {
            "text/plain": [
              "<tf.Variable 'simple_rnn/simple_rnn_cell/kernel:0' shape=(1, 10) dtype=float32, numpy=\n",
              "array([[ 0.30862445,  0.7117529 , -0.6130492 , -0.36555988,  0.4611158 ,\n",
              "         0.37739295, -0.19353554, -0.12169536,  0.3473942 ,  0.5977975 ]],\n",
              "      dtype=float32)>"
            ]
          },
          "metadata": {
            "tags": []
          },
          "execution_count": 25
        }
      ]
    },
    {
      "cell_type": "code",
      "metadata": {
        "colab": {
          "base_uri": "https://localhost:8080/"
        },
        "id": "RBcvE-TY2oQd",
        "outputId": "d44ef769-860a-4191-afc2-b493ce0e62d5"
      },
      "source": [
        "# 모델에 대한 weights\r\n",
        "model.weights[1]"
      ],
      "execution_count": 26,
      "outputs": [
        {
          "output_type": "execute_result",
          "data": {
            "text/plain": [
              "<tf.Variable 'simple_rnn/simple_rnn_cell/recurrent_kernel:0' shape=(10, 10) dtype=float32, numpy=\n",
              "array([[ 0.06934842, -0.260522  , -0.2382448 , -0.2310189 ,  0.49190584,\n",
              "        -0.38576186, -0.60118014,  0.11631072, -0.12117756,  0.23326336],\n",
              "       [-0.11500636,  0.7572261 ,  0.27100447, -0.25619426,  0.24075669,\n",
              "         0.3181762 , -0.22196871,  0.25620675, -0.13122626,  0.2407589 ],\n",
              "       [ 0.17351423, -0.16972162,  0.40084606, -0.5587735 , -0.02543789,\n",
              "        -0.01781102,  0.16237575, -0.29325387,  0.5185392 ,  0.2938797 ],\n",
              "       [-0.32906324, -0.05366785,  0.16397947,  0.14567748, -0.0062977 ,\n",
              "         0.25066757, -0.53531605, -0.6660146 , -0.00197653, -0.19932783],\n",
              "       [ 0.03410033,  0.432653  , -0.2144774 , -0.51093405, -0.2560388 ,\n",
              "        -0.45378494,  0.08882508, -0.34057575, -0.24174643, -0.32794157],\n",
              "       [ 0.2194342 ,  0.28148443, -0.13897175,  0.26526195,  0.44898033,\n",
              "        -0.06334534, -0.01309646, -0.06822743,  0.6119689 , -0.4041945 ],\n",
              "       [-0.03226448,  0.02991365, -0.56611776,  0.07459129,  0.13307744,\n",
              "         0.26761222,  0.286307  , -0.47690317,  0.03737377,  0.54244035],\n",
              "       [ 0.17232078,  0.2239131 ,  0.45877275,  0.4284508 ,  0.08476587,\n",
              "        -0.55483466,  0.16464451, -0.29903442, -0.19283822,  0.34343183],\n",
              "       [-0.916305  , -0.04207362,  0.00774783, -0.02110186,  0.25299427,\n",
              "        -0.25771654,  0.2145354 ,  0.15707432,  0.1652843 , -0.0259342 ],\n",
              "       [ 0.02525665, -0.20688017,  0.19086696, -0.16924465,  0.6696122 ,\n",
              "         0.24920647,  0.33380508, -0.06932977, -0.49394274, -0.36193967]],\n",
              "      dtype=float32)>"
            ]
          },
          "metadata": {
            "tags": []
          },
          "execution_count": 26
        }
      ]
    },
    {
      "cell_type": "code",
      "metadata": {
        "colab": {
          "base_uri": "https://localhost:8080/"
        },
        "id": "Y-GA1BxP2qkk",
        "outputId": "a84cc692-634b-41ef-f5dd-65f47ebb5092"
      },
      "source": [
        "# bias\r\n",
        "model.weights[2]"
      ],
      "execution_count": 27,
      "outputs": [
        {
          "output_type": "execute_result",
          "data": {
            "text/plain": [
              "<tf.Variable 'simple_rnn/simple_rnn_cell/bias:0' shape=(10,) dtype=float32, numpy=\n",
              "array([-0.0046956 ,  0.00101527, -0.00204912,  0.00203127, -0.00357565,\n",
              "       -0.00351529, -0.0044837 ,  0.00127765, -0.00156704, -0.00880719],\n",
              "      dtype=float32)>"
            ]
          },
          "metadata": {
            "tags": []
          },
          "execution_count": 27
        }
      ]
    },
    {
      "cell_type": "code",
      "metadata": {
        "colab": {
          "base_uri": "https://localhost:8080/"
        },
        "id": "V5G1tBm12sfM",
        "outputId": "08e19473-e4cd-4478-ccc3-eec59940a4e2"
      },
      "source": [
        "# output layer에 대한 weights\r\n",
        "model.weights[3]"
      ],
      "execution_count": 29,
      "outputs": [
        {
          "output_type": "execute_result",
          "data": {
            "text/plain": [
              "<tf.Variable 'dense/kernel:0' shape=(10, 1) dtype=float32, numpy=\n",
              "array([[-0.69742364],\n",
              "       [-0.42091635],\n",
              "       [-0.7378103 ],\n",
              "       [ 0.64538383],\n",
              "       [ 0.7566348 ],\n",
              "       [ 0.71418303],\n",
              "       [-0.22637266],\n",
              "       [ 0.4049217 ],\n",
              "       [-0.39985362],\n",
              "       [-0.19067319]], dtype=float32)>"
            ]
          },
          "metadata": {
            "tags": []
          },
          "execution_count": 29
        }
      ]
    },
    {
      "cell_type": "code",
      "metadata": {
        "id": "uYWZhSSH3a94"
      },
      "source": [
        "# 입력에 대한 weights\r\n",
        "model.weights[4]"
      ],
      "execution_count": null,
      "outputs": []
    }
  ]
}